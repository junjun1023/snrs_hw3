{
 "cells": [
  {
   "cell_type": "code",
   "execution_count": 1,
   "id": "published-repository",
   "metadata": {},
   "outputs": [],
   "source": [
    "import os\n",
    "import numpy as np\n",
    "import pandas as pd\n",
    "\n",
    "from scipy.sparse import csr_matrix\n",
    "\n",
    "from tqdm import tqdm\n",
    "\n",
    "from sklearn.preprocessing import LabelEncoder, MinMaxScaler\n",
    "from sklearn.model_selection import KFold, train_test_split\n",
    "from sklearn.metrics import mean_squared_error, ndcg_score, recall_score\n",
    "from tensorflow.python.keras.preprocessing.sequence import pad_sequences"
   ]
  },
  {
   "cell_type": "code",
   "execution_count": 2,
   "id": "seven-flesh",
   "metadata": {},
   "outputs": [],
   "source": [
    "import torch\n",
    "import torch.nn as nn\n",
    "import torch.functional as F\n",
    "\n",
    "from deepctr_torch.inputs import SparseFeat, VarLenSparseFeat, get_feature_names"
   ]
  },
  {
   "cell_type": "code",
   "execution_count": 3,
   "id": "specific-typing",
   "metadata": {},
   "outputs": [],
   "source": [
    "from deepctr_torch.models import DIN\n",
    "from deepctr_torch.models import AFM\n",
    "from deepctr_torch.models import WDL\n",
    "from deepctr_torch.models import xDeepFM\n",
    "from deepctr_torch.models import DeepFM\n",
    "from deepctr_torch.models import PNN\n",
    "from deepctr_torch.models import DCN\n",
    "from deepctr_torch.models import CCPM"
   ]
  },
  {
   "cell_type": "code",
   "execution_count": 4,
   "id": "turkish-thickness",
   "metadata": {},
   "outputs": [],
   "source": [
    "import utils"
   ]
  },
  {
   "cell_type": "code",
   "execution_count": 5,
   "id": "laden-certificate",
   "metadata": {},
   "outputs": [
    {
     "name": "stdout",
     "output_type": "stream",
     "text": [
      "cuda ready...\n"
     ]
    }
   ],
   "source": [
    "device = 'cpu'\n",
    "use_cuda = True\n",
    "if use_cuda and torch.cuda.is_available():\n",
    "    print('cuda ready...')\n",
    "    device = 'cuda:1'\n",
    "\n",
    "root = os.path.join(os.getcwd(), \"Movielens\")\n",
    "rel_p = os.path.join(root, \"user_movie.dat\")\n",
    "\n",
    "user_cnt = 943"
   ]
  },
  {
   "cell_type": "markdown",
   "id": "adjustable-diesel",
   "metadata": {},
   "source": [
    "### User"
   ]
  },
  {
   "cell_type": "code",
   "execution_count": 6,
   "id": "numeric-victory",
   "metadata": {
    "scrolled": true
   },
   "outputs": [],
   "source": [
    "age, age_i, age_m = utils.m2m_to_list(os.path.join(os.getcwd(), \"Movielens\", \"user_age.dat\"), user_cnt=user_cnt)\n",
    "occupation, occupation_i, occupation_m = utils.m2m_to_list(os.path.join(os.getcwd(), \"Movielens\", \"user_occupation.dat\"), user_cnt=user_cnt)\n",
    "# user, user_i, user_m = utils.m2m_to_list(os.path.join(os.getcwd(), \"Movielens\", \"user_user.dat\"), user_cnt=user_cnt)"
   ]
  },
  {
   "cell_type": "markdown",
   "id": "textile-tomato",
   "metadata": {},
   "source": [
    "### Book"
   ]
  },
  {
   "cell_type": "code",
   "execution_count": 7,
   "id": "secure-person",
   "metadata": {},
   "outputs": [],
   "source": [
    "genre, genre_i, genre_m = utils.m2m_to_list(os.path.join(os.getcwd(), \"Movielens\", \"movie_genre.dat\"), user_cnt=1682)\n",
    "# publisher, publisher_i, publisher_m = utils.m2m_to_list(os.path.join(os.getcwd(), \"Movielens\", \"book_publisher.dat\"), user_cnt=user_cnt)\n",
    "# author, author_i, author_m = utils.m2m_to_list(os.path.join(os.getcwd(), \"Movielens\", \"book_author.dat\"), user_cnt=user_cnt)"
   ]
  },
  {
   "cell_type": "markdown",
   "id": "suitable-karma",
   "metadata": {},
   "source": [
    "### Interact"
   ]
  },
  {
   "cell_type": "code",
   "execution_count": 8,
   "id": "atlantic-excellence",
   "metadata": {},
   "outputs": [],
   "source": [
    "sparse_features = [\"cols_0\", \"cols_1\"] # user_id, movie_id\n",
    "rating = \"cols_2\""
   ]
  },
  {
   "cell_type": "code",
   "execution_count": 9,
   "id": "color-peninsula",
   "metadata": {},
   "outputs": [
    {
     "data": {
      "text/html": [
       "<div>\n",
       "<style scoped>\n",
       "    .dataframe tbody tr th:only-of-type {\n",
       "        vertical-align: middle;\n",
       "    }\n",
       "\n",
       "    .dataframe tbody tr th {\n",
       "        vertical-align: top;\n",
       "    }\n",
       "\n",
       "    .dataframe thead th {\n",
       "        text-align: right;\n",
       "    }\n",
       "</style>\n",
       "<table border=\"1\" class=\"dataframe\">\n",
       "  <thead>\n",
       "    <tr style=\"text-align: right;\">\n",
       "      <th></th>\n",
       "      <th>cols_0</th>\n",
       "      <th>cols_1</th>\n",
       "      <th>cols_2</th>\n",
       "      <th>cols_3</th>\n",
       "    </tr>\n",
       "  </thead>\n",
       "  <tbody>\n",
       "    <tr>\n",
       "      <th>0</th>\n",
       "      <td>196</td>\n",
       "      <td>242</td>\n",
       "      <td>3</td>\n",
       "      <td>881250949</td>\n",
       "    </tr>\n",
       "    <tr>\n",
       "      <th>1</th>\n",
       "      <td>186</td>\n",
       "      <td>302</td>\n",
       "      <td>3</td>\n",
       "      <td>891717742</td>\n",
       "    </tr>\n",
       "    <tr>\n",
       "      <th>2</th>\n",
       "      <td>22</td>\n",
       "      <td>377</td>\n",
       "      <td>1</td>\n",
       "      <td>878887116</td>\n",
       "    </tr>\n",
       "    <tr>\n",
       "      <th>3</th>\n",
       "      <td>244</td>\n",
       "      <td>51</td>\n",
       "      <td>2</td>\n",
       "      <td>880606923</td>\n",
       "    </tr>\n",
       "    <tr>\n",
       "      <th>4</th>\n",
       "      <td>166</td>\n",
       "      <td>346</td>\n",
       "      <td>1</td>\n",
       "      <td>886397596</td>\n",
       "    </tr>\n",
       "  </tbody>\n",
       "</table>\n",
       "</div>"
      ],
      "text/plain": [
       "   cols_0  cols_1  cols_2     cols_3\n",
       "0     196     242       3  881250949\n",
       "1     186     302       3  891717742\n",
       "2      22     377       1  878887116\n",
       "3     244      51       2  880606923\n",
       "4     166     346       1  886397596"
      ]
     },
     "execution_count": 9,
     "metadata": {},
     "output_type": "execute_result"
    }
   ],
   "source": [
    "rel = utils.read_file(rel_p)\n",
    "rel.head()"
   ]
  },
  {
   "cell_type": "code",
   "execution_count": 10,
   "id": "moved-gazette",
   "metadata": {},
   "outputs": [],
   "source": [
    "_age = age[rel.cols_0 -1]\n",
    "_occupation = occupation[rel.cols_0 -1]\n",
    "# _user = user[rel.cols_0 -1]\n",
    "\n",
    "_genre = genre[rel.cols_1 -1]\n",
    "# _publisher = publisher[rel.cols_1 -1]\n",
    "# _author = author[rel.cols_1 -1]"
   ]
  },
  {
   "cell_type": "code",
   "execution_count": 11,
   "id": "transsexual-grade",
   "metadata": {},
   "outputs": [],
   "source": [
    "# 1.Label Encoding for sparse features,and process sequence features\n",
    "for feat in sparse_features:\n",
    "    lbe = LabelEncoder()\n",
    "    rel[feat] = lbe.fit_transform(rel[feat])"
   ]
  },
  {
   "cell_type": "code",
   "execution_count": 12,
   "id": "disciplinary-beach",
   "metadata": {},
   "outputs": [],
   "source": [
    "fixlen_feature_columns = [SparseFeat(feat, rel[feat].nunique(), embedding_dim=4) for feat in sparse_features]\n",
    "\n",
    "varlen_feature_columns = [\n",
    "    VarLenSparseFeat(SparseFeat('age', vocabulary_size=age_i + 1, embedding_dim=4), maxlen=age_m, combiner='mean'),\n",
    "    VarLenSparseFeat(SparseFeat('occupation', vocabulary_size=occupation_i + 1, embedding_dim=4), maxlen=occupation_m, combiner='mean'),\n",
    "#     VarLenSparseFeat(SparseFeat('user', vocabulary_size=13024 + 1, embedding_dim=4), maxlen=user_m, combiner='mean'),\n",
    "    \n",
    "    VarLenSparseFeat(SparseFeat('genre', vocabulary_size=genre_i + 1, embedding_dim=4), maxlen=genre_m, combiner='mean'),\n",
    "#     VarLenSparseFeat(SparseFeat('publisher', vocabulary_size=publisher_i + 1, embedding_dim=4), maxlen=publisher_m, combiner='mean'),\n",
    "#     VarLenSparseFeat(SparseFeat('author', vocabulary_size=author_i + 1, embedding_dim=4), maxlen=author_m, combiner='mean')\n",
    "]"
   ]
  },
  {
   "cell_type": "code",
   "execution_count": 13,
   "id": "clean-tuition",
   "metadata": {},
   "outputs": [],
   "source": [
    "linear_feature_columns = fixlen_feature_columns + varlen_feature_columns\n",
    "dnn_feature_columns = fixlen_feature_columns + varlen_feature_columns\n",
    "\n",
    "feature_names = get_feature_names(linear_feature_columns + dnn_feature_columns)"
   ]
  },
  {
   "cell_type": "code",
   "execution_count": null,
   "id": "noble-representation",
   "metadata": {},
   "outputs": [],
   "source": []
  },
  {
   "cell_type": "code",
   "execution_count": 14,
   "id": "proud-registrar",
   "metadata": {},
   "outputs": [],
   "source": [
    "k = 5\n",
    "kf = KFold(n_splits=5)"
   ]
  },
  {
   "cell_type": "code",
   "execution_count": 15,
   "id": "consecutive-daughter",
   "metadata": {},
   "outputs": [],
   "source": [
    "deepfm_mse = 0\n",
    "ccpm_mse = 0\n",
    "ipnn_mse = 0\n",
    "opnn_mse = 0\n",
    "wdl_mse = 0\n",
    "dcn_mse = 0\n",
    "xdeepfm_mse = 0\n",
    "afm_mse = 0\n",
    "din_mse = 0"
   ]
  },
  {
   "cell_type": "code",
   "execution_count": 16,
   "id": "sustained-projector",
   "metadata": {},
   "outputs": [],
   "source": [
    "deepfm_recall = 0\n",
    "ccpm_recall = 0\n",
    "ipnn_recall = 0\n",
    "opnn_recall = 0\n",
    "wdl_recall = 0\n",
    "dcn_recall = 0\n",
    "xdeepfm_recall = 0\n",
    "afm_recall = 0\n",
    "din_recall = 0"
   ]
  },
  {
   "cell_type": "code",
   "execution_count": 17,
   "id": "about-breach",
   "metadata": {},
   "outputs": [],
   "source": [
    "deepfm_ndcg = 0\n",
    "ccpm_ndcg = 0\n",
    "ipnn_ndcg = 0\n",
    "opnn_ndcg = 0\n",
    "wdl_ndcg = 0\n",
    "dcn_ndcg = 0\n",
    "xdeepfm_ndcg = 0\n",
    "afm_ndcg = 0\n",
    "din_ndcg = 0"
   ]
  },
  {
   "cell_type": "code",
   "execution_count": 18,
   "id": "optical-strengthening",
   "metadata": {},
   "outputs": [
    {
     "name": "stdout",
     "output_type": "stream",
     "text": [
      "========================== 1 Fold ==============================\n",
      "\n",
      "\n",
      "\n",
      "\n",
      " Training DeepFM \n",
      "\n",
      "cuda:1\n",
      "Train on 72000 samples, validate on 8000 samples, 282 steps per epoch\n",
      "Epoch 1/10\n",
      "8s - loss:  1.9275 - mse:  1.9250 - val_mse:  0.9113\n",
      "Epoch 2/10\n",
      "8s - loss:  0.8755 - mse:  0.8764 - val_mse:  0.8930\n",
      "Epoch 3/10\n",
      "8s - loss:  0.8606 - mse:  0.8610 - val_mse:  0.8880\n",
      "Epoch 4/10\n",
      "20s - loss:  0.8559 - mse:  0.8559 - val_mse:  0.8896\n",
      "Epoch 5/10\n",
      "7s - loss:  0.8537 - mse:  0.8532 - val_mse:  0.8907\n",
      "Epoch 6/10\n",
      "8s - loss:  0.8519 - mse:  0.8517 - val_mse:  0.8949\n",
      "Epoch 7/10\n",
      "7s - loss:  0.8501 - mse:  0.8499 - val_mse:  0.8883\n",
      "Epoch 8/10\n",
      "13s - loss:  0.8491 - mse:  0.8493 - val_mse:  0.8911\n",
      "Epoch 9/10\n",
      "14s - loss:  0.8491 - mse:  0.8491 - val_mse:  0.8894\n",
      "Epoch 10/10\n",
      "8s - loss:  0.8484 - mse:  0.8478 - val_mse:  0.8898\n",
      "\n",
      "\n",
      " Training CCPM \n",
      "\n",
      "cuda:1\n",
      "Train on 72000 samples, validate on 8000 samples, 282 steps per epoch\n",
      "Epoch 1/10\n",
      "8s - loss:  2.0542 - mse:  2.0521 - val_mse:  1.0796\n",
      "Epoch 2/10\n",
      "10s - loss:  0.9326 - mse:  0.9336 - val_mse:  0.9061\n",
      "Epoch 3/10\n",
      "17s - loss:  0.8612 - mse:  0.8615 - val_mse:  0.8896\n",
      "Epoch 4/10\n",
      "8s - loss:  0.8486 - mse:  0.8489 - val_mse:  0.8835\n",
      "Epoch 5/10\n",
      "8s - loss:  0.8424 - mse:  0.8420 - val_mse:  0.8887\n",
      "Epoch 6/10\n",
      "8s - loss:  0.8390 - mse:  0.8387 - val_mse:  0.8828\n",
      "Epoch 7/10\n",
      "20s - loss:  0.8367 - mse:  0.8372 - val_mse:  0.8839\n",
      "Epoch 8/10\n",
      "8s - loss:  0.8349 - mse:  0.8351 - val_mse:  0.8826\n",
      "Epoch 9/10\n",
      "8s - loss:  0.8358 - mse:  0.8350 - val_mse:  0.8942\n",
      "Epoch 10/10\n",
      "8s - loss:  0.8322 - mse:  0.8322 - val_mse:  0.8797\n",
      "\n",
      "\n",
      " Training IPMM \n",
      "\n",
      "cuda:1\n",
      "Train on 72000 samples, validate on 8000 samples, 282 steps per epoch\n",
      "Epoch 1/10\n",
      "9s - loss:  2.3413 - mse:  2.3374 - val_mse:  0.9207\n",
      "Epoch 2/10\n",
      "10s - loss:  0.8773 - mse:  0.8776 - val_mse:  0.8924\n",
      "Epoch 3/10\n",
      "5s - loss:  0.8584 - mse:  0.8588 - val_mse:  0.8905\n",
      "Epoch 4/10\n",
      "5s - loss:  0.8532 - mse:  0.8527 - val_mse:  0.8905\n",
      "Epoch 5/10\n",
      "5s - loss:  0.8500 - mse:  0.8508 - val_mse:  0.8948\n",
      "Epoch 6/10\n",
      "5s - loss:  0.8481 - mse:  0.8484 - val_mse:  0.8885\n",
      "Epoch 7/10\n",
      "5s - loss:  0.8467 - mse:  0.8468 - val_mse:  0.8899\n",
      "Epoch 8/10\n",
      "10s - loss:  0.8439 - mse:  0.8444 - val_mse:  0.8859\n",
      "Epoch 9/10\n",
      "10s - loss:  0.8415 - mse:  0.8413 - val_mse:  0.8860\n",
      "Epoch 10/10\n",
      "5s - loss:  0.8394 - mse:  0.8390 - val_mse:  0.8843\n",
      "\n",
      "\n",
      " Training OPNN \n",
      "\n",
      "cuda:1\n",
      "Train on 72000 samples, validate on 8000 samples, 282 steps per epoch\n",
      "Epoch 1/10\n",
      "5s - loss:  2.6759 - mse:  2.6703 - val_mse:  0.9235\n",
      "Epoch 2/10\n",
      "5s - loss:  0.8795 - mse:  0.8785 - val_mse:  0.8912\n",
      "Epoch 3/10\n",
      "5s - loss:  0.8586 - mse:  0.8584 - val_mse:  0.8904\n",
      "Epoch 4/10\n",
      "5s - loss:  0.8530 - mse:  0.8526 - val_mse:  0.8872\n",
      "Epoch 5/10\n",
      "12s - loss:  0.8491 - mse:  0.8493 - val_mse:  0.8818\n",
      "Epoch 6/10\n",
      "8s - loss:  0.8441 - mse:  0.8444 - val_mse:  0.8807\n",
      "Epoch 7/10\n",
      "5s - loss:  0.8333 - mse:  0.8341 - val_mse:  0.8745\n",
      "Epoch 8/10\n",
      "5s - loss:  0.8220 - mse:  0.8218 - val_mse:  0.8684\n",
      "Epoch 9/10\n",
      "5s - loss:  0.8125 - mse:  0.8126 - val_mse:  0.8639\n",
      "Epoch 10/10\n",
      "5s - loss:  0.8062 - mse:  0.8066 - val_mse:  0.8640\n",
      "\n",
      "\n",
      " Training Wide&Deep \n",
      "\n",
      "cuda:1\n",
      "Train on 72000 samples, validate on 8000 samples, 282 steps per epoch\n",
      "Epoch 1/10\n",
      "17s - loss:  1.9336 - mse:  1.9310 - val_mse:  0.9107\n",
      "Epoch 2/10\n",
      "10s - loss:  0.8747 - mse:  0.8756 - val_mse:  0.8924\n",
      "Epoch 3/10\n",
      "7s - loss:  0.8596 - mse:  0.8600 - val_mse:  0.8873\n",
      "Epoch 4/10\n",
      "8s - loss:  0.8548 - mse:  0.8548 - val_mse:  0.8885\n",
      "Epoch 5/10\n",
      "7s - loss:  0.8526 - mse:  0.8521 - val_mse:  0.8896\n",
      "Epoch 6/10\n",
      "19s - loss:  0.8508 - mse:  0.8506 - val_mse:  0.8937\n",
      "Epoch 7/10\n",
      "7s - loss:  0.8490 - mse:  0.8487 - val_mse:  0.8872\n",
      "Epoch 8/10\n",
      "8s - loss:  0.8479 - mse:  0.8482 - val_mse:  0.8900\n",
      "Epoch 9/10\n",
      "7s - loss:  0.8480 - mse:  0.8479 - val_mse:  0.8882\n",
      "Epoch 10/10\n",
      "12s - loss:  0.8473 - mse:  0.8467 - val_mse:  0.8885\n",
      "\n",
      "\n",
      " Training DCN \n",
      "\n",
      "cuda:1\n",
      "Train on 72000 samples, validate on 8000 samples, 282 steps per epoch\n",
      "Epoch 1/10\n",
      "13s - loss:  2.1532 - mse:  2.1508 - val_mse:  0.9138\n",
      "Epoch 2/10\n",
      "8s - loss:  0.8761 - mse:  0.8759 - val_mse:  0.8931\n",
      "Epoch 3/10\n",
      "8s - loss:  0.8593 - mse:  0.8594 - val_mse:  0.8873\n",
      "Epoch 4/10\n",
      "12s - loss:  0.8537 - mse:  0.8537 - val_mse:  0.8896\n",
      "Epoch 5/10\n",
      "16s - loss:  0.8513 - mse:  0.8510 - val_mse:  0.8889\n",
      "Epoch 6/10\n",
      "7s - loss:  0.8494 - mse:  0.8495 - val_mse:  0.8879\n",
      "Epoch 7/10\n",
      "7s - loss:  0.8482 - mse:  0.8486 - val_mse:  0.8929\n",
      "Epoch 8/10\n",
      "7s - loss:  0.8475 - mse:  0.8472 - val_mse:  0.8880\n",
      "Epoch 9/10\n",
      "16s - loss:  0.8464 - mse:  0.8466 - val_mse:  0.9029\n",
      "Epoch 10/10\n",
      "11s - loss:  0.8463 - mse:  0.8465 - val_mse:  0.8874\n",
      "\n",
      "\n",
      " Training xDeepFM \n",
      "\n",
      "cuda:1\n",
      "Train on 72000 samples, validate on 8000 samples, 282 steps per epoch\n",
      "Epoch 1/10\n",
      "9s - loss:  1.4514 - mse:  1.4501 - val_mse:  0.9025\n",
      "Epoch 2/10\n",
      "8s - loss:  0.8730 - mse:  0.8725 - val_mse:  0.8911\n",
      "Epoch 3/10\n",
      "15s - loss:  0.8596 - mse:  0.8589 - val_mse:  0.8855\n",
      "Epoch 4/10\n",
      "12s - loss:  0.8546 - mse:  0.8541 - val_mse:  0.8864\n",
      "Epoch 5/10\n",
      "9s - loss:  0.8494 - mse:  0.8494 - val_mse:  0.8990\n",
      "Epoch 6/10\n",
      "8s - loss:  0.8467 - mse:  0.8472 - val_mse:  0.8831\n",
      "Epoch 7/10\n",
      "14s - loss:  0.8434 - mse:  0.8437 - val_mse:  0.8879\n",
      "Epoch 8/10\n",
      "14s - loss:  0.8429 - mse:  0.8422 - val_mse:  0.8808\n",
      "Epoch 9/10\n",
      "9s - loss:  0.8396 - mse:  0.8397 - val_mse:  0.8856\n",
      "Epoch 10/10\n",
      "8s - loss:  0.8367 - mse:  0.8371 - val_mse:  0.8828\n",
      "\n",
      "\n",
      " Training AFM \n",
      "\n",
      "cuda:1\n",
      "Train on 72000 samples, validate on 8000 samples, 282 steps per epoch\n",
      "Epoch 1/10\n",
      "13s - loss:  9.3520 - mse:  9.3417 - val_mse:  4.9168\n",
      "Epoch 2/10\n",
      "14s - loss:  1.7816 - mse:  1.7801 - val_mse:  1.1920\n",
      "Epoch 3/10\n",
      "8s - loss:  1.1370 - mse:  1.1369 - val_mse:  1.1389\n",
      "Epoch 4/10\n",
      "7s - loss:  1.0838 - mse:  1.0832 - val_mse:  1.0928\n",
      "Epoch 5/10\n",
      "7s - loss:  1.0361 - mse:  1.0363 - val_mse:  1.0503\n",
      "Epoch 6/10\n",
      "19s - loss:  0.9899 - mse:  0.9902 - val_mse:  1.0073\n",
      "Epoch 7/10\n",
      "8s - loss:  0.9434 - mse:  0.9435 - val_mse:  0.9647\n",
      "Epoch 8/10\n",
      "8s - loss:  0.9037 - mse:  0.9037 - val_mse:  0.9337\n",
      "Epoch 9/10\n",
      "8s - loss:  0.8758 - mse:  0.8760 - val_mse:  0.9111\n",
      "Epoch 10/10\n",
      "15s - loss:  0.8593 - mse:  0.8591 - val_mse:  0.9025\n",
      "========================== 2 Fold ==============================\n",
      "\n",
      "\n",
      "\n",
      "\n",
      " Training DeepFM \n",
      "\n",
      "cuda:1\n",
      "Train on 72000 samples, validate on 8000 samples, 282 steps per epoch\n",
      "Epoch 1/10\n",
      "9s - loss:  1.9362 - mse:  1.9338 - val_mse:  0.9121\n",
      "Epoch 2/10\n",
      "8s - loss:  0.8790 - mse:  0.8793 - val_mse:  0.8936\n",
      "Epoch 3/10\n",
      "7s - loss:  0.8644 - mse:  0.8643 - val_mse:  0.8894\n",
      "Epoch 4/10\n",
      "12s - loss:  0.8583 - mse:  0.8583 - val_mse:  0.8903\n",
      "Epoch 5/10\n",
      "15s - loss:  0.8561 - mse:  0.8555 - val_mse:  0.8982\n",
      "Epoch 6/10\n",
      "8s - loss:  0.8543 - mse:  0.8538 - val_mse:  0.8930\n",
      "Epoch 7/10\n",
      "8s - loss:  0.8522 - mse:  0.8524 - val_mse:  0.8933\n",
      "Epoch 8/10\n",
      "8s - loss:  0.8519 - mse:  0.8519 - val_mse:  0.8916\n",
      "Epoch 9/10\n",
      "19s - loss:  0.8525 - mse:  0.8521 - val_mse:  0.8929\n",
      "Epoch 10/10\n",
      "8s - loss:  0.8500 - mse:  0.8493 - val_mse:  0.8988\n",
      "\n",
      "\n",
      " Training CCPM \n",
      "\n",
      "cuda:1\n",
      "Train on 72000 samples, validate on 8000 samples, 282 steps per epoch\n",
      "Epoch 1/10\n",
      "8s - loss:  2.0603 - mse:  2.0589 - val_mse:  1.0776\n",
      "Epoch 2/10\n",
      "8s - loss:  0.9344 - mse:  0.9349 - val_mse:  0.9017\n",
      "Epoch 3/10\n",
      "16s - loss:  0.8634 - mse:  0.8636 - val_mse:  0.8899\n",
      "Epoch 4/10\n",
      "11s - loss:  0.8507 - mse:  0.8508 - val_mse:  0.8854\n",
      "Epoch 5/10\n",
      "8s - loss:  0.8445 - mse:  0.8442 - val_mse:  0.8871\n",
      "Epoch 6/10\n",
      "8s - loss:  0.8418 - mse:  0.8419 - val_mse:  0.8835\n",
      "Epoch 7/10\n",
      "12s - loss:  0.8396 - mse:  0.8405 - val_mse:  0.8944\n",
      "Epoch 8/10\n",
      "15s - loss:  0.8377 - mse:  0.8384 - val_mse:  0.8848\n",
      "Epoch 9/10\n",
      "8s - loss:  0.8367 - mse:  0.8361 - val_mse:  0.8947\n",
      "Epoch 10/10\n",
      "7s - loss:  0.8350 - mse:  0.8351 - val_mse:  0.8819\n",
      "\n",
      "\n",
      " Training IPMM \n",
      "\n",
      "cuda:1\n",
      "Train on 72000 samples, validate on 8000 samples, 282 steps per epoch\n",
      "Epoch 1/10\n",
      "5s - loss:  2.3401 - mse:  2.3361 - val_mse:  0.9172\n",
      "Epoch 2/10\n",
      "8s - loss:  0.8806 - mse:  0.8804 - val_mse:  0.8929\n",
      "Epoch 3/10\n",
      "12s - loss:  0.8615 - mse:  0.8618 - val_mse:  0.8970\n",
      "Epoch 4/10\n",
      "5s - loss:  0.8557 - mse:  0.8552 - val_mse:  0.8926\n",
      "Epoch 5/10\n",
      "5s - loss:  0.8521 - mse:  0.8528 - val_mse:  0.8926\n",
      "Epoch 6/10\n",
      "5s - loss:  0.8505 - mse:  0.8506 - val_mse:  0.8908\n",
      "Epoch 7/10\n",
      "4s - loss:  0.8478 - mse:  0.8478 - val_mse:  0.8929\n",
      "Epoch 8/10\n",
      "5s - loss:  0.8454 - mse:  0.8458 - val_mse:  0.8904\n",
      "Epoch 9/10\n",
      "8s - loss:  0.8423 - mse:  0.8428 - val_mse:  0.8882\n"
     ]
    },
    {
     "name": "stdout",
     "output_type": "stream",
     "text": [
      "Epoch 10/10\n",
      "13s - loss:  0.8364 - mse:  0.8364 - val_mse:  0.8828\n",
      "\n",
      "\n",
      " Training OPNN \n",
      "\n",
      "cuda:1\n",
      "Train on 72000 samples, validate on 8000 samples, 282 steps per epoch\n",
      "Epoch 1/10\n",
      "5s - loss:  2.6825 - mse:  2.6776 - val_mse:  0.9256\n",
      "Epoch 2/10\n",
      "5s - loss:  0.8831 - mse:  0.8831 - val_mse:  0.8948\n",
      "Epoch 3/10\n",
      "5s - loss:  0.8618 - mse:  0.8614 - val_mse:  0.8896\n",
      "Epoch 4/10\n",
      "5s - loss:  0.8561 - mse:  0.8563 - val_mse:  0.8895\n",
      "Epoch 5/10\n",
      "5s - loss:  0.8518 - mse:  0.8520 - val_mse:  0.8844\n",
      "Epoch 6/10\n",
      "9s - loss:  0.8472 - mse:  0.8474 - val_mse:  0.8826\n",
      "Epoch 7/10\n",
      "12s - loss:  0.8352 - mse:  0.8355 - val_mse:  0.8752\n",
      "Epoch 8/10\n",
      "5s - loss:  0.8223 - mse:  0.8224 - val_mse:  0.8754\n",
      "Epoch 9/10\n",
      "5s - loss:  0.8136 - mse:  0.8131 - val_mse:  0.8694\n",
      "Epoch 10/10\n",
      "5s - loss:  0.8073 - mse:  0.8075 - val_mse:  0.8713\n",
      "\n",
      "\n",
      " Training Wide&Deep \n",
      "\n",
      "cuda:1\n",
      "Train on 72000 samples, validate on 8000 samples, 282 steps per epoch\n",
      "Epoch 1/10\n",
      "8s - loss:  1.9425 - mse:  1.9401 - val_mse:  0.9115\n",
      "Epoch 2/10\n",
      "17s - loss:  0.8782 - mse:  0.8785 - val_mse:  0.8928\n",
      "Epoch 3/10\n",
      "9s - loss:  0.8634 - mse:  0.8633 - val_mse:  0.8888\n",
      "Epoch 4/10\n",
      "7s - loss:  0.8573 - mse:  0.8573 - val_mse:  0.8894\n",
      "Epoch 5/10\n",
      "7s - loss:  0.8550 - mse:  0.8544 - val_mse:  0.8970\n",
      "Epoch 6/10\n",
      "10s - loss:  0.8532 - mse:  0.8527 - val_mse:  0.8919\n",
      "Epoch 7/10\n",
      "17s - loss:  0.8511 - mse:  0.8513 - val_mse:  0.8919\n",
      "Epoch 8/10\n",
      "7s - loss:  0.8508 - mse:  0.8508 - val_mse:  0.8906\n",
      "Epoch 9/10\n",
      "8s - loss:  0.8514 - mse:  0.8510 - val_mse:  0.8919\n",
      "Epoch 10/10\n",
      "7s - loss:  0.8490 - mse:  0.8483 - val_mse:  0.8976\n",
      "\n",
      "\n",
      " Training DCN \n",
      "\n",
      "cuda:1\n",
      "Train on 72000 samples, validate on 8000 samples, 282 steps per epoch\n",
      "Epoch 1/10\n",
      "19s - loss:  2.1567 - mse:  2.1540 - val_mse:  0.9140\n",
      "Epoch 2/10\n",
      "8s - loss:  0.8791 - mse:  0.8793 - val_mse:  0.8927\n",
      "Epoch 3/10\n",
      "8s - loss:  0.8621 - mse:  0.8626 - val_mse:  0.8895\n",
      "Epoch 4/10\n",
      "8s - loss:  0.8575 - mse:  0.8576 - val_mse:  0.8954\n",
      "Epoch 5/10\n",
      "15s - loss:  0.8545 - mse:  0.8543 - val_mse:  0.9003\n",
      "Epoch 6/10\n",
      "13s - loss:  0.8523 - mse:  0.8526 - val_mse:  0.8907\n",
      "Epoch 7/10\n",
      "8s - loss:  0.8510 - mse:  0.8511 - val_mse:  0.8975\n",
      "Epoch 8/10\n",
      "8s - loss:  0.8498 - mse:  0.8498 - val_mse:  0.8930\n",
      "Epoch 9/10\n",
      "13s - loss:  0.8495 - mse:  0.8497 - val_mse:  0.8972\n",
      "Epoch 10/10\n",
      "14s - loss:  0.8480 - mse:  0.8480 - val_mse:  0.8913\n",
      "\n",
      "\n",
      " Training xDeepFM \n",
      "\n",
      "cuda:1\n",
      "Train on 72000 samples, validate on 8000 samples, 282 steps per epoch\n",
      "Epoch 1/10\n",
      "8s - loss:  1.4580 - mse:  1.4569 - val_mse:  0.9062\n",
      "Epoch 2/10\n",
      "8s - loss:  0.8754 - mse:  0.8750 - val_mse:  0.8938\n",
      "Epoch 3/10\n",
      "12s - loss:  0.8621 - mse:  0.8615 - val_mse:  0.8893\n",
      "Epoch 4/10\n",
      "16s - loss:  0.8565 - mse:  0.8558 - val_mse:  0.8916\n",
      "Epoch 5/10\n",
      "8s - loss:  0.8520 - mse:  0.8516 - val_mse:  0.9076\n",
      "Epoch 6/10\n",
      "9s - loss:  0.8489 - mse:  0.8492 - val_mse:  0.8865\n",
      "Epoch 7/10\n",
      "11s - loss:  0.8463 - mse:  0.8462 - val_mse:  0.8905\n",
      "Epoch 8/10\n",
      "17s - loss:  0.8432 - mse:  0.8423 - val_mse:  0.8846\n",
      "Epoch 9/10\n",
      "7s - loss:  0.8417 - mse:  0.8419 - val_mse:  0.8910\n",
      "Epoch 10/10\n",
      "7s - loss:  0.8375 - mse:  0.8377 - val_mse:  0.8837\n",
      "\n",
      "\n",
      " Training AFM \n",
      "\n",
      "cuda:1\n",
      "Train on 72000 samples, validate on 8000 samples, 282 steps per epoch\n",
      "Epoch 1/10\n",
      "7s - loss:  9.3525 - mse:  9.3419 - val_mse:  4.8522\n",
      "Epoch 2/10\n",
      "16s - loss:  1.7895 - mse:  1.7881 - val_mse:  1.1928\n",
      "Epoch 3/10\n",
      "10s - loss:  1.1471 - mse:  1.1465 - val_mse:  1.1420\n",
      "Epoch 4/10\n",
      "8s - loss:  1.0925 - mse:  1.0924 - val_mse:  1.0933\n",
      "Epoch 5/10\n",
      "8s - loss:  1.0367 - mse:  1.0370 - val_mse:  1.0390\n",
      "Epoch 6/10\n",
      "10s - loss:  0.9720 - mse:  0.9720 - val_mse:  0.9770\n",
      "Epoch 7/10\n",
      "16s - loss:  0.9182 - mse:  0.9183 - val_mse:  0.9367\n",
      "Epoch 8/10\n",
      "8s - loss:  0.8879 - mse:  0.8881 - val_mse:  0.9204\n",
      "Epoch 9/10\n",
      "7s - loss:  0.8704 - mse:  0.8702 - val_mse:  0.9100\n",
      "Epoch 10/10\n",
      "8s - loss:  0.8585 - mse:  0.8589 - val_mse:  0.9055\n",
      "========================== 3 Fold ==============================\n",
      "\n",
      "\n",
      "\n",
      "\n",
      " Training DeepFM \n",
      "\n",
      "cuda:1\n",
      "Train on 72000 samples, validate on 8000 samples, 282 steps per epoch\n",
      "Epoch 1/10\n",
      "18s - loss:  1.9452 - mse:  1.9424 - val_mse:  0.9168\n",
      "Epoch 2/10\n",
      "8s - loss:  0.8808 - mse:  0.8808 - val_mse:  0.8967\n",
      "Epoch 3/10\n",
      "8s - loss:  0.8658 - mse:  0.8659 - val_mse:  0.8933\n",
      "Epoch 4/10\n",
      "8s - loss:  0.8609 - mse:  0.8613 - val_mse:  0.8964\n",
      "Epoch 5/10\n",
      "14s - loss:  0.8578 - mse:  0.8574 - val_mse:  0.8967\n",
      "Epoch 6/10\n",
      "13s - loss:  0.8564 - mse:  0.8559 - val_mse:  0.8992\n",
      "Epoch 7/10\n",
      "8s - loss:  0.8543 - mse:  0.8542 - val_mse:  0.8941\n",
      "Epoch 8/10\n",
      "7s - loss:  0.8548 - mse:  0.8550 - val_mse:  0.8964\n",
      "Epoch 9/10\n",
      "9s - loss:  0.8537 - mse:  0.8534 - val_mse:  0.8973\n",
      "Epoch 10/10\n",
      "18s - loss:  0.8524 - mse:  0.8516 - val_mse:  0.8973\n",
      "\n",
      "\n",
      " Training CCPM \n",
      "\n",
      "cuda:1\n",
      "Train on 72000 samples, validate on 8000 samples, 282 steps per epoch\n",
      "Epoch 1/10\n",
      "8s - loss:  2.0642 - mse:  2.0626 - val_mse:  1.0766\n",
      "Epoch 2/10\n",
      "8s - loss:  0.9365 - mse:  0.9377 - val_mse:  0.9081\n",
      "Epoch 3/10\n",
      "8s - loss:  0.8662 - mse:  0.8661 - val_mse:  0.8940\n",
      "Epoch 4/10\n",
      "19s - loss:  0.8529 - mse:  0.8531 - val_mse:  0.8883\n",
      "Epoch 5/10\n",
      "7s - loss:  0.8463 - mse:  0.8464 - val_mse:  0.8980\n",
      "Epoch 6/10\n",
      "8s - loss:  0.8439 - mse:  0.8443 - val_mse:  0.8884\n",
      "Epoch 7/10\n",
      "8s - loss:  0.8411 - mse:  0.8414 - val_mse:  0.8895\n",
      "Epoch 8/10\n",
      "15s - loss:  0.8410 - mse:  0.8415 - val_mse:  0.8887\n",
      "Epoch 9/10\n",
      "12s - loss:  0.8376 - mse:  0.8372 - val_mse:  0.8866\n",
      "Epoch 10/10\n",
      "8s - loss:  0.8368 - mse:  0.8364 - val_mse:  0.8852\n",
      "\n",
      "\n",
      " Training IPMM \n",
      "\n",
      "cuda:1\n",
      "Train on 72000 samples, validate on 8000 samples, 282 steps per epoch\n",
      "Epoch 1/10\n",
      "4s - loss:  2.3354 - mse:  2.3316 - val_mse:  0.9198\n",
      "Epoch 2/10\n",
      "5s - loss:  0.8823 - mse:  0.8822 - val_mse:  0.8968\n",
      "Epoch 3/10\n",
      "6s - loss:  0.8636 - mse:  0.8642 - val_mse:  0.8965\n",
      "Epoch 4/10\n",
      "13s - loss:  0.8583 - mse:  0.8580 - val_mse:  0.8980\n",
      "Epoch 5/10\n",
      "6s - loss:  0.8550 - mse:  0.8558 - val_mse:  0.8933\n",
      "Epoch 6/10\n",
      "4s - loss:  0.8524 - mse:  0.8521 - val_mse:  0.8934\n",
      "Epoch 7/10\n",
      "5s - loss:  0.8497 - mse:  0.8497 - val_mse:  0.8948\n",
      "Epoch 8/10\n",
      "5s - loss:  0.8470 - mse:  0.8473 - val_mse:  0.8895\n",
      "Epoch 9/10\n",
      "5s - loss:  0.8387 - mse:  0.8396 - val_mse:  0.8868\n",
      "Epoch 10/10\n",
      "5s - loss:  0.8257 - mse:  0.8260 - val_mse:  0.8767\n",
      "\n",
      "\n",
      " Training OPNN \n",
      "\n",
      "cuda:1\n",
      "Train on 72000 samples, validate on 8000 samples, 282 steps per epoch\n",
      "Epoch 1/10\n",
      "13s - loss:  2.7106 - mse:  2.7056 - val_mse:  0.9282\n",
      "Epoch 2/10\n",
      "8s - loss:  0.8849 - mse:  0.8849 - val_mse:  0.8977\n",
      "Epoch 3/10\n",
      "5s - loss:  0.8643 - mse:  0.8642 - val_mse:  0.8925\n",
      "Epoch 4/10\n",
      "5s - loss:  0.8575 - mse:  0.8579 - val_mse:  0.8950\n",
      "Epoch 5/10\n",
      "5s - loss:  0.8535 - mse:  0.8534 - val_mse:  0.8866\n",
      "Epoch 6/10\n",
      "5s - loss:  0.8477 - mse:  0.8481 - val_mse:  0.8855\n",
      "Epoch 7/10\n",
      "6s - loss:  0.8359 - mse:  0.8361 - val_mse:  0.8745\n",
      "Epoch 8/10\n",
      "12s - loss:  0.8233 - mse:  0.8231 - val_mse:  0.8776\n",
      "Epoch 9/10\n",
      "7s - loss:  0.8160 - mse:  0.8153 - val_mse:  0.8721\n",
      "Epoch 10/10\n",
      "5s - loss:  0.8098 - mse:  0.8102 - val_mse:  0.8722\n",
      "\n",
      "\n",
      " Training Wide&Deep \n",
      "\n",
      "cuda:1\n",
      "Train on 72000 samples, validate on 8000 samples, 282 steps per epoch\n",
      "Epoch 1/10\n",
      "8s - loss:  1.9521 - mse:  1.9492 - val_mse:  0.9163\n",
      "Epoch 2/10\n",
      "8s - loss:  0.8799 - mse:  0.8799 - val_mse:  0.8960\n",
      "Epoch 3/10\n",
      "15s - loss:  0.8648 - mse:  0.8649 - val_mse:  0.8927\n",
      "Epoch 4/10\n",
      "11s - loss:  0.8598 - mse:  0.8603 - val_mse:  0.8955\n",
      "Epoch 5/10\n",
      "8s - loss:  0.8566 - mse:  0.8563 - val_mse:  0.8958\n",
      "Epoch 6/10\n",
      "7s - loss:  0.8552 - mse:  0.8547 - val_mse:  0.8980\n",
      "Epoch 7/10\n",
      "7s - loss:  0.8531 - mse:  0.8530 - val_mse:  0.8931\n",
      "Epoch 8/10\n",
      "19s - loss:  0.8536 - mse:  0.8538 - val_mse:  0.8954\n",
      "Epoch 9/10\n",
      "7s - loss:  0.8525 - mse:  0.8522 - val_mse:  0.8962\n",
      "Epoch 10/10\n",
      "7s - loss:  0.8512 - mse:  0.8504 - val_mse:  0.8960\n",
      "\n",
      "\n",
      " Training DCN \n",
      "\n",
      "cuda:1\n",
      "Train on 72000 samples, validate on 8000 samples, 282 steps per epoch\n",
      "Epoch 1/10\n",
      "8s - loss:  2.1700 - mse:  2.1677 - val_mse:  0.9192\n",
      "Epoch 2/10\n",
      "14s - loss:  0.8815 - mse:  0.8817 - val_mse:  0.8988\n",
      "Epoch 3/10\n",
      "13s - loss:  0.8642 - mse:  0.8647 - val_mse:  0.8952\n",
      "Epoch 4/10\n",
      "8s - loss:  0.8594 - mse:  0.8601 - val_mse:  0.9040\n",
      "Epoch 5/10\n",
      "8s - loss:  0.8568 - mse:  0.8568 - val_mse:  0.9006\n",
      "Epoch 6/10\n",
      "12s - loss:  0.8547 - mse:  0.8546 - val_mse:  0.8943\n",
      "Epoch 7/10\n",
      "16s - loss:  0.8540 - mse:  0.8539 - val_mse:  0.8999\n",
      "Epoch 8/10\n",
      "8s - loss:  0.8530 - mse:  0.8530 - val_mse:  0.8929\n",
      "Epoch 9/10\n",
      "8s - loss:  0.8518 - mse:  0.8522 - val_mse:  0.8951\n"
     ]
    },
    {
     "name": "stdout",
     "output_type": "stream",
     "text": [
      "Epoch 10/10\n",
      "8s - loss:  0.8502 - mse:  0.8502 - val_mse:  0.8928\n",
      "\n",
      "\n",
      " Training xDeepFM \n",
      "\n",
      "cuda:1\n",
      "Train on 72000 samples, validate on 8000 samples, 282 steps per epoch\n",
      "Epoch 1/10\n",
      "18s - loss:  1.4612 - mse:  1.4593 - val_mse:  0.9095\n",
      "Epoch 2/10\n",
      "8s - loss:  0.8776 - mse:  0.8775 - val_mse:  0.8981\n",
      "Epoch 3/10\n",
      "9s - loss:  0.8644 - mse:  0.8644 - val_mse:  0.8934\n",
      "Epoch 4/10\n",
      "10s - loss:  0.8578 - mse:  0.8576 - val_mse:  0.9017\n",
      "Epoch 5/10\n",
      "17s - loss:  0.8552 - mse:  0.8551 - val_mse:  0.9141\n",
      "Epoch 6/10\n",
      "9s - loss:  0.8503 - mse:  0.8511 - val_mse:  0.8880\n",
      "Epoch 7/10\n",
      "8s - loss:  0.8485 - mse:  0.8493 - val_mse:  0.8890\n",
      "Epoch 8/10\n",
      "9s - loss:  0.8451 - mse:  0.8442 - val_mse:  0.8880\n",
      "Epoch 9/10\n",
      "19s - loss:  0.8432 - mse:  0.8428 - val_mse:  0.8930\n",
      "Epoch 10/10\n",
      "9s - loss:  0.8407 - mse:  0.8405 - val_mse:  0.8884\n",
      "\n",
      "\n",
      " Training AFM \n",
      "\n",
      "cuda:1\n",
      "Train on 72000 samples, validate on 8000 samples, 282 steps per epoch\n",
      "Epoch 1/10\n",
      "7s - loss:  9.4001 - mse:  9.3899 - val_mse:  4.9702\n",
      "Epoch 2/10\n",
      "8s - loss:  1.8221 - mse:  1.8202 - val_mse:  1.1938\n",
      "Epoch 3/10\n",
      "19s - loss:  1.1479 - mse:  1.1468 - val_mse:  1.1424\n",
      "Epoch 4/10\n",
      "7s - loss:  1.0936 - mse:  1.0934 - val_mse:  1.0961\n",
      "Epoch 5/10\n",
      "7s - loss:  1.0454 - mse:  1.0454 - val_mse:  1.0556\n",
      "Epoch 6/10\n",
      "8s - loss:  1.0033 - mse:  1.0040 - val_mse:  1.0197\n",
      "Epoch 7/10\n",
      "12s - loss:  0.9675 - mse:  0.9674 - val_mse:  0.9879\n",
      "Epoch 8/10\n",
      "15s - loss:  0.9365 - mse:  0.9361 - val_mse:  0.9624\n",
      "Epoch 9/10\n",
      "8s - loss:  0.9102 - mse:  0.9098 - val_mse:  0.9396\n",
      "Epoch 10/10\n",
      "8s - loss:  0.8904 - mse:  0.8903 - val_mse:  0.9254\n",
      "========================== 4 Fold ==============================\n",
      "\n",
      "\n",
      "\n",
      "\n",
      " Training DeepFM \n",
      "\n",
      "cuda:1\n",
      "Train on 72000 samples, validate on 8000 samples, 282 steps per epoch\n",
      "Epoch 1/10\n",
      "7s - loss:  1.9446 - mse:  1.9419 - val_mse:  0.9167\n",
      "Epoch 2/10\n",
      "18s - loss:  0.8820 - mse:  0.8814 - val_mse:  0.9013\n",
      "Epoch 3/10\n",
      "6s - loss:  0.8670 - mse:  0.8668 - val_mse:  0.8941\n",
      "Epoch 4/10\n",
      "8s - loss:  0.8615 - mse:  0.8619 - val_mse:  0.8936\n",
      "Epoch 5/10\n",
      "7s - loss:  0.8583 - mse:  0.8582 - val_mse:  0.8946\n",
      "Epoch 6/10\n",
      "11s - loss:  0.8565 - mse:  0.8562 - val_mse:  0.8946\n",
      "Epoch 7/10\n",
      "16s - loss:  0.8559 - mse:  0.8558 - val_mse:  0.8929\n",
      "Epoch 8/10\n",
      "8s - loss:  0.8557 - mse:  0.8558 - val_mse:  0.8922\n",
      "Epoch 9/10\n",
      "8s - loss:  0.8537 - mse:  0.8537 - val_mse:  0.8932\n",
      "Epoch 10/10\n",
      "8s - loss:  0.8538 - mse:  0.8537 - val_mse:  0.8925\n",
      "\n",
      "\n",
      " Training CCPM \n",
      "\n",
      "cuda:1\n",
      "Train on 72000 samples, validate on 8000 samples, 282 steps per epoch\n",
      "Epoch 1/10\n",
      "18s - loss:  2.0631 - mse:  2.0618 - val_mse:  1.0812\n",
      "Epoch 2/10\n",
      "8s - loss:  0.9386 - mse:  0.9392 - val_mse:  0.9104\n",
      "Epoch 3/10\n",
      "8s - loss:  0.8678 - mse:  0.8674 - val_mse:  0.8909\n",
      "Epoch 4/10\n",
      "8s - loss:  0.8554 - mse:  0.8558 - val_mse:  0.8909\n",
      "Epoch 5/10\n",
      "19s - loss:  0.8485 - mse:  0.8488 - val_mse:  0.8907\n",
      "Epoch 6/10\n",
      "8s - loss:  0.8467 - mse:  0.8473 - val_mse:  0.8866\n",
      "Epoch 7/10\n",
      "8s - loss:  0.8428 - mse:  0.8424 - val_mse:  0.8880\n",
      "Epoch 8/10\n",
      "8s - loss:  0.8423 - mse:  0.8423 - val_mse:  0.8864\n",
      "Epoch 9/10\n",
      "15s - loss:  0.8405 - mse:  0.8403 - val_mse:  0.8850\n",
      "Epoch 10/10\n",
      "12s - loss:  0.8387 - mse:  0.8387 - val_mse:  0.8828\n",
      "\n",
      "\n",
      " Training IPMM \n",
      "\n",
      "cuda:1\n",
      "Train on 72000 samples, validate on 8000 samples, 282 steps per epoch\n",
      "Epoch 1/10\n",
      "5s - loss:  2.3462 - mse:  2.3430 - val_mse:  0.9187\n",
      "Epoch 2/10\n",
      "5s - loss:  0.8844 - mse:  0.8849 - val_mse:  0.8961\n",
      "Epoch 3/10\n",
      "5s - loss:  0.8653 - mse:  0.8661 - val_mse:  0.8951\n",
      "Epoch 4/10\n",
      "5s - loss:  0.8594 - mse:  0.8590 - val_mse:  0.9010\n",
      "Epoch 5/10\n",
      "12s - loss:  0.8566 - mse:  0.8569 - val_mse:  0.8930\n",
      "Epoch 6/10\n",
      "9s - loss:  0.8535 - mse:  0.8533 - val_mse:  0.8919\n",
      "Epoch 7/10\n",
      "5s - loss:  0.8514 - mse:  0.8511 - val_mse:  0.8905\n",
      "Epoch 8/10\n",
      "5s - loss:  0.8478 - mse:  0.8479 - val_mse:  0.8900\n",
      "Epoch 9/10\n",
      "5s - loss:  0.8406 - mse:  0.8408 - val_mse:  0.8866\n",
      "Epoch 10/10\n",
      "5s - loss:  0.8289 - mse:  0.8287 - val_mse:  0.8790\n",
      "\n",
      "\n",
      " Training OPNN \n",
      "\n",
      "cuda:1\n",
      "Train on 72000 samples, validate on 8000 samples, 282 steps per epoch\n",
      "Epoch 1/10\n",
      "7s - loss:  2.7202 - mse:  2.7154 - val_mse:  0.9332\n",
      "Epoch 2/10\n",
      "13s - loss:  0.8867 - mse:  0.8871 - val_mse:  0.8998\n",
      "Epoch 3/10\n",
      "6s - loss:  0.8654 - mse:  0.8651 - val_mse:  0.8906\n",
      "Epoch 4/10\n",
      "5s - loss:  0.8586 - mse:  0.8585 - val_mse:  0.8929\n",
      "Epoch 5/10\n",
      "4s - loss:  0.8552 - mse:  0.8548 - val_mse:  0.8854\n",
      "Epoch 6/10\n",
      "5s - loss:  0.8492 - mse:  0.8496 - val_mse:  0.8820\n",
      "Epoch 7/10\n",
      "5s - loss:  0.8396 - mse:  0.8398 - val_mse:  0.8770\n",
      "Epoch 8/10\n",
      "8s - loss:  0.8262 - mse:  0.8258 - val_mse:  0.8750\n",
      "Epoch 9/10\n",
      "12s - loss:  0.8188 - mse:  0.8180 - val_mse:  0.8701\n",
      "Epoch 10/10\n",
      "5s - loss:  0.8113 - mse:  0.8117 - val_mse:  0.8715\n",
      "\n",
      "\n",
      " Training Wide&Deep \n",
      "\n",
      "cuda:1\n",
      "Train on 72000 samples, validate on 8000 samples, 282 steps per epoch\n",
      "Epoch 1/10\n",
      "7s - loss:  1.9516 - mse:  1.9489 - val_mse:  0.9165\n",
      "Epoch 2/10\n",
      "7s - loss:  0.8812 - mse:  0.8806 - val_mse:  0.9004\n",
      "Epoch 3/10\n",
      "9s - loss:  0.8661 - mse:  0.8659 - val_mse:  0.8938\n",
      "Epoch 4/10\n",
      "18s - loss:  0.8605 - mse:  0.8609 - val_mse:  0.8926\n",
      "Epoch 5/10\n",
      "7s - loss:  0.8572 - mse:  0.8571 - val_mse:  0.8934\n",
      "Epoch 6/10\n",
      "8s - loss:  0.8555 - mse:  0.8552 - val_mse:  0.8936\n",
      "Epoch 7/10\n",
      "7s - loss:  0.8548 - mse:  0.8547 - val_mse:  0.8918\n",
      "Epoch 8/10\n",
      "13s - loss:  0.8546 - mse:  0.8547 - val_mse:  0.8911\n",
      "Epoch 9/10\n",
      "13s - loss:  0.8526 - mse:  0.8526 - val_mse:  0.8919\n",
      "Epoch 10/10\n",
      "7s - loss:  0.8527 - mse:  0.8526 - val_mse:  0.8916\n",
      "\n",
      "\n",
      " Training DCN \n",
      "\n",
      "cuda:1\n",
      "Train on 72000 samples, validate on 8000 samples, 282 steps per epoch\n",
      "Epoch 1/10\n",
      "7s - loss:  2.1659 - mse:  2.1624 - val_mse:  0.9240\n",
      "Epoch 2/10\n",
      "11s - loss:  0.8829 - mse:  0.8829 - val_mse:  0.8953\n",
      "Epoch 3/10\n",
      "17s - loss:  0.8655 - mse:  0.8662 - val_mse:  0.8922\n",
      "Epoch 4/10\n",
      "8s - loss:  0.8603 - mse:  0.8608 - val_mse:  0.8987\n",
      "Epoch 5/10\n",
      "8s - loss:  0.8578 - mse:  0.8577 - val_mse:  0.9036\n",
      "Epoch 6/10\n",
      "9s - loss:  0.8553 - mse:  0.8554 - val_mse:  0.8919\n",
      "Epoch 7/10\n",
      "19s - loss:  0.8544 - mse:  0.8541 - val_mse:  0.8915\n",
      "Epoch 8/10\n",
      "8s - loss:  0.8528 - mse:  0.8527 - val_mse:  0.8913\n",
      "Epoch 9/10\n",
      "8s - loss:  0.8524 - mse:  0.8526 - val_mse:  0.8926\n",
      "Epoch 10/10\n",
      "8s - loss:  0.8505 - mse:  0.8509 - val_mse:  0.8929\n",
      "\n",
      "\n",
      " Training xDeepFM \n",
      "\n",
      "cuda:1\n",
      "Train on 72000 samples, validate on 8000 samples, 282 steps per epoch\n",
      "Epoch 1/10\n",
      "19s - loss:  1.4625 - mse:  1.4607 - val_mse:  0.9063\n",
      "Epoch 2/10\n",
      "8s - loss:  0.8788 - mse:  0.8789 - val_mse:  0.8955\n",
      "Epoch 3/10\n",
      "8s - loss:  0.8662 - mse:  0.8664 - val_mse:  0.8935\n",
      "Epoch 4/10\n",
      "8s - loss:  0.8594 - mse:  0.8595 - val_mse:  0.9068\n",
      "Epoch 5/10\n",
      "20s - loss:  0.8572 - mse:  0.8571 - val_mse:  0.8936\n",
      "Epoch 6/10\n",
      "9s - loss:  0.8520 - mse:  0.8525 - val_mse:  0.8939\n",
      "Epoch 7/10\n",
      "9s - loss:  0.8497 - mse:  0.8499 - val_mse:  0.8895\n",
      "Epoch 8/10\n",
      "8s - loss:  0.8465 - mse:  0.8458 - val_mse:  0.8866\n",
      "Epoch 9/10\n",
      "20s - loss:  0.8447 - mse:  0.8441 - val_mse:  0.8879\n",
      "Epoch 10/10\n",
      "9s - loss:  0.8421 - mse:  0.8423 - val_mse:  0.8917\n",
      "\n",
      "\n",
      " Training AFM \n",
      "\n",
      "cuda:1\n",
      "Train on 72000 samples, validate on 8000 samples, 282 steps per epoch\n",
      "Epoch 1/10\n",
      "8s - loss:  9.4224 - mse:  9.4124 - val_mse:  5.2210\n",
      "Epoch 2/10\n",
      "8s - loss:  1.9283 - mse:  1.9265 - val_mse:  1.2080\n",
      "Epoch 3/10\n",
      "19s - loss:  1.1193 - mse:  1.1182 - val_mse:  1.0871\n",
      "Epoch 4/10\n",
      "7s - loss:  1.0036 - mse:  1.0035 - val_mse:  1.0060\n",
      "Epoch 5/10\n",
      "7s - loss:  0.9453 - mse:  0.9450 - val_mse:  0.9662\n",
      "Epoch 6/10\n",
      "7s - loss:  0.9139 - mse:  0.9141 - val_mse:  0.9472\n",
      "Epoch 7/10\n",
      "10s - loss:  0.8941 - mse:  0.8936 - val_mse:  0.9327\n",
      "Epoch 8/10\n",
      "16s - loss:  0.8803 - mse:  0.8802 - val_mse:  0.9239\n",
      "Epoch 9/10\n",
      "8s - loss:  0.8700 - mse:  0.8693 - val_mse:  0.9176\n",
      "Epoch 10/10\n",
      "8s - loss:  0.8617 - mse:  0.8624 - val_mse:  0.9141\n",
      "========================== 5 Fold ==============================\n",
      "\n",
      "\n",
      "\n",
      "\n",
      " Training DeepFM \n",
      "\n",
      "cuda:1\n",
      "Train on 72000 samples, validate on 8000 samples, 282 steps per epoch\n",
      "Epoch 1/10\n",
      "8s - loss:  1.9523 - mse:  1.9497 - val_mse:  0.8971\n",
      "Epoch 2/10\n",
      "19s - loss:  0.8847 - mse:  0.8843 - val_mse:  0.8810\n",
      "Epoch 3/10\n",
      "8s - loss:  0.8698 - mse:  0.8697 - val_mse:  0.8776\n",
      "Epoch 4/10\n",
      "8s - loss:  0.8641 - mse:  0.8642 - val_mse:  0.8761\n",
      "Epoch 5/10\n",
      "8s - loss:  0.8615 - mse:  0.8616 - val_mse:  0.8812\n",
      "Epoch 6/10\n",
      "16s - loss:  0.8604 - mse:  0.8602 - val_mse:  0.8763\n",
      "Epoch 7/10\n",
      "11s - loss:  0.8594 - mse:  0.8593 - val_mse:  0.8789\n",
      "Epoch 8/10\n",
      "8s - loss:  0.8591 - mse:  0.8595 - val_mse:  0.8742\n"
     ]
    },
    {
     "name": "stdout",
     "output_type": "stream",
     "text": [
      "Epoch 9/10\n",
      "8s - loss:  0.8581 - mse:  0.8581 - val_mse:  0.8752\n",
      "Epoch 10/10\n",
      "8s - loss:  0.8556 - mse:  0.8555 - val_mse:  0.8781\n",
      "\n",
      "\n",
      " Training CCPM \n",
      "\n",
      "cuda:1\n",
      "Train on 72000 samples, validate on 8000 samples, 282 steps per epoch\n",
      "Epoch 1/10\n",
      "17s - loss:  2.0607 - mse:  2.0592 - val_mse:  1.0519\n",
      "Epoch 2/10\n",
      "8s - loss:  0.9373 - mse:  0.9381 - val_mse:  0.8878\n",
      "Epoch 3/10\n",
      "8s - loss:  0.8709 - mse:  0.8703 - val_mse:  0.8722\n",
      "Epoch 4/10\n",
      "8s - loss:  0.8591 - mse:  0.8595 - val_mse:  0.8746\n",
      "Epoch 5/10\n",
      "19s - loss:  0.8527 - mse:  0.8525 - val_mse:  0.8689\n",
      "Epoch 6/10\n",
      "8s - loss:  0.8504 - mse:  0.8513 - val_mse:  0.8686\n",
      "Epoch 7/10\n",
      "8s - loss:  0.8475 - mse:  0.8469 - val_mse:  0.8686\n",
      "Epoch 8/10\n",
      "8s - loss:  0.8461 - mse:  0.8459 - val_mse:  0.8679\n",
      "Epoch 9/10\n",
      "19s - loss:  0.8452 - mse:  0.8452 - val_mse:  0.8665\n",
      "Epoch 10/10\n",
      "9s - loss:  0.8428 - mse:  0.8431 - val_mse:  0.8652\n",
      "\n",
      "\n",
      " Training IPMM \n",
      "\n",
      "cuda:1\n",
      "Train on 72000 samples, validate on 8000 samples, 282 steps per epoch\n",
      "Epoch 1/10\n",
      "5s - loss:  2.3380 - mse:  2.3351 - val_mse:  0.8986\n",
      "Epoch 2/10\n",
      "5s - loss:  0.8869 - mse:  0.8877 - val_mse:  0.8793\n",
      "Epoch 3/10\n",
      "5s - loss:  0.8686 - mse:  0.8692 - val_mse:  0.8731\n",
      "Epoch 4/10\n",
      "7s - loss:  0.8623 - mse:  0.8619 - val_mse:  0.8819\n",
      "Epoch 5/10\n",
      "11s - loss:  0.8598 - mse:  0.8598 - val_mse:  0.8795\n",
      "Epoch 6/10\n",
      "6s - loss:  0.8559 - mse:  0.8557 - val_mse:  0.8743\n",
      "Epoch 7/10\n",
      "5s - loss:  0.8522 - mse:  0.8518 - val_mse:  0.8705\n",
      "Epoch 8/10\n",
      "5s - loss:  0.8458 - mse:  0.8456 - val_mse:  0.8686\n",
      "Epoch 9/10\n",
      "5s - loss:  0.8349 - mse:  0.8353 - val_mse:  0.8644\n",
      "Epoch 10/10\n",
      "5s - loss:  0.8212 - mse:  0.8213 - val_mse:  0.8577\n",
      "\n",
      "\n",
      " Training OPNN \n",
      "\n",
      "cuda:1\n",
      "Train on 72000 samples, validate on 8000 samples, 282 steps per epoch\n",
      "Epoch 1/10\n",
      "7s - loss:  2.7163 - mse:  2.7117 - val_mse:  0.9112\n",
      "Epoch 2/10\n",
      "13s - loss:  0.8893 - mse:  0.8900 - val_mse:  0.8822\n",
      "Epoch 3/10\n",
      "5s - loss:  0.8687 - mse:  0.8683 - val_mse:  0.8734\n",
      "Epoch 4/10\n",
      "5s - loss:  0.8620 - mse:  0.8617 - val_mse:  0.8735\n",
      "Epoch 5/10\n",
      "5s - loss:  0.8587 - mse:  0.8585 - val_mse:  0.8700\n",
      "Epoch 6/10\n",
      "5s - loss:  0.8526 - mse:  0.8528 - val_mse:  0.8629\n",
      "Epoch 7/10\n",
      "5s - loss:  0.8418 - mse:  0.8421 - val_mse:  0.8506\n",
      "Epoch 8/10\n",
      "10s - loss:  0.8291 - mse:  0.8285 - val_mse:  0.8518\n",
      "Epoch 9/10\n",
      "11s - loss:  0.8215 - mse:  0.8207 - val_mse:  0.8527\n",
      "Epoch 10/10\n",
      "5s - loss:  0.8140 - mse:  0.8141 - val_mse:  0.8521\n",
      "\n",
      "\n",
      " Training Wide&Deep \n",
      "\n",
      "cuda:1\n",
      "Train on 72000 samples, validate on 8000 samples, 282 steps per epoch\n",
      "Epoch 1/10\n",
      "8s - loss:  1.9595 - mse:  1.9569 - val_mse:  0.8962\n",
      "Epoch 2/10\n",
      "7s - loss:  0.8840 - mse:  0.8836 - val_mse:  0.8799\n",
      "Epoch 3/10\n",
      "10s - loss:  0.8690 - mse:  0.8689 - val_mse:  0.8768\n",
      "Epoch 4/10\n",
      "16s - loss:  0.8632 - mse:  0.8634 - val_mse:  0.8748\n",
      "Epoch 5/10\n",
      "8s - loss:  0.8605 - mse:  0.8606 - val_mse:  0.8797\n",
      "Epoch 6/10\n",
      "8s - loss:  0.8595 - mse:  0.8593 - val_mse:  0.8750\n",
      "Epoch 7/10\n",
      "7s - loss:  0.8585 - mse:  0.8583 - val_mse:  0.8772\n",
      "Epoch 8/10\n",
      "16s - loss:  0.8582 - mse:  0.8585 - val_mse:  0.8729\n",
      "Epoch 9/10\n",
      "10s - loss:  0.8570 - mse:  0.8571 - val_mse:  0.8738\n",
      "Epoch 10/10\n",
      "8s - loss:  0.8547 - mse:  0.8545 - val_mse:  0.8767\n",
      "\n",
      "\n",
      " Training DCN \n",
      "\n",
      "cuda:1\n",
      "Train on 72000 samples, validate on 8000 samples, 282 steps per epoch\n",
      "Epoch 1/10\n",
      "8s - loss:  2.1585 - mse:  2.1551 - val_mse:  0.8990\n",
      "Epoch 2/10\n",
      "17s - loss:  0.8858 - mse:  0.8856 - val_mse:  0.8737\n",
      "Epoch 3/10\n",
      "11s - loss:  0.8689 - mse:  0.8694 - val_mse:  0.8717\n",
      "Epoch 4/10\n",
      "8s - loss:  0.8635 - mse:  0.8637 - val_mse:  0.8775\n",
      "Epoch 5/10\n",
      "8s - loss:  0.8610 - mse:  0.8610 - val_mse:  0.8833\n",
      "Epoch 6/10\n",
      "15s - loss:  0.8592 - mse:  0.8596 - val_mse:  0.8723\n",
      "Epoch 7/10\n",
      "12s - loss:  0.8577 - mse:  0.8577 - val_mse:  0.8777\n",
      "Epoch 8/10\n",
      "8s - loss:  0.8557 - mse:  0.8553 - val_mse:  0.8755\n",
      "Epoch 9/10\n",
      "8s - loss:  0.8556 - mse:  0.8562 - val_mse:  0.8742\n",
      "Epoch 10/10\n",
      "13s - loss:  0.8546 - mse:  0.8546 - val_mse:  0.8802\n",
      "\n",
      "\n",
      " Training xDeepFM \n",
      "\n",
      "cuda:1\n",
      "Train on 72000 samples, validate on 8000 samples, 282 steps per epoch\n",
      "Epoch 1/10\n",
      "13s - loss:  1.4598 - mse:  1.4582 - val_mse:  0.8849\n",
      "Epoch 2/10\n",
      "9s - loss:  0.8816 - mse:  0.8816 - val_mse:  0.8756\n",
      "Epoch 3/10\n",
      "9s - loss:  0.8693 - mse:  0.8696 - val_mse:  0.8726\n",
      "Epoch 4/10\n",
      "15s - loss:  0.8625 - mse:  0.8632 - val_mse:  0.8828\n",
      "Epoch 5/10\n",
      "14s - loss:  0.8597 - mse:  0.8597 - val_mse:  0.8726\n",
      "Epoch 6/10\n",
      "8s - loss:  0.8559 - mse:  0.8560 - val_mse:  0.8699\n",
      "Epoch 7/10\n",
      "9s - loss:  0.8536 - mse:  0.8541 - val_mse:  0.8696\n",
      "Epoch 8/10\n",
      "17s - loss:  0.8515 - mse:  0.8510 - val_mse:  0.8735\n",
      "Epoch 9/10\n",
      "11s - loss:  0.8486 - mse:  0.8482 - val_mse:  0.8733\n",
      "Epoch 10/10\n",
      "8s - loss:  0.8454 - mse:  0.8456 - val_mse:  0.8756\n",
      "\n",
      "\n",
      " Training AFM \n",
      "\n",
      "cuda:1\n",
      "Train on 72000 samples, validate on 8000 samples, 282 steps per epoch\n",
      "Epoch 1/10\n",
      "6s - loss:  9.3614 - mse:  9.3505 - val_mse:  4.7831\n",
      "Epoch 2/10\n",
      "7s - loss:  1.8161 - mse:  1.8147 - val_mse:  1.1826\n",
      "Epoch 3/10\n",
      "19s - loss:  1.1531 - mse:  1.1519 - val_mse:  1.1226\n",
      "Epoch 4/10\n",
      "8s - loss:  1.0941 - mse:  1.0943 - val_mse:  1.0741\n",
      "Epoch 5/10\n",
      "8s - loss:  1.0438 - mse:  1.0434 - val_mse:  1.0301\n",
      "Epoch 6/10\n",
      "8s - loss:  1.0003 - mse:  1.0001 - val_mse:  0.9923\n",
      "Epoch 7/10\n",
      "16s - loss:  0.9616 - mse:  0.9612 - val_mse:  0.9589\n",
      "Epoch 8/10\n",
      "11s - loss:  0.9269 - mse:  0.9270 - val_mse:  0.9277\n",
      "Epoch 9/10\n",
      "8s - loss:  0.8955 - mse:  0.8951 - val_mse:  0.9042\n",
      "Epoch 10/10\n",
      "8s - loss:  0.8731 - mse:  0.8735 - val_mse:  0.8911\n"
     ]
    }
   ],
   "source": [
    "fold_cnt = 0\n",
    "\n",
    "for train_index, test_index in kf.split(rel):\n",
    "    \n",
    "    fold_cnt += 1\n",
    "    print(\"========================== {} Fold ==============================\\n\\n\".format(fold_cnt))\n",
    "    \n",
    "    ### train\n",
    "    train_input = {name: rel[name][train_index] for name in sparse_features}\n",
    "    train_input[\"age\"] = _age[train_index]\n",
    "    train_input[\"occupation\"] = _occupation[train_index]\n",
    "    train_input[\"genre\"] = _genre[train_index]\n",
    "    train_target = np.array(rel[rating][train_index])\n",
    "    \n",
    "    ### test\n",
    "    test_input = {name: rel[name][test_index] for name in sparse_features}\n",
    "    test_input[\"age\"] = _age[test_index]\n",
    "    test_input[\"occupation\"] = _occupation[test_index]\n",
    "    test_input[\"genre\"] = _genre[test_index]\n",
    "    test_target = np.array(rel[rating][test_index])\n",
    "    binary_target = np.where(test_target > 3, 1, 0).reshape(1, -1)\n",
    "    \n",
    "    print(\"\\n\\n Training DeepFM \\n\")\n",
    "    ### DeepFM\n",
    "    deepfm = DeepFM(linear_feature_columns, dnn_feature_columns, task='regression', device=device)\n",
    "    deepfm.compile(\"adam\", \"mse\", metrics=['mse'], )\n",
    "    deepfm_hist = deepfm.fit(train_input, train_target, batch_size=256, epochs=10, verbose=2, validation_split=0.1)\n",
    "    pred_ans = deepfm.predict(test_input, batch_size=256)\n",
    "    deepfm_mse += mean_squared_error(test_target, pred_ans)\n",
    "    \n",
    "    pred_ans = np.where(pred_ans > 3, 1, 0).reshape((1, -1))\n",
    "    deepfm_recall += recall_score(binary_target.reshape(-1, 1), pred_ans.reshape(-1, 1))\n",
    "    deepfm_ndcg += ndcg_score(binary_target, pred_ans)\n",
    "#     print(\"DeepFM MSE\", round(mean_squared_error(test_target, pred_ans), 4))\n",
    "    \n",
    "    print(\"\\n\\n Training CCPM \\n\")\n",
    "    ### CCPM\n",
    "    ccpm = CCPM(linear_feature_columns, dnn_feature_columns, task='regression', device=device)\n",
    "    ccpm.compile(\"adam\", \"mse\", metrics=['mse'], )\n",
    "    ccpm_hist = ccpm.fit(train_input, train_target, batch_size=256, epochs=10, verbose=2, validation_split=0.1)\n",
    "    pred_ans = ccpm.predict(test_input, batch_size=256)\n",
    "    ccpm_mse += mean_squared_error(test_target, pred_ans)\n",
    "    \n",
    "    pred_ans = np.where(pred_ans > 3, 1, 0).reshape((1, -1))\n",
    "    ccpm_recall += recall_score(binary_target.reshape(-1, 1), pred_ans.reshape(-1, 1))\n",
    "    ccpm_ndcg += ndcg_score(binary_target, pred_ans)\n",
    "#     print(\"CCPM MSE\", round(mean_squared_error(test_target, pred_ans), 4))\n",
    "    \n",
    "    print(\"\\n\\n Training IPMM \\n\")\n",
    "    ### IPNN\n",
    "    ipnn = PNN(dnn_feature_columns, task='regression', device=device, use_inner=True, use_outter=False)\n",
    "    ipnn.compile(\"adam\", \"mse\", metrics=['mse'], )\n",
    "    ipnn_hist = ipnn.fit(train_input, train_target, batch_size=256, epochs=10, verbose=2, validation_split=0.1)\n",
    "    pred_ans = ipnn.predict(test_input, batch_size=256)\n",
    "    ipnn_mse += mean_squared_error(test_target, pred_ans)\n",
    "    \n",
    "    pred_ans = np.where(pred_ans > 3, 1, 0).reshape((1, -1))\n",
    "    ipnn_recall += recall_score(binary_target.reshape(-1, 1), pred_ans.reshape(-1, 1))\n",
    "    ipnn_ndcg += ndcg_score(binary_target, pred_ans)\n",
    "#     print(\"IPNN MSE\", round(mean_squared_error(test_target, pred_ans), 4))\n",
    "    \n",
    "    print(\"\\n\\n Training OPNN \\n\")\n",
    "    ### OPNN\n",
    "    opnn = PNN(dnn_feature_columns, task='regression', device=device, use_inner=False, use_outter=True)\n",
    "    opnn.compile(\"adam\", \"mse\", metrics=['mse'], )\n",
    "    opnn_hist = opnn.fit(train_input, train_target, batch_size=256, epochs=10, verbose=2, validation_split=0.1)\n",
    "    pred_ans = opnn.predict(test_input, batch_size=256)\n",
    "    opnn_mse += mean_squared_error(test_target, pred_ans)\n",
    "    \n",
    "    pred_ans = np.where(pred_ans > 3, 1, 0).reshape((1, -1))\n",
    "    opnn_recall += recall_score(binary_target.reshape(-1, 1), pred_ans.reshape(-1, 1))\n",
    "    opnn_ndcg += ndcg_score(binary_target, pred_ans)\n",
    "#     print(\"OPNN MSE\", round(mean_squared_error(test_target, pred_ans), 4))\n",
    "    \n",
    "    print(\"\\n\\n Training Wide&Deep \\n\")\n",
    "    ### Wide & Deep\n",
    "    wdl = WDL(linear_feature_columns, dnn_feature_columns, task='regression', device=device)\n",
    "    wdl.compile(\"adam\", \"mse\", metrics=['mse'], )\n",
    "    wdl_hist = wdl.fit(train_input, train_target, batch_size=256, epochs=10, verbose=2, validation_split=0.1)\n",
    "    pred_ans = wdl.predict(test_input, batch_size=256)\n",
    "    wdl_mse += mean_squared_error(test_target, pred_ans)\n",
    "    \n",
    "    pred_ans = np.where(pred_ans > 3, 1, 0).reshape((1, -1))\n",
    "    wdl_recall += recall_score(binary_target.reshape(-1, 1), pred_ans.reshape(-1, 1))\n",
    "    wdl_ndcg += ndcg_score(binary_target, pred_ans)\n",
    "#     print(\"WDL MSE\", round(mean_squared_error(test_target, pred_ans), 4))\n",
    "    \n",
    "    print(\"\\n\\n Training DCN \\n\")\n",
    "    ### DCN\n",
    "    dcn = DCN(linear_feature_columns, dnn_feature_columns, task='regression', device=device)\n",
    "    dcn.compile(\"adam\", \"mse\", metrics=['mse'], )\n",
    "    dcn_hist = dcn.fit(train_input, train_target, batch_size=256, epochs=10, verbose=2, validation_split=0.1)\n",
    "    pred_ans = dcn.predict(test_input, batch_size=256)\n",
    "    dcn_mse += mean_squared_error(test_target, pred_ans)\n",
    "    \n",
    "    pred_ans = np.where(pred_ans > 3, 1, 0).reshape((1, -1))\n",
    "    dcn_recall += recall_score(binary_target.reshape(-1, 1), pred_ans.reshape(-1, 1))\n",
    "    dcn_ndcg += ndcg_score(binary_target, pred_ans)\n",
    "#     print(\"DCN MSE\", round(mean_squared_error(test_target, pred_ans), 4))\n",
    "    \n",
    "    \n",
    "    print(\"\\n\\n Training xDeepFM \\n\")\n",
    "    ### xDeepFM\n",
    "    xdeepfm = xDeepFM(linear_feature_columns, dnn_feature_columns, task='regression', device=device)\n",
    "    xdeepfm.compile(\"adam\", \"mse\", metrics=['mse'], )\n",
    "    xdeepfm_hist = xdeepfm.fit(train_input, train_target, batch_size=256, epochs=10, verbose=2, validation_split=0.1)\n",
    "    pred_ans = xdeepfm.predict(test_input, batch_size=256)\n",
    "    xdeepfm_mse += mean_squared_error(test_target, pred_ans)\n",
    "    \n",
    "    pred_ans = np.where(pred_ans > 3, 1, 0).reshape((1, -1))\n",
    "    xdeepfm_recall += recall_score(binary_target.reshape(-1, 1), pred_ans.reshape(-1, 1))\n",
    "    xdeepfm_ndcg += ndcg_score(binary_target, pred_ans)\n",
    "#     print(\"xDeepFM MSE\", round(mean_squared_error(test_target, pred_ans), 4))\n",
    "    \n",
    "    \n",
    "    print(\"\\n\\n Training AFM \\n\")\n",
    "    ### AFM\n",
    "    afm = AFM(linear_feature_columns, dnn_feature_columns, task='regression', device=device)\n",
    "    afm.compile(\"adam\", \"mse\", metrics=['mse'], )\n",
    "    afm_hist = afm.fit(train_input, train_target, batch_size=256, epochs=10, verbose=2, validation_split=0.1)\n",
    "    pred_ans = afm.predict(test_input, batch_size=256)\n",
    "    afm_mse += mean_squared_error(test_target, pred_ans)\n",
    "    \n",
    "    pred_ans = np.where(pred_ans > 3, 1, 0).reshape((1, -1))\n",
    "    afm_recall += recall_score(binary_target.reshape(-1, 1), pred_ans.reshape(-1, 1))\n",
    "    afm_ndcg += ndcg_score(binary_target, pred_ans)\n",
    "#     print(\"AFM MSE\", round(mean_squared_error(test_target, pred_ans), 4))\n",
    "    \n",
    "    \"\"\"\n",
    "    print(\"\\n Training DIN \\n\")\n",
    "    ### DIN\n",
    "    din = DIN(dnn_feature_columns, [], task='regression', device=device)\n",
    "    din.compile(\"adam\", \"mse\", metrics=['mse'], )\n",
    "    din_hist = din.fit(train_input, train_target, batch_size=256, epochs=10, verbose=2, validation_split=0.1)\n",
    "    pred_ans = din.predict(test_input, batch_size=256)\n",
    "    din_mse += mean_squared_error(test_target, pred_ans)\n",
    "    print(\"DIN MSE\", round(mean_squared_error(test_target, pred_ans), 4))\n",
    "    \"\"\""
   ]
  },
  {
   "cell_type": "code",
   "execution_count": null,
   "id": "affecting-marsh",
   "metadata": {},
   "outputs": [],
   "source": []
  },
  {
   "cell_type": "code",
   "execution_count": null,
   "id": "green-columbus",
   "metadata": {},
   "outputs": [],
   "source": []
  },
  {
   "cell_type": "code",
   "execution_count": 20,
   "id": "moral-layer",
   "metadata": {},
   "outputs": [
    {
     "data": {
      "text/plain": [
       "0.8965664070748494"
      ]
     },
     "execution_count": 20,
     "metadata": {},
     "output_type": "execute_result"
    }
   ],
   "source": [
    "deepfm_mse /5"
   ]
  },
  {
   "cell_type": "code",
   "execution_count": 21,
   "id": "british-genius",
   "metadata": {},
   "outputs": [
    {
     "data": {
      "text/plain": [
       "0.8873311539196937"
      ]
     },
     "execution_count": 21,
     "metadata": {},
     "output_type": "execute_result"
    }
   ],
   "source": [
    "ccpm_mse /5"
   ]
  },
  {
   "cell_type": "code",
   "execution_count": 22,
   "id": "christian-mediterranean",
   "metadata": {},
   "outputs": [
    {
     "data": {
      "text/plain": [
       "0.8818177613718984"
      ]
     },
     "execution_count": 22,
     "metadata": {},
     "output_type": "execute_result"
    }
   ],
   "source": [
    "ipnn_mse /5"
   ]
  },
  {
   "cell_type": "code",
   "execution_count": 23,
   "id": "parliamentary-glass",
   "metadata": {},
   "outputs": [
    {
     "data": {
      "text/plain": [
       "0.8718976997185459"
      ]
     },
     "execution_count": 23,
     "metadata": {},
     "output_type": "execute_result"
    }
   ],
   "source": [
    "opnn_mse /5"
   ]
  },
  {
   "cell_type": "code",
   "execution_count": 24,
   "id": "welcome-progressive",
   "metadata": {},
   "outputs": [
    {
     "data": {
      "text/plain": [
       "0.8956361049000187"
      ]
     },
     "execution_count": 24,
     "metadata": {},
     "output_type": "execute_result"
    }
   ],
   "source": [
    "wdl_mse /5"
   ]
  },
  {
   "cell_type": "code",
   "execution_count": 25,
   "id": "stopped-actress",
   "metadata": {},
   "outputs": [
    {
     "data": {
      "text/plain": [
       "0.8940602995300759"
      ]
     },
     "execution_count": 25,
     "metadata": {},
     "output_type": "execute_result"
    }
   ],
   "source": [
    "dcn_mse /5"
   ]
  },
  {
   "cell_type": "code",
   "execution_count": 26,
   "id": "advanced-currency",
   "metadata": {},
   "outputs": [
    {
     "data": {
      "text/plain": [
       "0.8911020372906069"
      ]
     },
     "execution_count": 26,
     "metadata": {},
     "output_type": "execute_result"
    }
   ],
   "source": [
    "xdeepfm_mse /5"
   ]
  },
  {
   "cell_type": "code",
   "execution_count": 27,
   "id": "alleged-switzerland",
   "metadata": {},
   "outputs": [
    {
     "data": {
      "text/plain": [
       "0.9106879186898977"
      ]
     },
     "execution_count": 27,
     "metadata": {},
     "output_type": "execute_result"
    }
   ],
   "source": [
    "afm_mse /5"
   ]
  },
  {
   "cell_type": "code",
   "execution_count": null,
   "id": "color-lightweight",
   "metadata": {},
   "outputs": [],
   "source": []
  },
  {
   "cell_type": "code",
   "execution_count": 28,
   "id": "adjusted-olympus",
   "metadata": {
    "scrolled": true
   },
   "outputs": [
    {
     "data": {
      "text/plain": [
       "0.9300961308896227"
      ]
     },
     "execution_count": 28,
     "metadata": {},
     "output_type": "execute_result"
    }
   ],
   "source": [
    "deepfm_recall /5"
   ]
  },
  {
   "cell_type": "code",
   "execution_count": 29,
   "id": "micro-debut",
   "metadata": {},
   "outputs": [
    {
     "data": {
      "text/plain": [
       "0.9344160116168373"
      ]
     },
     "execution_count": 29,
     "metadata": {},
     "output_type": "execute_result"
    }
   ],
   "source": [
    "ccpm_recall /5"
   ]
  },
  {
   "cell_type": "code",
   "execution_count": 30,
   "id": "forty-acoustic",
   "metadata": {},
   "outputs": [
    {
     "data": {
      "text/plain": [
       "0.9333771703061771"
      ]
     },
     "execution_count": 30,
     "metadata": {},
     "output_type": "execute_result"
    }
   ],
   "source": [
    "ipnn_recall /5"
   ]
  },
  {
   "cell_type": "code",
   "execution_count": 31,
   "id": "turned-surgeon",
   "metadata": {},
   "outputs": [
    {
     "data": {
      "text/plain": [
       "0.9322003815432055"
      ]
     },
     "execution_count": 31,
     "metadata": {},
     "output_type": "execute_result"
    }
   ],
   "source": [
    "opnn_recall /5"
   ]
  },
  {
   "cell_type": "code",
   "execution_count": 32,
   "id": "interracial-deployment",
   "metadata": {},
   "outputs": [
    {
     "data": {
      "text/plain": [
       "0.928280401666098"
      ]
     },
     "execution_count": 32,
     "metadata": {},
     "output_type": "execute_result"
    }
   ],
   "source": [
    "dcn_recall /5"
   ]
  },
  {
   "cell_type": "code",
   "execution_count": 33,
   "id": "communist-farmer",
   "metadata": {},
   "outputs": [
    {
     "data": {
      "text/plain": [
       "0.9310899912248207"
      ]
     },
     "execution_count": 33,
     "metadata": {},
     "output_type": "execute_result"
    }
   ],
   "source": [
    "wdl_recall /5"
   ]
  },
  {
   "cell_type": "code",
   "execution_count": 34,
   "id": "artistic-logic",
   "metadata": {},
   "outputs": [
    {
     "data": {
      "text/plain": [
       "0.9395622294521615"
      ]
     },
     "execution_count": 34,
     "metadata": {},
     "output_type": "execute_result"
    }
   ],
   "source": [
    "xdeepfm_recall /5"
   ]
  },
  {
   "cell_type": "code",
   "execution_count": 35,
   "id": "athletic-cursor",
   "metadata": {},
   "outputs": [
    {
     "data": {
      "text/plain": [
       "0.9303923475457182"
      ]
     },
     "execution_count": 35,
     "metadata": {},
     "output_type": "execute_result"
    }
   ],
   "source": [
    "afm_recall /5"
   ]
  },
  {
   "cell_type": "code",
   "execution_count": null,
   "id": "united-grave",
   "metadata": {},
   "outputs": [],
   "source": []
  },
  {
   "cell_type": "code",
   "execution_count": 36,
   "id": "outside-purpose",
   "metadata": {},
   "outputs": [
    {
     "data": {
      "text/plain": [
       "0.9461805348467902"
      ]
     },
     "execution_count": 36,
     "metadata": {},
     "output_type": "execute_result"
    }
   ],
   "source": [
    "deepfm_ndcg /5"
   ]
  },
  {
   "cell_type": "code",
   "execution_count": 37,
   "id": "lonely-embassy",
   "metadata": {},
   "outputs": [
    {
     "data": {
      "text/plain": [
       "0.9461808864567868"
      ]
     },
     "execution_count": 37,
     "metadata": {},
     "output_type": "execute_result"
    }
   ],
   "source": [
    "ccpm_ndcg /5"
   ]
  },
  {
   "cell_type": "code",
   "execution_count": 38,
   "id": "verified-report",
   "metadata": {},
   "outputs": [
    {
     "data": {
      "text/plain": [
       "0.9462813556919686"
      ]
     },
     "execution_count": 38,
     "metadata": {},
     "output_type": "execute_result"
    }
   ],
   "source": [
    "ipnn_ndcg /5"
   ]
  },
  {
   "cell_type": "code",
   "execution_count": 39,
   "id": "basic-adjustment",
   "metadata": {},
   "outputs": [
    {
     "data": {
      "text/plain": [
       "0.9467626747939667"
      ]
     },
     "execution_count": 39,
     "metadata": {},
     "output_type": "execute_result"
    }
   ],
   "source": [
    "opnn_ndcg /5"
   ]
  },
  {
   "cell_type": "code",
   "execution_count": 40,
   "id": "proud-official",
   "metadata": {},
   "outputs": [
    {
     "data": {
      "text/plain": [
       "0.9461411619639233"
      ]
     },
     "execution_count": 40,
     "metadata": {},
     "output_type": "execute_result"
    }
   ],
   "source": [
    "wdl_ndcg /5"
   ]
  },
  {
   "cell_type": "code",
   "execution_count": 41,
   "id": "competitive-extra",
   "metadata": {},
   "outputs": [
    {
     "data": {
      "text/plain": [
       "0.9465812029460802"
      ]
     },
     "execution_count": 41,
     "metadata": {},
     "output_type": "execute_result"
    }
   ],
   "source": [
    "dcn_ndcg /5"
   ]
  },
  {
   "cell_type": "code",
   "execution_count": 42,
   "id": "metallic-filename",
   "metadata": {},
   "outputs": [
    {
     "data": {
      "text/plain": [
       "0.9457404331447641"
      ]
     },
     "execution_count": 42,
     "metadata": {},
     "output_type": "execute_result"
    }
   ],
   "source": [
    "xdeepfm_ndcg /5"
   ]
  },
  {
   "cell_type": "code",
   "execution_count": 43,
   "id": "preceding-breach",
   "metadata": {
    "scrolled": true
   },
   "outputs": [
    {
     "data": {
      "text/plain": [
       "0.9451150968340188"
      ]
     },
     "execution_count": 43,
     "metadata": {},
     "output_type": "execute_result"
    }
   ],
   "source": [
    "afm_ndcg /5"
   ]
  },
  {
   "cell_type": "code",
   "execution_count": null,
   "id": "statewide-retailer",
   "metadata": {},
   "outputs": [],
   "source": []
  },
  {
   "cell_type": "code",
   "execution_count": null,
   "id": "binding-excitement",
   "metadata": {},
   "outputs": [],
   "source": []
  },
  {
   "cell_type": "code",
   "execution_count": null,
   "id": "reflected-fashion",
   "metadata": {},
   "outputs": [],
   "source": []
  },
  {
   "cell_type": "markdown",
   "id": "hazardous-revelation",
   "metadata": {},
   "source": [
    "# Test single model"
   ]
  },
  {
   "cell_type": "code",
   "execution_count": 38,
   "id": "stable-selling",
   "metadata": {},
   "outputs": [],
   "source": [
    "train_p = os.path.join(root, \"train.dat\")"
   ]
  },
  {
   "cell_type": "code",
   "execution_count": 39,
   "id": "laughing-result",
   "metadata": {},
   "outputs": [],
   "source": [
    "group, group_i, group_m = utils.m2m_to_list(os.path.join(os.getcwd(), \"DoubanBook\", \"user_group.dat\"), user_cnt=13024)\n",
    "location, location_i, location_m = utils.m2m_to_list(os.path.join(os.getcwd(), \"DoubanBook\", \"user_location.dat\"), user_cnt=13024)\n",
    "user, user_i, user_m = utils.m2m_to_list(os.path.join(os.getcwd(), \"DoubanBook\", \"user_user.dat\"), user_cnt=13024)"
   ]
  },
  {
   "cell_type": "code",
   "execution_count": 40,
   "id": "likely-venture",
   "metadata": {},
   "outputs": [],
   "source": [
    "year, year_i, year_m = utils.m2m_to_list(os.path.join(os.getcwd(), \"DoubanBook\", \"book_year.dat\"), user_cnt=22347)\n",
    "publisher, publisher_i, publisher_m = utils.m2m_to_list(os.path.join(os.getcwd(), \"DoubanBook\", \"book_publisher.dat\"), user_cnt=22347)\n",
    "author, author_i, author_m = utils.m2m_to_list(os.path.join(os.getcwd(), \"DoubanBook\", \"book_author.dat\"), user_cnt=22347)"
   ]
  },
  {
   "cell_type": "code",
   "execution_count": 41,
   "id": "statistical-criminal",
   "metadata": {},
   "outputs": [],
   "source": [
    "sparse_features = [\"cols_0\", \"cols_1\"] # user_id, movie_id\n",
    "rating = \"cols_2\""
   ]
  },
  {
   "cell_type": "code",
   "execution_count": 42,
   "id": "disabled-virgin",
   "metadata": {},
   "outputs": [
    {
     "data": {
      "text/html": [
       "<div>\n",
       "<style scoped>\n",
       "    .dataframe tbody tr th:only-of-type {\n",
       "        vertical-align: middle;\n",
       "    }\n",
       "\n",
       "    .dataframe tbody tr th {\n",
       "        vertical-align: top;\n",
       "    }\n",
       "\n",
       "    .dataframe thead th {\n",
       "        text-align: right;\n",
       "    }\n",
       "</style>\n",
       "<table border=\"1\" class=\"dataframe\">\n",
       "  <thead>\n",
       "    <tr style=\"text-align: right;\">\n",
       "      <th></th>\n",
       "      <th>cols_0</th>\n",
       "      <th>cols_1</th>\n",
       "      <th>cols_2</th>\n",
       "    </tr>\n",
       "  </thead>\n",
       "  <tbody>\n",
       "    <tr>\n",
       "      <th>0</th>\n",
       "      <td>9608</td>\n",
       "      <td>791</td>\n",
       "      <td>3</td>\n",
       "    </tr>\n",
       "    <tr>\n",
       "      <th>1</th>\n",
       "      <td>11607</td>\n",
       "      <td>2664</td>\n",
       "      <td>4</td>\n",
       "    </tr>\n",
       "    <tr>\n",
       "      <th>2</th>\n",
       "      <td>3630</td>\n",
       "      <td>712</td>\n",
       "      <td>4</td>\n",
       "    </tr>\n",
       "    <tr>\n",
       "      <th>3</th>\n",
       "      <td>12070</td>\n",
       "      <td>5046</td>\n",
       "      <td>5</td>\n",
       "    </tr>\n",
       "    <tr>\n",
       "      <th>4</th>\n",
       "      <td>3967</td>\n",
       "      <td>202</td>\n",
       "      <td>5</td>\n",
       "    </tr>\n",
       "  </tbody>\n",
       "</table>\n",
       "</div>"
      ],
      "text/plain": [
       "   cols_0  cols_1  cols_2\n",
       "0    9608     791       3\n",
       "1   11607    2664       4\n",
       "2    3630     712       4\n",
       "3   12070    5046       5\n",
       "4    3967     202       5"
      ]
     },
     "execution_count": 42,
     "metadata": {},
     "output_type": "execute_result"
    }
   ],
   "source": [
    "train = utils.read_file(train_p)\n",
    "train.head()"
   ]
  },
  {
   "cell_type": "code",
   "execution_count": 43,
   "id": "consecutive-latin",
   "metadata": {},
   "outputs": [],
   "source": [
    "_group = group[rel.cols_0 -1]\n",
    "_location = location[rel.cols_0 -1]\n",
    "_user = user[rel.cols_0 -1]\n",
    "\n",
    "_year = year[rel.cols_1 -1]\n",
    "_publisher = publisher[rel.cols_1 -1]\n",
    "_author = author[rel.cols_1 -1]"
   ]
  },
  {
   "cell_type": "code",
   "execution_count": 44,
   "id": "scheduled-violence",
   "metadata": {},
   "outputs": [],
   "source": [
    "# 1.Label Encoding for sparse features,and process sequence features\n",
    "for feat in sparse_features:\n",
    "    lbe = LabelEncoder()\n",
    "    train[feat] = lbe.fit_transform(train[feat])"
   ]
  },
  {
   "cell_type": "code",
   "execution_count": 45,
   "id": "detailed-homework",
   "metadata": {},
   "outputs": [],
   "source": [
    "fixlen_feature_columns = [SparseFeat(feat, train[feat].nunique(), embedding_dim=4) for feat in sparse_features]\n",
    "\n",
    "varlen_feature_columns = [\n",
    "    VarLenSparseFeat(SparseFeat('group', vocabulary_size=group_i + 1, embedding_dim=4), maxlen=group_m, combiner='mean'),\n",
    "    VarLenSparseFeat(SparseFeat('location', vocabulary_size=location_i + 1, embedding_dim=4), maxlen=location_m, combiner='mean'),\n",
    "    VarLenSparseFeat(SparseFeat('user', vocabulary_size=13024 + 1, embedding_dim=4), maxlen=user_m, combiner='mean'),\n",
    "    \n",
    "    VarLenSparseFeat(SparseFeat('year', vocabulary_size=year_i + 1, embedding_dim=4), maxlen=year_m, combiner='mean'),\n",
    "    VarLenSparseFeat(SparseFeat('publisher', vocabulary_size=publisher_i + 1, embedding_dim=4), maxlen=publisher_m, combiner='mean'),\n",
    "    VarLenSparseFeat(SparseFeat('author', vocabulary_size=author_i + 1, embedding_dim=4), maxlen=author_m, combiner='mean')\n",
    "]"
   ]
  },
  {
   "cell_type": "code",
   "execution_count": 46,
   "id": "after-cannon",
   "metadata": {},
   "outputs": [],
   "source": [
    "linear_feature_columns = fixlen_feature_columns + varlen_feature_columns\n",
    "dnn_feature_columns = fixlen_feature_columns + varlen_feature_columns\n",
    "\n",
    "feature_names = get_feature_names(linear_feature_columns + dnn_feature_columns)"
   ]
  },
  {
   "cell_type": "code",
   "execution_count": 47,
   "id": "logical-emerald",
   "metadata": {},
   "outputs": [],
   "source": [
    "# 3.generate input data for model\n",
    "model_input = {name: train[name] for name in sparse_features}  #\n",
    "model_input[\"group\"] = _group\n",
    "model_input[\"location\"] = _location\n",
    "model_input[\"user\"] = _user\n",
    "model_input[\"year\"] = _year\n",
    "model_input[\"publisher\"] = _publisher\n",
    "model_input[\"author\"] = _author"
   ]
  },
  {
   "cell_type": "code",
   "execution_count": null,
   "id": "comic-exception",
   "metadata": {},
   "outputs": [],
   "source": []
  },
  {
   "cell_type": "code",
   "execution_count": null,
   "id": "right-drill",
   "metadata": {},
   "outputs": [],
   "source": []
  },
  {
   "cell_type": "code",
   "execution_count": null,
   "id": "acknowledged-public",
   "metadata": {},
   "outputs": [],
   "source": []
  },
  {
   "cell_type": "markdown",
   "id": "female-maple",
   "metadata": {},
   "source": [
    "### DeepFM"
   ]
  },
  {
   "cell_type": "code",
   "execution_count": 15,
   "id": "wireless-boring",
   "metadata": {},
   "outputs": [],
   "source": [
    "from deepctr_torch.models import DeepFM"
   ]
  },
  {
   "cell_type": "code",
   "execution_count": 16,
   "id": "unexpected-stack",
   "metadata": {},
   "outputs": [
    {
     "name": "stdout",
     "output_type": "stream",
     "text": [
      "cuda:0\n",
      "Train on 456227 samples, validate on 114057 samples, 1783 steps per epoch\n",
      "Epoch 1/10\n",
      "228s - loss:  0.7947 - mse:  0.7945 - val_mse:  0.5051\n",
      "Epoch 2/10\n",
      "230s - loss:  0.4835 - mse:  0.4835 - val_mse:  0.5019\n",
      "Epoch 3/10\n",
      "228s - loss:  0.4719 - mse:  0.4718 - val_mse:  0.4993\n",
      "Epoch 4/10\n",
      "226s - loss:  0.4649 - mse:  0.4649 - val_mse:  0.5034\n",
      "Epoch 5/10\n",
      "232s - loss:  0.4600 - mse:  0.4599 - val_mse:  0.4983\n",
      "Epoch 6/10\n",
      "226s - loss:  0.4546 - mse:  0.4545 - val_mse:  0.5073\n",
      "Epoch 7/10\n",
      "228s - loss:  0.4494 - mse:  0.4492 - val_mse:  0.5018\n",
      "Epoch 8/10\n",
      "229s - loss:  0.4428 - mse:  0.4426 - val_mse:  0.5088\n",
      "Epoch 9/10\n",
      "228s - loss:  0.4335 - mse:  0.4333 - val_mse:  0.4998\n",
      "Epoch 10/10\n",
      "229s - loss:  0.4216 - mse:  0.4213 - val_mse:  0.5087\n"
     ]
    }
   ],
   "source": [
    "deepfm = DeepFM(linear_feature_columns, dnn_feature_columns, task='regression', device=device)\n",
    "\n",
    "deepfm.compile(\"adam\", \"mse\", metrics=['mse'], )\n",
    "history = deepfm.fit(model_input, train_df[rating].values, batch_size=256, epochs=10, verbose=2, validation_split=0.2)"
   ]
  },
  {
   "cell_type": "code",
   "execution_count": null,
   "id": "composed-relation",
   "metadata": {},
   "outputs": [],
   "source": []
  },
  {
   "cell_type": "markdown",
   "id": "superb-greeting",
   "metadata": {},
   "source": [
    "### CCPM"
   ]
  },
  {
   "cell_type": "code",
   "execution_count": 17,
   "id": "grave-companion",
   "metadata": {},
   "outputs": [],
   "source": [
    "from deepctr_torch.models import CCPM"
   ]
  },
  {
   "cell_type": "code",
   "execution_count": 18,
   "id": "static-martin",
   "metadata": {},
   "outputs": [
    {
     "name": "stdout",
     "output_type": "stream",
     "text": [
      "cuda:0\n",
      "Train on 456227 samples, validate on 114057 samples, 1783 steps per epoch\n",
      "Epoch 1/10\n",
      "228s - loss:  0.7249 - mse:  0.7248 - val_mse:  0.5026\n",
      "Epoch 2/10\n",
      "229s - loss:  0.4766 - mse:  0.4765 - val_mse:  0.4946\n",
      "Epoch 3/10\n",
      "224s - loss:  0.4588 - mse:  0.4588 - val_mse:  0.4915\n",
      "Epoch 4/10\n",
      "231s - loss:  0.4455 - mse:  0.4456 - val_mse:  0.4947\n",
      "Epoch 5/10\n",
      "237s - loss:  0.4302 - mse:  0.4300 - val_mse:  0.4993\n",
      "Epoch 6/10\n",
      "232s - loss:  0.4124 - mse:  0.4122 - val_mse:  0.5155\n",
      "Epoch 7/10\n",
      "207s - loss:  0.3938 - mse:  0.3936 - val_mse:  0.5194\n",
      "Epoch 8/10\n",
      "210s - loss:  0.3771 - mse:  0.3770 - val_mse:  0.5336\n",
      "Epoch 9/10\n",
      "214s - loss:  0.3616 - mse:  0.3613 - val_mse:  0.5405\n",
      "Epoch 10/10\n",
      "213s - loss:  0.3485 - mse:  0.3483 - val_mse:  0.5592\n"
     ]
    }
   ],
   "source": [
    "ccpm = CCPM(linear_feature_columns, dnn_feature_columns, task='regression', device=device)\n",
    "\n",
    "ccpm.compile(\"adam\", \"mse\", metrics=['mse'], )\n",
    "history = ccpm.fit(model_input, train_df[rating].values, batch_size=256, epochs=10, verbose=2, validation_split=0.2)"
   ]
  },
  {
   "cell_type": "code",
   "execution_count": null,
   "id": "narrow-masters",
   "metadata": {},
   "outputs": [],
   "source": []
  },
  {
   "cell_type": "markdown",
   "id": "renewable-forwarding",
   "metadata": {},
   "source": [
    "### PNN"
   ]
  },
  {
   "cell_type": "code",
   "execution_count": 19,
   "id": "dated-performer",
   "metadata": {},
   "outputs": [],
   "source": [
    "from deepctr_torch.models import PNN"
   ]
  },
  {
   "cell_type": "markdown",
   "id": "separate-accused",
   "metadata": {},
   "source": [
    "#### IPNN"
   ]
  },
  {
   "cell_type": "code",
   "execution_count": 20,
   "id": "little-percentage",
   "metadata": {},
   "outputs": [],
   "source": [
    "ipnn = PNN(dnn_feature_columns, task='regression', device=device, use_inner=True, use_outter=False)"
   ]
  },
  {
   "cell_type": "code",
   "execution_count": 21,
   "id": "celtic-qualification",
   "metadata": {},
   "outputs": [
    {
     "name": "stdout",
     "output_type": "stream",
     "text": [
      "cuda:0\n",
      "Train on 456227 samples, validate on 114057 samples, 1783 steps per epoch\n",
      "Epoch 1/10\n",
      "125s - loss:  0.9133 - mse:  0.9131 - val_mse:  0.5042\n",
      "Epoch 2/10\n",
      "125s - loss:  0.4784 - mse:  0.4784 - val_mse:  0.4927\n",
      "Epoch 3/10\n",
      "123s - loss:  0.4554 - mse:  0.4554 - val_mse:  0.4902\n",
      "Epoch 4/10\n",
      "124s - loss:  0.4353 - mse:  0.4353 - val_mse:  0.4972\n",
      "Epoch 5/10\n",
      "128s - loss:  0.4149 - mse:  0.4150 - val_mse:  0.5067\n",
      "Epoch 6/10\n",
      "128s - loss:  0.3920 - mse:  0.3918 - val_mse:  0.5238\n",
      "Epoch 7/10\n",
      "128s - loss:  0.3712 - mse:  0.3711 - val_mse:  0.5402\n",
      "Epoch 8/10\n",
      "136s - loss:  0.3534 - mse:  0.3532 - val_mse:  0.5562\n",
      "Epoch 9/10\n",
      "141s - loss:  0.3391 - mse:  0.3390 - val_mse:  0.5750\n",
      "Epoch 10/10\n",
      "136s - loss:  0.3282 - mse:  0.3280 - val_mse:  0.5825\n"
     ]
    }
   ],
   "source": [
    "ipnn.compile(\"adam\", \"mse\", metrics=['mse'], )\n",
    "history = ipnn.fit(model_input, train_df[rating].values, batch_size=256, epochs=10, verbose=2, validation_split=0.2)"
   ]
  },
  {
   "cell_type": "markdown",
   "id": "imperial-swing",
   "metadata": {},
   "source": [
    "#### OPNN"
   ]
  },
  {
   "cell_type": "code",
   "execution_count": 22,
   "id": "abstract-makeup",
   "metadata": {},
   "outputs": [],
   "source": [
    "opnn = PNN(dnn_feature_columns, task='regression', device=device, use_inner=False, use_outter=True)"
   ]
  },
  {
   "cell_type": "code",
   "execution_count": 23,
   "id": "collaborative-medicine",
   "metadata": {},
   "outputs": [
    {
     "name": "stdout",
     "output_type": "stream",
     "text": [
      "cuda:0\n",
      "Train on 456227 samples, validate on 114057 samples, 1783 steps per epoch\n",
      "Epoch 1/10\n",
      "142s - loss:  0.8448 - mse:  0.8446 - val_mse:  0.5039\n",
      "Epoch 2/10\n",
      "143s - loss:  0.4802 - mse:  0.4802 - val_mse:  0.4969\n",
      "Epoch 3/10\n",
      "141s - loss:  0.4659 - mse:  0.4658 - val_mse:  0.4955\n",
      "Epoch 4/10\n",
      "149s - loss:  0.4523 - mse:  0.4523 - val_mse:  0.4966\n",
      "Epoch 5/10\n",
      "145s - loss:  0.4381 - mse:  0.4381 - val_mse:  0.4894\n",
      "Epoch 6/10\n",
      "148s - loss:  0.4243 - mse:  0.4242 - val_mse:  0.4984\n",
      "Epoch 7/10\n",
      "149s - loss:  0.4031 - mse:  0.4031 - val_mse:  0.5068\n",
      "Epoch 8/10\n",
      "148s - loss:  0.3811 - mse:  0.3809 - val_mse:  0.5243\n",
      "Epoch 9/10\n",
      "149s - loss:  0.3619 - mse:  0.3618 - val_mse:  0.5375\n",
      "Epoch 10/10\n",
      "150s - loss:  0.3465 - mse:  0.3463 - val_mse:  0.5589\n"
     ]
    }
   ],
   "source": [
    "opnn.compile(\"adam\", \"mse\", metrics=['mse'], )\n",
    "history = opnn.fit(model_input, train_df[rating].values, batch_size=256, epochs=10, verbose=2, validation_split=0.2)"
   ]
  },
  {
   "cell_type": "markdown",
   "id": "proved-airplane",
   "metadata": {},
   "source": [
    "#### PIN"
   ]
  },
  {
   "cell_type": "code",
   "execution_count": null,
   "id": "great-bridal",
   "metadata": {},
   "outputs": [],
   "source": []
  },
  {
   "cell_type": "code",
   "execution_count": null,
   "id": "convenient-ecuador",
   "metadata": {},
   "outputs": [],
   "source": []
  },
  {
   "cell_type": "markdown",
   "id": "relative-sustainability",
   "metadata": {},
   "source": [
    "### Wide & Deep"
   ]
  },
  {
   "cell_type": "code",
   "execution_count": 24,
   "id": "consistent-access",
   "metadata": {},
   "outputs": [],
   "source": [
    "from deepctr_torch.models import WDL"
   ]
  },
  {
   "cell_type": "code",
   "execution_count": 25,
   "id": "protected-bunch",
   "metadata": {},
   "outputs": [],
   "source": [
    "wdl = WDL(linear_feature_columns, dnn_feature_columns, task='regression', device=device)"
   ]
  },
  {
   "cell_type": "code",
   "execution_count": 26,
   "id": "female-tokyo",
   "metadata": {},
   "outputs": [
    {
     "name": "stdout",
     "output_type": "stream",
     "text": [
      "cuda:0\n",
      "Train on 456227 samples, validate on 114057 samples, 1783 steps per epoch\n",
      "Epoch 1/10\n",
      "246s - loss:  0.7961 - mse:  0.7960 - val_mse:  0.5040\n",
      "Epoch 2/10\n",
      "240s - loss:  0.4823 - mse:  0.4823 - val_mse:  0.5012\n",
      "Epoch 3/10\n",
      "246s - loss:  0.4711 - mse:  0.4710 - val_mse:  0.4985\n",
      "Epoch 4/10\n",
      "250s - loss:  0.4652 - mse:  0.4651 - val_mse:  0.5034\n",
      "Epoch 5/10\n",
      "244s - loss:  0.4620 - mse:  0.4618 - val_mse:  0.4979\n",
      "Epoch 6/10\n",
      "246s - loss:  0.4590 - mse:  0.4589 - val_mse:  0.5057\n",
      "Epoch 7/10\n",
      "227s - loss:  0.4565 - mse:  0.4564 - val_mse:  0.5003\n",
      "Epoch 8/10\n",
      "216s - loss:  0.4539 - mse:  0.4538 - val_mse:  0.5046\n",
      "Epoch 9/10\n",
      "224s - loss:  0.4500 - mse:  0.4499 - val_mse:  0.4941\n",
      "Epoch 10/10\n",
      "246s - loss:  0.4450 - mse:  0.4449 - val_mse:  0.4990\n"
     ]
    }
   ],
   "source": [
    "wdl.compile(\"adam\", \"mse\", metrics=['mse'], )\n",
    "history = wdl.fit(model_input, train_df[rating].values, batch_size=256, epochs=10, verbose=2, validation_split=0.2)"
   ]
  },
  {
   "cell_type": "markdown",
   "id": "controlling-lounge",
   "metadata": {},
   "source": [
    "### Deep Cross"
   ]
  },
  {
   "cell_type": "code",
   "execution_count": 27,
   "id": "parallel-alliance",
   "metadata": {},
   "outputs": [],
   "source": [
    "from deepctr_torch.models import DCN"
   ]
  },
  {
   "cell_type": "code",
   "execution_count": 28,
   "id": "thorough-hamburg",
   "metadata": {},
   "outputs": [],
   "source": [
    "dcn = DCN(linear_feature_columns, dnn_feature_columns, task='regression', device=device)"
   ]
  },
  {
   "cell_type": "code",
   "execution_count": 29,
   "id": "crucial-establishment",
   "metadata": {},
   "outputs": [
    {
     "name": "stdout",
     "output_type": "stream",
     "text": [
      "cuda:0\n",
      "Train on 456227 samples, validate on 114057 samples, 1783 steps per epoch\n",
      "Epoch 1/10\n",
      "258s - loss:  0.8089 - mse:  0.8087 - val_mse:  0.5125\n",
      "Epoch 2/10\n",
      "261s - loss:  0.4816 - mse:  0.4817 - val_mse:  0.4968\n",
      "Epoch 3/10\n",
      "261s - loss:  0.4698 - mse:  0.4698 - val_mse:  0.4977\n",
      "Epoch 4/10\n",
      "257s - loss:  0.4629 - mse:  0.4628 - val_mse:  0.4945\n",
      "Epoch 5/10\n",
      "255s - loss:  0.4569 - mse:  0.4567 - val_mse:  0.4912\n",
      "Epoch 6/10\n",
      "258s - loss:  0.4486 - mse:  0.4486 - val_mse:  0.4922\n",
      "Epoch 7/10\n",
      "252s - loss:  0.4416 - mse:  0.4415 - val_mse:  0.4916\n",
      "Epoch 8/10\n",
      "251s - loss:  0.4345 - mse:  0.4343 - val_mse:  0.4934\n",
      "Epoch 9/10\n",
      "256s - loss:  0.4284 - mse:  0.4283 - val_mse:  0.4968\n",
      "Epoch 10/10\n",
      "263s - loss:  0.4220 - mse:  0.4217 - val_mse:  0.5029\n"
     ]
    }
   ],
   "source": [
    "dcn.compile(\"adam\", \"mse\", metrics=['mse'], )\n",
    "history = dcn.fit(model_input, train_df[rating].values, batch_size=256, epochs=10, verbose=2, validation_split=0.2)"
   ]
  },
  {
   "cell_type": "markdown",
   "id": "formal-atlantic",
   "metadata": {},
   "source": [
    "### xDeepFM"
   ]
  },
  {
   "cell_type": "code",
   "execution_count": 30,
   "id": "electronic-cream",
   "metadata": {},
   "outputs": [],
   "source": [
    "from deepctr_torch.models import xDeepFM"
   ]
  },
  {
   "cell_type": "code",
   "execution_count": 31,
   "id": "expanded-concrete",
   "metadata": {},
   "outputs": [],
   "source": [
    "xdeepfm = xDeepFM(linear_feature_columns, dnn_feature_columns, task='regression', device=device)"
   ]
  },
  {
   "cell_type": "code",
   "execution_count": 32,
   "id": "affecting-compiler",
   "metadata": {},
   "outputs": [
    {
     "name": "stdout",
     "output_type": "stream",
     "text": [
      "cuda:0\n",
      "Train on 456227 samples, validate on 114057 samples, 1783 steps per epoch\n",
      "Epoch 1/10\n",
      "267s - loss:  0.6677 - mse:  0.6676 - val_mse:  0.5041\n",
      "Epoch 2/10\n",
      "262s - loss:  0.4801 - mse:  0.4800 - val_mse:  0.5075\n",
      "Epoch 3/10\n",
      "260s - loss:  0.4634 - mse:  0.4634 - val_mse:  0.4897\n",
      "Epoch 4/10\n",
      "259s - loss:  0.4514 - mse:  0.4513 - val_mse:  0.4937\n",
      "Epoch 5/10\n",
      "266s - loss:  0.4428 - mse:  0.4428 - val_mse:  0.4951\n",
      "Epoch 6/10\n",
      "261s - loss:  0.4348 - mse:  0.4347 - val_mse:  0.4953\n",
      "Epoch 7/10\n",
      "262s - loss:  0.4266 - mse:  0.4264 - val_mse:  0.4972\n",
      "Epoch 8/10\n",
      "253s - loss:  0.4124 - mse:  0.4123 - val_mse:  0.5075\n",
      "Epoch 9/10\n",
      "265s - loss:  0.3919 - mse:  0.3917 - val_mse:  0.5153\n",
      "Epoch 10/10\n",
      "268s - loss:  0.3690 - mse:  0.3688 - val_mse:  0.5356\n"
     ]
    }
   ],
   "source": [
    "xdeepfm.compile(\"adam\", \"mse\", metrics=['mse'], )\n",
    "history = xdeepfm.fit(model_input, train_df[rating].values, batch_size=256, epochs=10, verbose=2, validation_split=0.2)"
   ]
  },
  {
   "cell_type": "code",
   "execution_count": null,
   "id": "industrial-collins",
   "metadata": {},
   "outputs": [],
   "source": []
  },
  {
   "cell_type": "markdown",
   "id": "seven-doubt",
   "metadata": {},
   "source": [
    "### Attentional Factorization Machine"
   ]
  },
  {
   "cell_type": "code",
   "execution_count": 33,
   "id": "silver-camel",
   "metadata": {},
   "outputs": [],
   "source": [
    "from deepctr_torch.models import AFM"
   ]
  },
  {
   "cell_type": "code",
   "execution_count": 34,
   "id": "fallen-innocent",
   "metadata": {},
   "outputs": [],
   "source": [
    "afm = AFM(linear_feature_columns, dnn_feature_columns, task='regression', device=device)"
   ]
  },
  {
   "cell_type": "code",
   "execution_count": 35,
   "id": "personalized-logistics",
   "metadata": {},
   "outputs": [
    {
     "name": "stdout",
     "output_type": "stream",
     "text": [
      "cuda:0\n",
      "Train on 456227 samples, validate on 114057 samples, 1783 steps per epoch\n",
      "Epoch 1/10\n",
      "255s - loss:  2.5075 - mse:  2.5064 - val_mse:  0.6100\n",
      "Epoch 2/10\n",
      "245s - loss:  0.5585 - mse:  0.5580 - val_mse:  0.5407\n",
      "Epoch 3/10\n",
      "250s - loss:  0.5036 - mse:  0.5033 - val_mse:  0.5176\n",
      "Epoch 4/10\n",
      "248s - loss:  0.4790 - mse:  0.4785 - val_mse:  0.5092\n",
      "Epoch 5/10\n",
      "255s - loss:  0.4663 - mse:  0.4658 - val_mse:  0.5048\n",
      "Epoch 6/10\n",
      "251s - loss:  0.4587 - mse:  0.4581 - val_mse:  0.5022\n",
      "Epoch 7/10\n",
      "253s - loss:  0.4536 - mse:  0.4529 - val_mse:  0.5014\n",
      "Epoch 8/10\n",
      "251s - loss:  0.4497 - mse:  0.4490 - val_mse:  0.5012\n",
      "Epoch 9/10\n",
      "256s - loss:  0.4468 - mse:  0.4461 - val_mse:  0.5005\n",
      "Epoch 10/10\n",
      "254s - loss:  0.4443 - mse:  0.4436 - val_mse:  0.5011\n"
     ]
    }
   ],
   "source": [
    "afm.compile(\"adam\", \"mse\", metrics=['mse'], )\n",
    "history = afm.fit(model_input, train_df[rating].values, batch_size=256, epochs=10, verbose=2, validation_split=0.2)"
   ]
  },
  {
   "cell_type": "code",
   "execution_count": null,
   "id": "literary-softball",
   "metadata": {},
   "outputs": [],
   "source": []
  },
  {
   "cell_type": "markdown",
   "id": "handled-blair",
   "metadata": {},
   "source": [
    "### Neural Factorization Machine"
   ]
  },
  {
   "cell_type": "code",
   "execution_count": 36,
   "id": "searching-germany",
   "metadata": {},
   "outputs": [],
   "source": [
    "from deepctr_torch.models import NFM"
   ]
  },
  {
   "cell_type": "code",
   "execution_count": 37,
   "id": "average-possession",
   "metadata": {},
   "outputs": [],
   "source": [
    "nfm = NFM(linear_feature_columns, dnn_feature_columns, task='regression', device=device)"
   ]
  },
  {
   "cell_type": "code",
   "execution_count": 38,
   "id": "terminal-control",
   "metadata": {},
   "outputs": [
    {
     "name": "stdout",
     "output_type": "stream",
     "text": [
      "cuda:0\n",
      "Train on 456227 samples, validate on 114057 samples, 1783 steps per epoch\n",
      "Epoch 1/10\n",
      "247s - loss:  0.7533 - mse:  0.7532 - val_mse:  0.5090\n",
      "Epoch 2/10\n",
      "234s - loss:  0.4786 - mse:  0.4785 - val_mse:  0.4960\n",
      "Epoch 3/10\n",
      "246s - loss:  0.4566 - mse:  0.4565 - val_mse:  0.4959\n",
      "Epoch 4/10\n",
      "246s - loss:  0.4432 - mse:  0.4432 - val_mse:  0.4988\n",
      "Epoch 5/10\n",
      "242s - loss:  0.4338 - mse:  0.4337 - val_mse:  0.5024\n",
      "Epoch 6/10\n",
      "248s - loss:  0.4259 - mse:  0.4258 - val_mse:  0.5026\n",
      "Epoch 7/10\n",
      "238s - loss:  0.4191 - mse:  0.4189 - val_mse:  0.5034\n",
      "Epoch 8/10\n",
      "248s - loss:  0.4125 - mse:  0.4123 - val_mse:  0.5059\n",
      "Epoch 9/10\n",
      "236s - loss:  0.4040 - mse:  0.4037 - val_mse:  0.5117\n",
      "Epoch 10/10\n",
      "230s - loss:  0.3946 - mse:  0.3943 - val_mse:  0.5179\n"
     ]
    }
   ],
   "source": [
    "nfm.compile(\"adam\", \"mse\", metrics=['mse'], )\n",
    "history = nfm.fit(model_input, train_df[rating].values, batch_size=256, epochs=10, verbose=2, validation_split=0.2)"
   ]
  },
  {
   "cell_type": "markdown",
   "id": "european-instruction",
   "metadata": {},
   "source": [
    "### Deep Interest Network"
   ]
  },
  {
   "cell_type": "code",
   "execution_count": 48,
   "id": "appreciated-ultimate",
   "metadata": {},
   "outputs": [],
   "source": [
    "from deepctr_torch.models import DIN"
   ]
  },
  {
   "cell_type": "code",
   "execution_count": 51,
   "id": "chronic-peripheral",
   "metadata": {},
   "outputs": [],
   "source": [
    "behavior_feature_list = np.array([\"cols_0\", \"cols_1\"])"
   ]
  },
  {
   "cell_type": "code",
   "execution_count": 52,
   "id": "photographic-edmonton",
   "metadata": {},
   "outputs": [],
   "source": [
    "din = DIN(dnn_feature_columns, behavior_feature_list, task='regression', device=device)"
   ]
  },
  {
   "cell_type": "code",
   "execution_count": 53,
   "id": "verbal-password",
   "metadata": {},
   "outputs": [
    {
     "name": "stdout",
     "output_type": "stream",
     "text": [
      "cuda:0\n",
      "Train on 456227 samples, validate on 114057 samples, 1783 steps per epoch\n"
     ]
    },
    {
     "ename": "AttributeError",
     "evalue": "'VarLenSparseFeat' object has no attribute 'use_hash'",
     "output_type": "error",
     "traceback": [
      "\u001b[0;31m-----------------------------------\u001b[0m",
      "\u001b[0;31mAttributeError\u001b[0mTraceback (most recent call last)",
      "\u001b[0;32m<ipython-input-53-c5fe815ca6cf>\u001b[0m in \u001b[0;36m<module>\u001b[0;34m\u001b[0m\n\u001b[1;32m      1\u001b[0m \u001b[0mdin\u001b[0m\u001b[0;34m.\u001b[0m\u001b[0mcompile\u001b[0m\u001b[0;34m(\u001b[0m\u001b[0;34m\"adam\"\u001b[0m\u001b[0;34m,\u001b[0m \u001b[0;34m\"mse\"\u001b[0m\u001b[0;34m,\u001b[0m \u001b[0mmetrics\u001b[0m\u001b[0;34m=\u001b[0m\u001b[0;34m[\u001b[0m\u001b[0;34m'mse'\u001b[0m\u001b[0;34m]\u001b[0m\u001b[0;34m,\u001b[0m \u001b[0;34m)\u001b[0m\u001b[0;34m\u001b[0m\u001b[0;34m\u001b[0m\u001b[0m\n\u001b[0;32m----> 2\u001b[0;31m \u001b[0mhistory\u001b[0m \u001b[0;34m=\u001b[0m \u001b[0mdin\u001b[0m\u001b[0;34m.\u001b[0m\u001b[0mfit\u001b[0m\u001b[0;34m(\u001b[0m\u001b[0mmodel_input\u001b[0m\u001b[0;34m,\u001b[0m \u001b[0mtrain\u001b[0m\u001b[0;34m[\u001b[0m\u001b[0mrating\u001b[0m\u001b[0;34m]\u001b[0m\u001b[0;34m.\u001b[0m\u001b[0mvalues\u001b[0m\u001b[0;34m,\u001b[0m \u001b[0mbatch_size\u001b[0m\u001b[0;34m=\u001b[0m\u001b[0;36m256\u001b[0m\u001b[0;34m,\u001b[0m \u001b[0mepochs\u001b[0m\u001b[0;34m=\u001b[0m\u001b[0;36m10\u001b[0m\u001b[0;34m,\u001b[0m \u001b[0mverbose\u001b[0m\u001b[0;34m=\u001b[0m\u001b[0;36m2\u001b[0m\u001b[0;34m,\u001b[0m \u001b[0mvalidation_split\u001b[0m\u001b[0;34m=\u001b[0m\u001b[0;36m0.2\u001b[0m\u001b[0;34m)\u001b[0m\u001b[0;34m\u001b[0m\u001b[0;34m\u001b[0m\u001b[0m\n\u001b[0m",
      "\u001b[0;32m~/anaconda3/envs/june/lib/python3.7/site-packages/deepctr_torch/models/basemodel.py\u001b[0m in \u001b[0;36mfit\u001b[0;34m(self, x, y, batch_size, epochs, verbose, initial_epoch, validation_split, validation_data, shuffle, callbacks)\u001b[0m\n\u001b[1;32m    239\u001b[0m                         \u001b[0my\u001b[0m \u001b[0;34m=\u001b[0m \u001b[0my_train\u001b[0m\u001b[0;34m.\u001b[0m\u001b[0mto\u001b[0m\u001b[0;34m(\u001b[0m\u001b[0mself\u001b[0m\u001b[0;34m.\u001b[0m\u001b[0mdevice\u001b[0m\u001b[0;34m)\u001b[0m\u001b[0;34m.\u001b[0m\u001b[0mfloat\u001b[0m\u001b[0;34m(\u001b[0m\u001b[0;34m)\u001b[0m\u001b[0;34m\u001b[0m\u001b[0;34m\u001b[0m\u001b[0m\n\u001b[1;32m    240\u001b[0m \u001b[0;34m\u001b[0m\u001b[0m\n\u001b[0;32m--> 241\u001b[0;31m                         \u001b[0my_pred\u001b[0m \u001b[0;34m=\u001b[0m \u001b[0mmodel\u001b[0m\u001b[0;34m(\u001b[0m\u001b[0mx\u001b[0m\u001b[0;34m)\u001b[0m\u001b[0;34m.\u001b[0m\u001b[0msqueeze\u001b[0m\u001b[0;34m(\u001b[0m\u001b[0;34m)\u001b[0m\u001b[0;34m\u001b[0m\u001b[0;34m\u001b[0m\u001b[0m\n\u001b[0m\u001b[1;32m    242\u001b[0m \u001b[0;34m\u001b[0m\u001b[0m\n\u001b[1;32m    243\u001b[0m                         \u001b[0moptim\u001b[0m\u001b[0;34m.\u001b[0m\u001b[0mzero_grad\u001b[0m\u001b[0;34m(\u001b[0m\u001b[0;34m)\u001b[0m\u001b[0;34m\u001b[0m\u001b[0;34m\u001b[0m\u001b[0m\n",
      "\u001b[0;32m~/anaconda3/envs/june/lib/python3.7/site-packages/torch/nn/modules/module.py\u001b[0m in \u001b[0;36m_call_impl\u001b[0;34m(self, *input, **kwargs)\u001b[0m\n\u001b[1;32m    725\u001b[0m             \u001b[0mresult\u001b[0m \u001b[0;34m=\u001b[0m \u001b[0mself\u001b[0m\u001b[0;34m.\u001b[0m\u001b[0m_slow_forward\u001b[0m\u001b[0;34m(\u001b[0m\u001b[0;34m*\u001b[0m\u001b[0minput\u001b[0m\u001b[0;34m,\u001b[0m \u001b[0;34m**\u001b[0m\u001b[0mkwargs\u001b[0m\u001b[0;34m)\u001b[0m\u001b[0;34m\u001b[0m\u001b[0;34m\u001b[0m\u001b[0m\n\u001b[1;32m    726\u001b[0m         \u001b[0;32melse\u001b[0m\u001b[0;34m:\u001b[0m\u001b[0;34m\u001b[0m\u001b[0;34m\u001b[0m\u001b[0m\n\u001b[0;32m--> 727\u001b[0;31m             \u001b[0mresult\u001b[0m \u001b[0;34m=\u001b[0m \u001b[0mself\u001b[0m\u001b[0;34m.\u001b[0m\u001b[0mforward\u001b[0m\u001b[0;34m(\u001b[0m\u001b[0;34m*\u001b[0m\u001b[0minput\u001b[0m\u001b[0;34m,\u001b[0m \u001b[0;34m**\u001b[0m\u001b[0mkwargs\u001b[0m\u001b[0;34m)\u001b[0m\u001b[0;34m\u001b[0m\u001b[0;34m\u001b[0m\u001b[0m\n\u001b[0m\u001b[1;32m    728\u001b[0m         for hook in itertools.chain(\n\u001b[1;32m    729\u001b[0m                 \u001b[0m_global_forward_hooks\u001b[0m\u001b[0;34m.\u001b[0m\u001b[0mvalues\u001b[0m\u001b[0;34m(\u001b[0m\u001b[0;34m)\u001b[0m\u001b[0;34m,\u001b[0m\u001b[0;34m\u001b[0m\u001b[0;34m\u001b[0m\u001b[0m\n",
      "\u001b[0;32m~/anaconda3/envs/june/lib/python3.7/site-packages/deepctr_torch/models/din.py\u001b[0m in \u001b[0;36mforward\u001b[0;34m(self, X)\u001b[0m\n\u001b[1;32m     93\u001b[0m \u001b[0;34m\u001b[0m\u001b[0m\n\u001b[1;32m     94\u001b[0m         sequence_embed_dict = varlen_embedding_lookup(X, self.embedding_dict, self.feature_index,\n\u001b[0;32m---> 95\u001b[0;31m                                                       self.sparse_varlen_feature_columns)\n\u001b[0m\u001b[1;32m     96\u001b[0m \u001b[0;34m\u001b[0m\u001b[0m\n\u001b[1;32m     97\u001b[0m         sequence_embed_list = get_varlen_pooling_list(sequence_embed_dict, X, self.feature_index,\n",
      "\u001b[0;32m~/anaconda3/envs/june/lib/python3.7/site-packages/deepctr_torch/inputs.py\u001b[0m in \u001b[0;36mvarlen_embedding_lookup\u001b[0;34m(X, embedding_dict, sequence_input_dict, varlen_sparse_feature_columns)\u001b[0m\n\u001b[1;32m    242\u001b[0m         \u001b[0mfeature_name\u001b[0m \u001b[0;34m=\u001b[0m \u001b[0mfc\u001b[0m\u001b[0;34m.\u001b[0m\u001b[0mname\u001b[0m\u001b[0;34m\u001b[0m\u001b[0;34m\u001b[0m\u001b[0m\n\u001b[1;32m    243\u001b[0m         \u001b[0membedding_name\u001b[0m \u001b[0;34m=\u001b[0m \u001b[0mfc\u001b[0m\u001b[0;34m.\u001b[0m\u001b[0membedding_name\u001b[0m\u001b[0;34m\u001b[0m\u001b[0;34m\u001b[0m\u001b[0m\n\u001b[0;32m--> 244\u001b[0;31m         \u001b[0;32mif\u001b[0m \u001b[0mfc\u001b[0m\u001b[0;34m.\u001b[0m\u001b[0muse_hash\u001b[0m\u001b[0;34m:\u001b[0m\u001b[0;34m\u001b[0m\u001b[0;34m\u001b[0m\u001b[0m\n\u001b[0m\u001b[1;32m    245\u001b[0m             \u001b[0;31m# lookup_idx = Hash(fc.vocabulary_size, mask_zero=True)(sequence_input_dict[feature_name])\u001b[0m\u001b[0;34m\u001b[0m\u001b[0;34m\u001b[0m\u001b[0;34m\u001b[0m\u001b[0m\n\u001b[1;32m    246\u001b[0m             \u001b[0;31m# TODO: add hash function\u001b[0m\u001b[0;34m\u001b[0m\u001b[0;34m\u001b[0m\u001b[0;34m\u001b[0m\u001b[0m\n",
      "\u001b[0;31mAttributeError\u001b[0m: 'VarLenSparseFeat' object has no attribute 'use_hash'"
     ]
    }
   ],
   "source": [
    "din.compile(\"adam\", \"mse\", metrics=['mse'], )\n",
    "history = din.fit(model_input, train[rating].values, batch_size=256, epochs=10, verbose=2, validation_split=0.2)"
   ]
  },
  {
   "cell_type": "code",
   "execution_count": null,
   "id": "indie-victim",
   "metadata": {},
   "outputs": [],
   "source": []
  }
 ],
 "metadata": {
  "kernelspec": {
   "display_name": "Python 3",
   "language": "python",
   "name": "python3"
  },
  "language_info": {
   "codemirror_mode": {
    "name": "ipython",
    "version": 3
   },
   "file_extension": ".py",
   "mimetype": "text/x-python",
   "name": "python",
   "nbconvert_exporter": "python",
   "pygments_lexer": "ipython3",
   "version": "3.7.9"
  }
 },
 "nbformat": 4,
 "nbformat_minor": 5
}
