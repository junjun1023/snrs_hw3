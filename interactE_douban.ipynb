{
 "cells": [
  {
   "cell_type": "code",
   "execution_count": 1,
   "id": "purple-blast",
   "metadata": {},
   "outputs": [],
   "source": [
    "import math\n",
    "import random\n",
    "import os.path as osp\n",
    "\n",
    "import os\n",
    "import pandas as pd\n",
    "\n",
    "import numpy as np\n",
    "\n",
    "import torch\n",
    "from torch import Tensor\n",
    "import torch.nn as nn\n",
    "import torch.nn.functional as F\n",
    "import torch.optim as optim\n",
    "from torch.nn.parameter import Parameter\n",
    "\n",
    "from torch.utils.data import Dataset as BaseDataset\n",
    "from torch.utils.data import DataLoader\n",
    "\n",
    "from tqdm import tqdm\n",
    "from datetime import datetime\n",
    "\n",
    "from sklearn.preprocessing import LabelEncoder, MinMaxScaler\n",
    "from sklearn.model_selection import KFold, train_test_split\n",
    "from sklearn.metrics import mean_squared_error, ndcg_score, recall_score\n",
    "from tensorflow.python.keras.preprocessing.sequence import pad_sequences"
   ]
  },
  {
   "cell_type": "code",
   "execution_count": 2,
   "id": "solid-dairy",
   "metadata": {},
   "outputs": [],
   "source": [
    "import utils"
   ]
  },
  {
   "cell_type": "code",
   "execution_count": 3,
   "id": "aggressive-baseball",
   "metadata": {},
   "outputs": [],
   "source": [
    "class BasicBlock(nn.Module):\n",
    "    def __init__(self, in_channels, out_channels, stride=1, dilation=1):\n",
    "        super(BasicBlock, self).__init__()\n",
    "        self.conv1 = nn.Conv2d(in_channels, out_channels,\n",
    "                               kernel_size=3, padding=1, stride=stride)\n",
    "        self.conv2 = nn.Conv2d(out_channels, out_channels,\n",
    "                               kernel_size=3, padding=1)\n",
    "        self.bn1 = nn.BatchNorm2d(num_features=out_channels)\n",
    "        self.bn2 = nn.BatchNorm2d(num_features=out_channels)\n",
    "        self.relu = nn.ReLU(inplace=True)\n",
    "\n",
    "        # one kernel make one feature map\n",
    "        # kernel 厚度 = channel 數\n",
    "        self.is_changed = in_channels != out_channels\n",
    "        self.trans = nn.Conv2d(in_channels, out_channels,\n",
    "                               kernel_size=1, stride=stride)\n",
    "\n",
    "    def forward(self, x):\n",
    "        f_x = self.conv1(x)\n",
    "        f_x = self.bn1(f_x)\n",
    "        f_x = self.relu(f_x)\n",
    "        f_x = self.conv2(f_x)\n",
    "        f_x = self.bn2(f_x)\n",
    "\n",
    "        if self.is_changed:\n",
    "            x = self.trans(x)\n",
    "\n",
    "        x = f_x + x\n",
    "        x = self.relu(x)\n",
    "        return x\n",
    "\n",
    "\n",
    "class BottleNeck(nn.Module):\n",
    "\n",
    "    def __init__(self, in_channels, out_channels, stride=1, dilation=4):\n",
    "        super(BottleNeck, self).__init__()\n",
    "        self.conv1 = nn.Conv2d(\n",
    "            in_channels=in_channels, out_channels=out_channels, kernel_size=1, stride=stride, padding=0)\n",
    "        self.conv2 = nn.Conv2d(\n",
    "            in_channels=out_channels, out_channels=out_channels, kernel_size=3, padding=1)\n",
    "        self.conv3 = nn.Conv2d(\n",
    "            in_channels=out_channels, out_channels=dilation*out_channels, kernel_size=1, padding=0)\n",
    "\n",
    "        self.bn1 = nn.BatchNorm2d(num_features=out_channels)\n",
    "        self.bn2 = nn.BatchNorm2d(num_features=out_channels)\n",
    "        self.bn3 = nn.BatchNorm2d(num_features=out_channels * dilation)\n",
    "\n",
    "        self.relu = nn.ReLU(inplace=True)\n",
    "\n",
    "        # one kernel make one feature map\n",
    "        # kernel 厚度 = channel 數\n",
    "        self.is_changed = in_channels != (out_channels*dilation)\n",
    "        self.trans = nn.Conv2d(in_channels, out_channels *\n",
    "                               dilation, kernel_size=1, stride=stride)\n",
    "\n",
    "    def forward(self, x):\n",
    "\n",
    "        f_x = self.conv1(x)\n",
    "        f_x = self.bn1(f_x)\n",
    "        f_x = self.relu(f_x)\n",
    "        f_x = self.conv2(f_x)\n",
    "        f_x = self.bn2(f_x)\n",
    "        f_x = self.relu(f_x)\n",
    "        f_x = self.conv3(f_x)\n",
    "        f_x = self.bn3(f_x)\n",
    "\n",
    "        if self.is_changed:\n",
    "            x = self.trans(x)\n",
    "\n",
    "        x = f_x + x\n",
    "        x = self.relu(x)\n",
    "        return x\n",
    "\n",
    "\n",
    "class _ResNet(nn.Module):\n",
    "    def __init__(self, block, block_cnts, dilation=1):\n",
    "        super(_ResNet, self).__init__()\n",
    "\n",
    "        self.in_channels = 64\n",
    "        self.out_channels = 64\n",
    "\n",
    "        self.conv1 = nn.Conv2d(\n",
    "            in_channels=1, out_channels=self.in_channels, kernel_size=7, stride=2, padding=3)\n",
    "        self.max_pool = nn.MaxPool2d(kernel_size=3, stride=2, padding=1)\n",
    "\n",
    "        self.layer1 = self._layer(\n",
    "            block, block_cnts[0], dilation, self.in_channels, self.out_channels, stride=1)\n",
    "        self.layer2 = self._layer(\n",
    "            block, block_cnts[1], dilation, self.in_channels, self.out_channels, stride=2)\n",
    "        self.layer3 = self._layer(\n",
    "            block, block_cnts[2], dilation, self.in_channels, self.out_channels, stride=2)\n",
    "        self.layer4 = self._layer(\n",
    "            block, block_cnts[3], dilation, self.in_channels, self.out_channels, stride=2)\n",
    "\n",
    "        self.avg = nn.AdaptiveAvgPool2d(output_size=(1, 1))\n",
    "\n",
    "        self.dense = nn.Linear(in_features=self.in_channels, out_features=6)\n",
    "        self.activation = nn.Softmax(dim=1)\n",
    "        self.flatten = nn.Flatten(start_dim=1)\n",
    "\n",
    "    def _layer(self, block, block_cnt, dilation, in_channels, out_channels, stride):\n",
    "        # in_channels: param of previous block output channel\n",
    "        # out_channels: param of current block input channel\n",
    "\n",
    "        blocks = []\n",
    "        blocks.append(\n",
    "            block(in_channels=in_channels,\n",
    "                  out_channels=out_channels, stride=stride)\n",
    "        )\n",
    "\n",
    "        for cnt in range(1, block_cnt):\n",
    "            b = block(in_channels=dilation * out_channels,\n",
    "                      out_channels=out_channels)\n",
    "            blocks.append(b)\n",
    "\n",
    "        self.in_channels = out_channels * dilation\n",
    "        self.out_channels = out_channels * 2\n",
    "\n",
    "        return nn.Sequential(*blocks)\n",
    "\n",
    "    def forward(self, x):\n",
    "        x = self.conv1(x)\n",
    "        x = self.max_pool(x)\n",
    "        x = self.layer1(x)\n",
    "        x = self.layer2(x)\n",
    "        x = self.layer3(x)\n",
    "        x = self.layer4(x)\n",
    "\n",
    "        x = self.avg(x)\n",
    "\n",
    "        x = self.flatten(x)\n",
    "        x = self.dense(x)\n",
    "\n",
    "        x = self.activation(x)\n",
    "        return x"
   ]
  },
  {
   "cell_type": "code",
   "execution_count": 5,
   "id": "iraqi-shape",
   "metadata": {},
   "outputs": [
    {
     "name": "stdout",
     "output_type": "stream",
     "text": [
      "cuda ready...\n"
     ]
    }
   ],
   "source": [
    "device = 'cpu'\n",
    "use_cuda = True\n",
    "if use_cuda and torch.cuda.is_available():\n",
    "    print('cuda ready...')\n",
    "    device = 'cuda:1'\n",
    "\n",
    "root = os.path.join(os.getcwd(), \"DoubanBook\")\n",
    "rel_p = os.path.join(root, \"user_book.dat\")\n",
    "\n",
    "user_cnt = 16239\n",
    "item_cnt = 14284"
   ]
  },
  {
   "cell_type": "code",
   "execution_count": 6,
   "id": "normal-costa",
   "metadata": {},
   "outputs": [],
   "source": [
    "class Args:\n",
    "    def __init__(self,\n",
    "                 user_cnt,\n",
    "                 item_cnt,\n",
    "                embed_dim=50,\n",
    "                inp_drop=0.5,\n",
    "                feat_drop=0.5,\n",
    "                hid_drop=0.2,\n",
    "                perm=1,\n",
    "                k_w=5,\n",
    "                k_h=10,\n",
    "                ker_sz=3):\n",
    "        self.user_cnt = user_cnt\n",
    "        self.item_cnt = item_cnt\n",
    "        self.embed_dim = embed_dim\n",
    "        self.inp_drop = inp_drop\n",
    "        self.feat_drop = feat_drop\n",
    "        self.hid_drop = hid_drop\n",
    "        self.perm = perm\n",
    "        self.k_w = k_w\n",
    "        self.k_h = k_h\n",
    "        self.ker_sz = ker_sz"
   ]
  },
  {
   "cell_type": "markdown",
   "id": "occupational-hostel",
   "metadata": {},
   "source": [
    "## Interact"
   ]
  },
  {
   "cell_type": "code",
   "execution_count": 7,
   "id": "revolutionary-breathing",
   "metadata": {},
   "outputs": [],
   "source": [
    "sparse_features = [\"cols_0\", \"cols_1\"] # user_id, movie_id\n",
    "rating = \"cols_2\""
   ]
  },
  {
   "cell_type": "code",
   "execution_count": 8,
   "id": "chief-shepherd",
   "metadata": {
    "scrolled": false
   },
   "outputs": [
    {
     "data": {
      "text/html": [
       "<div>\n",
       "<style scoped>\n",
       "    .dataframe tbody tr th:only-of-type {\n",
       "        vertical-align: middle;\n",
       "    }\n",
       "\n",
       "    .dataframe tbody tr th {\n",
       "        vertical-align: top;\n",
       "    }\n",
       "\n",
       "    .dataframe thead th {\n",
       "        text-align: right;\n",
       "    }\n",
       "</style>\n",
       "<table border=\"1\" class=\"dataframe\">\n",
       "  <thead>\n",
       "    <tr style=\"text-align: right;\">\n",
       "      <th></th>\n",
       "      <th>cols_0</th>\n",
       "      <th>cols_1</th>\n",
       "      <th>cols_2</th>\n",
       "    </tr>\n",
       "  </thead>\n",
       "  <tbody>\n",
       "    <tr>\n",
       "      <th>0</th>\n",
       "      <td>10855</td>\n",
       "      <td>938</td>\n",
       "      <td>4</td>\n",
       "    </tr>\n",
       "    <tr>\n",
       "      <th>1</th>\n",
       "      <td>10027</td>\n",
       "      <td>3</td>\n",
       "      <td>3</td>\n",
       "    </tr>\n",
       "    <tr>\n",
       "      <th>2</th>\n",
       "      <td>741</td>\n",
       "      <td>2426</td>\n",
       "      <td>5</td>\n",
       "    </tr>\n",
       "    <tr>\n",
       "      <th>3</th>\n",
       "      <td>453</td>\n",
       "      <td>1263</td>\n",
       "      <td>4</td>\n",
       "    </tr>\n",
       "    <tr>\n",
       "      <th>4</th>\n",
       "      <td>11665</td>\n",
       "      <td>7717</td>\n",
       "      <td>5</td>\n",
       "    </tr>\n",
       "  </tbody>\n",
       "</table>\n",
       "</div>"
      ],
      "text/plain": [
       "   cols_0  cols_1  cols_2\n",
       "0   10855     938       4\n",
       "1   10027       3       3\n",
       "2     741    2426       5\n",
       "3     453    1263       4\n",
       "4   11665    7717       5"
      ]
     },
     "execution_count": 8,
     "metadata": {},
     "output_type": "execute_result"
    }
   ],
   "source": [
    "rel = utils.read_file(rel_p)\n",
    "rel.head()"
   ]
  },
  {
   "cell_type": "code",
   "execution_count": 9,
   "id": "automatic-privacy",
   "metadata": {},
   "outputs": [],
   "source": [
    "rel_feat, rel_pos = utils.get_explicit_features(rel_p)"
   ]
  },
  {
   "cell_type": "code",
   "execution_count": 10,
   "id": "narrative-reserve",
   "metadata": {},
   "outputs": [],
   "source": [
    "user_cnt, item_cnt = rel_feat.shape"
   ]
  },
  {
   "cell_type": "code",
   "execution_count": 28,
   "id": "forced-penalty",
   "metadata": {},
   "outputs": [],
   "source": [
    "class Dataset(BaseDataset):\n",
    "    \n",
    "    def __init__(self, dataframe):\n",
    "        \n",
    "        # Read node features\n",
    "        self.users = dataframe.cols_0.values\n",
    "        self.items = dataframe.cols_1.values\n",
    "        self.rats = dataframe.cols_2.values\n",
    "        \n",
    "    def __len__(self):\n",
    "        return len(self.rats)\n",
    "        \n",
    "    def __getitem__(self, idx):\n",
    "        \n",
    "        user = self.users[idx]\n",
    "        item = self.items[idx]\n",
    "        rat = self.rats[idx] if self.rats[idx] >= 3 else 0\n",
    "        label = np.zeros(6)\n",
    "        label[rat] = 1\n",
    "        \n",
    "        return user, item, rat, label"
   ]
  },
  {
   "cell_type": "code",
   "execution_count": 29,
   "id": "relative-usage",
   "metadata": {},
   "outputs": [],
   "source": [
    "args = Args(user_cnt, item_cnt)"
   ]
  },
  {
   "cell_type": "code",
   "execution_count": 30,
   "id": "iraqi-civilization",
   "metadata": {},
   "outputs": [],
   "source": [
    "def get_chequer_perm(perm=1, k_w=30, k_h=50):\n",
    "    \n",
    "    embed_dim = k_w * k_h\n",
    "    ent_perm  = np.int32([np.random.permutation(embed_dim) for _ in range(perm)])\n",
    "    rel_perm  = np.int32([np.random.permutation(embed_dim) for _ in range(perm)])\n",
    "\n",
    "    comb_idx = []\n",
    "    for k in range(perm):\n",
    "        temp = []\n",
    "        ent_idx, rel_idx = 0, 0\n",
    "\n",
    "        for i in range(k_h):\n",
    "            for j in range(k_w):\n",
    "                if k % 2 == 0:\n",
    "                    if i % 2 == 0:\n",
    "                        temp.append(ent_perm[k, ent_idx]); ent_idx += 1;\n",
    "                        temp.append(rel_perm[k, rel_idx]+embed_dim); rel_idx += 1;\n",
    "                    else:\n",
    "                        temp.append(rel_perm[k, rel_idx]+embed_dim); rel_idx += 1;\n",
    "                        temp.append(ent_perm[k, ent_idx]); ent_idx += 1;\n",
    "                else:\n",
    "                    if i % 2 == 0:\n",
    "                        temp.append(rel_perm[k, rel_idx]+embed_dim); rel_idx += 1;\n",
    "                        temp.append(ent_perm[k, ent_idx]); ent_idx += 1;\n",
    "                    else:\n",
    "                        temp.append(ent_perm[k, ent_idx]); ent_idx += 1;\n",
    "                        temp.append(rel_perm[k, rel_idx]+embed_dim); rel_idx += 1;\n",
    "\n",
    "        comb_idx.append(temp)\n",
    "\n",
    "    chequer_perm = torch.LongTensor(np.int32(comb_idx)).to(device)\n",
    "    return chequer_perm\n"
   ]
  },
  {
   "cell_type": "code",
   "execution_count": 14,
   "id": "noticed-partner",
   "metadata": {
    "scrolled": true
   },
   "outputs": [
    {
     "data": {
      "text/plain": [
       "torch.Size([1, 100])"
      ]
     },
     "execution_count": 14,
     "metadata": {},
     "output_type": "execute_result"
    }
   ],
   "source": [
    "chequer = get_chequer_perm(perm=args.perm, k_w=args.k_w, k_h=args.k_h)\n",
    "chequer.shape"
   ]
  },
  {
   "cell_type": "code",
   "execution_count": 15,
   "id": "terminal-charter",
   "metadata": {},
   "outputs": [
    {
     "data": {
      "text/plain": [
       "tensor([[ 3, 72, 44, 75, 22, 63, 15, 73, 14, 95, 69, 26, 50, 38, 55, 13, 83, 34,\n",
       "         84, 29, 43, 60, 23, 98,  6, 61, 36, 85, 27, 65, 81, 40, 77, 17, 89, 49,\n",
       "         88, 16, 76, 11, 28, 86, 37, 78, 12, 51, 18, 53,  1, 79, 71, 46, 52,  4,\n",
       "         91, 21, 70, 35, 99, 48, 32, 87, 10, 67,  5, 97, 25, 57, 33, 82, 68, 24,\n",
       "         62,  7, 94, 30, 59, 41, 92, 39,  9, 90, 45, 93, 42, 66, 47, 54,  0, 74,\n",
       "         58, 19, 56,  8, 80, 20, 96,  2, 64, 31]], device='cuda:1')"
      ]
     },
     "execution_count": 15,
     "metadata": {},
     "output_type": "execute_result"
    }
   ],
   "source": [
    "chequer"
   ]
  },
  {
   "cell_type": "code",
   "execution_count": 16,
   "id": "distinguished-question",
   "metadata": {},
   "outputs": [],
   "source": [
    "class InteractE(torch.nn.Module):\n",
    "    \"\"\"\n",
    "    Proposed method in the paper. Refer Section 6 of the paper for mode details \n",
    "    Parameters\n",
    "    ----------\n",
    "    params:         Hyperparameters of the model\n",
    "    chequer_perm:   Reshaping to be used by the model\n",
    "\n",
    "    Returns\n",
    "    -------\n",
    "    The InteractE model instance\n",
    "\n",
    "    \"\"\"\n",
    "    def __init__(self, params, chequer_perm):\n",
    "        super(InteractE, self).__init__()\n",
    "\n",
    "        self.p = params\n",
    "        self.user_embed = torch.nn.Embedding(self.p.user_cnt+1, self.p.embed_dim); # xavier_normal_(self.ent_embed.weight)\n",
    "        self.item_embed = torch.nn.Embedding(self.p.item_cnt+1, self.p.embed_dim);\n",
    "        self.chequer_perm = chequer_perm\n",
    "\n",
    "\n",
    "        self.resnet = _ResNet(BasicBlock, [2, 2, 2, 2], 1)\n",
    "    \n",
    "    def circular_padding_chw(self, batch, padding):\n",
    "        upper_pad = batch[..., -padding:, :]\n",
    "        lower_pad = batch[..., :padding, :]\n",
    "        temp = torch.cat([upper_pad, batch, lower_pad], dim=2)\n",
    "\n",
    "        left_pad = temp[..., -padding:]\n",
    "        right_pad = temp[..., :padding]\n",
    "        padded = torch.cat([left_pad, temp, right_pad], dim=3)\n",
    "        return padded\n",
    "\n",
    "    def forward(self, user_idx, item_idx):\n",
    "\n",
    "        user = self.user_embed(user_idx)\n",
    "        item = self.item_embed(item_idx)\n",
    "        \n",
    "        comb_emb = torch.cat([user, item], dim=-1)\n",
    "        chequer_perm = comb_emb[:, self.chequer_perm] # batch, 1, embed_size\n",
    " \n",
    "        stack_inp = chequer_perm.reshape((-1, self.p.perm, 2*self.p.k_w, self.p.k_h)) # batch, 1, 2*k_w, k_h\n",
    "#         print(user_idx, item_idx, chequer_perm.shape, stack_inp.shape)\n",
    "        #### start\n",
    "        x = self.circular_padding_chw(stack_inp, self.p.ker_sz//2)\n",
    "        \n",
    "        pred = self.resnet(x)\n",
    "\n",
    "        return pred\n"
   ]
  },
  {
   "cell_type": "code",
   "execution_count": 31,
   "id": "periodic-copper",
   "metadata": {},
   "outputs": [],
   "source": [
    "def train(model, optim, loader, device):\n",
    "    \n",
    "    model.train()\n",
    "    model = model.to(device)\n",
    "    \n",
    "    total_loss = 0\n",
    "    for index, data in tqdm(enumerate(loader)):\n",
    "        \n",
    "        optim.zero_grad()\n",
    "        \n",
    "        user, item, label, _ = data\n",
    "        \n",
    "        user = user.to(device)\n",
    "        item = item.to(device)\n",
    "        label = label.to(device, dtype=torch.long)\n",
    "\n",
    "        pred = model(user, item) \n",
    "        \n",
    "        loss = torch.nn.CrossEntropyLoss()(pred, label)\n",
    "\n",
    "        loss.backward()\n",
    "        optim.step()\n",
    "        \n",
    "        total_loss += loss.item()\n",
    "\n",
    "    total_loss = total_loss/(index+1)\n",
    "    return total_loss"
   ]
  },
  {
   "cell_type": "code",
   "execution_count": 32,
   "id": "younger-conclusion",
   "metadata": {},
   "outputs": [],
   "source": [
    "@torch.no_grad()\n",
    "def test(model, loader, device=\"cpu\"):\n",
    "    \n",
    "    from sklearn.metrics import mean_squared_error, ndcg_score, recall_score\n",
    "    \n",
    "    model.eval()\n",
    "    model = model.to(device)\n",
    "    \n",
    "    mse_list = []\n",
    "    recall_list = []\n",
    "    ndcg_list = []\n",
    "    for data in tqdm(loader):\n",
    "        \n",
    "        user, item, label, onehot = data\n",
    "        user = user.to(device)\n",
    "        item = item.to(device)\n",
    "\n",
    "        pred = model(user, item) \n",
    "        mse = mean_squared_error(onehot, pred.detach().cpu().numpy())\n",
    "        mse_list.append(mse)\n",
    "        \n",
    "        pred_val = torch.argmax(pred, dim=1).cpu().detach().numpy()\n",
    "        pred_val = np.where(pred_val > 3, 1, 0).reshape(1, -1)\n",
    "        label = np.where(label > 3, 1, 0).reshape(1, -1)\n",
    "        \n",
    "#         print(label, pred_val)\n",
    "        recall = recall_score(label.reshape(-1, 1), pred_val.reshape(-1, 1))\n",
    "        recall_list.append(recall)\n",
    "        ndcg = ndcg_score(label, pred_val)\n",
    "        ndcg_list.append(ndcg)\n",
    "     \n",
    "    return sum(mse_list)/len(mse_list), sum(recall_list)/len(recall_list), sum(ndcg_list)/len(ndcg_list)"
   ]
  },
  {
   "cell_type": "code",
   "execution_count": 33,
   "id": "sunset-disclaimer",
   "metadata": {},
   "outputs": [],
   "source": [
    "@torch.no_grad()\n",
    "def predict(model, loader, device=\"cpu\"):\n",
    "    \n",
    "#     from sklearn.metrics import roc_auc_score\n",
    "    \n",
    "    model.eval()\n",
    "    model = model.to(device)\n",
    "    \n",
    "    y_pred = []\n",
    "    for data in tqdm(loader):\n",
    "        follower, followee, _, _ = data\n",
    "        \n",
    "        user, item, label = data\n",
    "        user = user.to(device)\n",
    "        item = item.to(device)\n",
    "        label = label.to(device)\n",
    "\n",
    "        pred = model(user, item)\n",
    "        \n",
    "        y_pred.append(pred.view(-1).cpu())\n",
    "     \n",
    "    return torch.cat(y_pred)"
   ]
  },
  {
   "cell_type": "code",
   "execution_count": null,
   "id": "referenced-accordance",
   "metadata": {},
   "outputs": [],
   "source": []
  },
  {
   "cell_type": "code",
   "execution_count": 34,
   "id": "annual-horse",
   "metadata": {},
   "outputs": [],
   "source": [
    "k = 5\n",
    "kf = KFold(n_splits=5)"
   ]
  },
  {
   "cell_type": "code",
   "execution_count": 35,
   "id": "ahead-distribution",
   "metadata": {
    "scrolled": true
   },
   "outputs": [
    {
     "name": "stdout",
     "output_type": "stream",
     "text": [
      "========= Fold: 1 ==========\n",
      "======= Epoch 1 ========\n"
     ]
    },
    {
     "name": "stderr",
     "output_type": "stream",
     "text": [
      "2228it [01:52, 19.85it/s]\n",
      "100%|██████████| 2228/2228 [00:23<00:00, 96.11it/s] \n",
      "  0%|          | 0/248 [00:00<?, ?it/s]"
     ]
    },
    {
     "name": "stdout",
     "output_type": "stream",
     "text": [
      "Trainset: mse=0.14666, recall=1.00000, ndcg=0.93355\n"
     ]
    },
    {
     "name": "stderr",
     "output_type": "stream",
     "text": [
      "100%|██████████| 248/248 [00:02<00:00, 90.16it/s]"
     ]
    },
    {
     "name": "stdout",
     "output_type": "stream",
     "text": [
      "Validset: mse=0.14725, recall=1.00000, ndcg=0.93361\n",
      "======= Epoch 2 ========\n"
     ]
    },
    {
     "name": "stderr",
     "output_type": "stream",
     "text": [
      "\n",
      "2228it [01:51, 19.96it/s]\n",
      "100%|██████████| 2228/2228 [00:23<00:00, 96.85it/s] \n",
      "  0%|          | 0/248 [00:00<?, ?it/s]"
     ]
    },
    {
     "name": "stdout",
     "output_type": "stream",
     "text": [
      "Trainset: mse=0.13422, recall=1.00000, ndcg=0.93356\n"
     ]
    },
    {
     "name": "stderr",
     "output_type": "stream",
     "text": [
      "100%|██████████| 248/248 [00:02<00:00, 89.39it/s]\n"
     ]
    },
    {
     "name": "stdout",
     "output_type": "stream",
     "text": [
      "Validset: mse=0.13605, recall=1.00000, ndcg=0.93361\n",
      "======= Epoch 3 ========\n"
     ]
    },
    {
     "name": "stderr",
     "output_type": "stream",
     "text": [
      "2228it [01:51, 20.03it/s]\n",
      "100%|██████████| 2228/2228 [00:23<00:00, 96.58it/s] \n",
      "  0%|          | 0/248 [00:00<?, ?it/s]"
     ]
    },
    {
     "name": "stdout",
     "output_type": "stream",
     "text": [
      "Trainset: mse=0.14075, recall=1.00000, ndcg=0.93356\n"
     ]
    },
    {
     "name": "stderr",
     "output_type": "stream",
     "text": [
      "100%|██████████| 248/248 [00:02<00:00, 89.84it/s]"
     ]
    },
    {
     "name": "stdout",
     "output_type": "stream",
     "text": [
      "Validset: mse=0.14460, recall=1.00000, ndcg=0.93361\n",
      "======= Epoch 4 ========\n"
     ]
    },
    {
     "name": "stderr",
     "output_type": "stream",
     "text": [
      "\n",
      "2228it [01:51, 19.91it/s]\n",
      "100%|██████████| 2228/2228 [00:23<00:00, 93.84it/s] \n",
      "  0%|          | 0/248 [00:00<?, ?it/s]"
     ]
    },
    {
     "name": "stdout",
     "output_type": "stream",
     "text": [
      "Trainset: mse=0.14269, recall=1.00000, ndcg=0.93356\n"
     ]
    },
    {
     "name": "stderr",
     "output_type": "stream",
     "text": [
      "100%|██████████| 248/248 [00:03<00:00, 81.82it/s]"
     ]
    },
    {
     "name": "stdout",
     "output_type": "stream",
     "text": [
      "Validset: mse=0.14709, recall=1.00000, ndcg=0.93361\n",
      "======= Epoch 5 ========\n"
     ]
    },
    {
     "name": "stderr",
     "output_type": "stream",
     "text": [
      "\n",
      "2228it [01:54, 19.53it/s]\n",
      "100%|██████████| 2228/2228 [00:26<00:00, 83.02it/s]\n",
      "  0%|          | 0/248 [00:00<?, ?it/s]"
     ]
    },
    {
     "name": "stdout",
     "output_type": "stream",
     "text": [
      "Trainset: mse=0.13999, recall=1.00000, ndcg=0.93355\n"
     ]
    },
    {
     "name": "stderr",
     "output_type": "stream",
     "text": [
      "100%|██████████| 248/248 [00:03<00:00, 77.13it/s]"
     ]
    },
    {
     "name": "stdout",
     "output_type": "stream",
     "text": [
      "Validset: mse=0.14556, recall=1.00000, ndcg=0.93361\n",
      "======= Epoch 6 ========\n"
     ]
    },
    {
     "name": "stderr",
     "output_type": "stream",
     "text": [
      "\n",
      "2228it [01:54, 19.49it/s]\n",
      "100%|██████████| 2228/2228 [00:25<00:00, 87.45it/s]\n",
      "  0%|          | 0/248 [00:00<?, ?it/s]"
     ]
    },
    {
     "name": "stdout",
     "output_type": "stream",
     "text": [
      "Trainset: mse=0.14035, recall=1.00000, ndcg=0.93355\n"
     ]
    },
    {
     "name": "stderr",
     "output_type": "stream",
     "text": [
      "100%|██████████| 248/248 [00:02<00:00, 83.05it/s]"
     ]
    },
    {
     "name": "stdout",
     "output_type": "stream",
     "text": [
      "Validset: mse=0.14745, recall=1.00000, ndcg=0.93361\n",
      "======= Epoch 7 ========\n"
     ]
    },
    {
     "name": "stderr",
     "output_type": "stream",
     "text": [
      "\n",
      "2228it [01:51, 19.92it/s]\n",
      "100%|██████████| 2228/2228 [00:26<00:00, 84.71it/s]\n",
      "  0%|          | 0/248 [00:00<?, ?it/s]"
     ]
    },
    {
     "name": "stdout",
     "output_type": "stream",
     "text": [
      "Trainset: mse=0.14303, recall=1.00000, ndcg=0.93356\n"
     ]
    },
    {
     "name": "stderr",
     "output_type": "stream",
     "text": [
      "100%|██████████| 248/248 [00:03<00:00, 75.35it/s]"
     ]
    },
    {
     "name": "stdout",
     "output_type": "stream",
     "text": [
      "Validset: mse=0.15025, recall=1.00000, ndcg=0.93361\n",
      "======= Epoch 8 ========\n"
     ]
    },
    {
     "name": "stderr",
     "output_type": "stream",
     "text": [
      "\n",
      "2228it [01:54, 19.54it/s]\n",
      "100%|██████████| 2228/2228 [00:27<00:00, 80.95it/s]\n",
      "  0%|          | 0/248 [00:00<?, ?it/s]"
     ]
    },
    {
     "name": "stdout",
     "output_type": "stream",
     "text": [
      "Trainset: mse=0.15531, recall=1.00000, ndcg=0.93356\n"
     ]
    },
    {
     "name": "stderr",
     "output_type": "stream",
     "text": [
      "100%|██████████| 248/248 [00:03<00:00, 75.53it/s]"
     ]
    },
    {
     "name": "stdout",
     "output_type": "stream",
     "text": [
      "Validset: mse=0.16207, recall=1.00000, ndcg=0.93361\n",
      "======= Epoch 9 ========\n"
     ]
    },
    {
     "name": "stderr",
     "output_type": "stream",
     "text": [
      "\n",
      "2228it [01:53, 19.66it/s]\n",
      "100%|██████████| 2228/2228 [00:26<00:00, 83.02it/s]\n",
      "  0%|          | 0/248 [00:00<?, ?it/s]"
     ]
    },
    {
     "name": "stdout",
     "output_type": "stream",
     "text": [
      "Trainset: mse=0.14797, recall=1.00000, ndcg=0.93356\n"
     ]
    },
    {
     "name": "stderr",
     "output_type": "stream",
     "text": [
      "100%|██████████| 248/248 [00:03<00:00, 79.91it/s]"
     ]
    },
    {
     "name": "stdout",
     "output_type": "stream",
     "text": [
      "Validset: mse=0.15686, recall=1.00000, ndcg=0.93361\n",
      "======= Epoch 10 ========\n"
     ]
    },
    {
     "name": "stderr",
     "output_type": "stream",
     "text": [
      "\n",
      "2228it [01:54, 19.52it/s]\n",
      "100%|██████████| 2228/2228 [00:26<00:00, 84.54it/s]\n",
      "  0%|          | 0/248 [00:00<?, ?it/s]"
     ]
    },
    {
     "name": "stdout",
     "output_type": "stream",
     "text": [
      "Trainset: mse=0.14559, recall=1.00000, ndcg=0.93356\n"
     ]
    },
    {
     "name": "stderr",
     "output_type": "stream",
     "text": [
      "100%|██████████| 248/248 [00:03<00:00, 77.27it/s]\n",
      "  0%|          | 0/619 [00:00<?, ?it/s]"
     ]
    },
    {
     "name": "stdout",
     "output_type": "stream",
     "text": [
      "Validset: mse=0.15639, recall=1.00000, ndcg=0.93361\n"
     ]
    },
    {
     "name": "stderr",
     "output_type": "stream",
     "text": [
      "100%|██████████| 619/619 [00:07<00:00, 81.77it/s]\n"
     ]
    },
    {
     "name": "stdout",
     "output_type": "stream",
     "text": [
      "========= Fold: 2 ==========\n",
      "======= Epoch 1 ========\n"
     ]
    },
    {
     "name": "stderr",
     "output_type": "stream",
     "text": [
      "2228it [01:53, 19.71it/s]\n",
      "100%|██████████| 2228/2228 [00:24<00:00, 92.69it/s] \n",
      "  0%|          | 0/248 [00:00<?, ?it/s]"
     ]
    },
    {
     "name": "stdout",
     "output_type": "stream",
     "text": [
      "Trainset: mse=0.14336, recall=1.00000, ndcg=0.93359\n"
     ]
    },
    {
     "name": "stderr",
     "output_type": "stream",
     "text": [
      "100%|██████████| 248/248 [00:02<00:00, 82.71it/s]"
     ]
    },
    {
     "name": "stdout",
     "output_type": "stream",
     "text": [
      "Validset: mse=0.14490, recall=1.00000, ndcg=0.93334\n",
      "======= Epoch 2 ========\n"
     ]
    },
    {
     "name": "stderr",
     "output_type": "stream",
     "text": [
      "\n",
      "2228it [01:56, 19.18it/s]\n",
      "100%|██████████| 2228/2228 [00:24<00:00, 92.51it/s]\n",
      "  0%|          | 0/248 [00:00<?, ?it/s]"
     ]
    },
    {
     "name": "stdout",
     "output_type": "stream",
     "text": [
      "Trainset: mse=0.13881, recall=1.00000, ndcg=0.93359\n"
     ]
    },
    {
     "name": "stderr",
     "output_type": "stream",
     "text": [
      "100%|██████████| 248/248 [00:02<00:00, 86.66it/s]"
     ]
    },
    {
     "name": "stdout",
     "output_type": "stream",
     "text": [
      "Validset: mse=0.14160, recall=1.00000, ndcg=0.93334\n",
      "======= Epoch 3 ========\n"
     ]
    },
    {
     "name": "stderr",
     "output_type": "stream",
     "text": [
      "\n",
      "2228it [01:55, 19.30it/s]\n",
      "100%|██████████| 2228/2228 [00:24<00:00, 90.03it/s]\n",
      "  0%|          | 0/248 [00:00<?, ?it/s]"
     ]
    },
    {
     "name": "stdout",
     "output_type": "stream",
     "text": [
      "Trainset: mse=0.13448, recall=1.00000, ndcg=0.93359\n"
     ]
    },
    {
     "name": "stderr",
     "output_type": "stream",
     "text": [
      "100%|██████████| 248/248 [00:02<00:00, 84.93it/s]"
     ]
    },
    {
     "name": "stdout",
     "output_type": "stream",
     "text": [
      "Validset: mse=0.13785, recall=1.00000, ndcg=0.93334\n",
      "======= Epoch 4 ========\n"
     ]
    },
    {
     "name": "stderr",
     "output_type": "stream",
     "text": [
      "\n",
      "2228it [01:52, 19.77it/s]\n",
      "100%|██████████| 2228/2228 [00:23<00:00, 93.38it/s]\n",
      "  0%|          | 0/248 [00:00<?, ?it/s]"
     ]
    },
    {
     "name": "stdout",
     "output_type": "stream",
     "text": [
      "Trainset: mse=0.15747, recall=1.00000, ndcg=0.93359\n"
     ]
    },
    {
     "name": "stderr",
     "output_type": "stream",
     "text": [
      "100%|██████████| 248/248 [00:02<00:00, 85.55it/s]"
     ]
    },
    {
     "name": "stdout",
     "output_type": "stream",
     "text": [
      "Validset: mse=0.16132, recall=1.00000, ndcg=0.93334\n",
      "======= Epoch 5 ========\n"
     ]
    },
    {
     "name": "stderr",
     "output_type": "stream",
     "text": [
      "\n",
      "2228it [01:55, 19.36it/s]\n",
      "100%|██████████| 2228/2228 [00:24<00:00, 92.08it/s]\n",
      "  0%|          | 0/248 [00:00<?, ?it/s]"
     ]
    },
    {
     "name": "stdout",
     "output_type": "stream",
     "text": [
      "Trainset: mse=0.15030, recall=1.00000, ndcg=0.93359\n"
     ]
    },
    {
     "name": "stderr",
     "output_type": "stream",
     "text": [
      "100%|██████████| 248/248 [00:02<00:00, 84.51it/s]"
     ]
    },
    {
     "name": "stdout",
     "output_type": "stream",
     "text": [
      "Validset: mse=0.15525, recall=1.00000, ndcg=0.93334\n",
      "======= Epoch 6 ========\n"
     ]
    },
    {
     "name": "stderr",
     "output_type": "stream",
     "text": [
      "\n",
      "2228it [01:55, 19.23it/s]\n",
      "100%|██████████| 2228/2228 [00:24<00:00, 92.36it/s]\n",
      "  0%|          | 0/248 [00:00<?, ?it/s]"
     ]
    },
    {
     "name": "stdout",
     "output_type": "stream",
     "text": [
      "Trainset: mse=0.14747, recall=1.00000, ndcg=0.93359\n"
     ]
    },
    {
     "name": "stderr",
     "output_type": "stream",
     "text": [
      "100%|██████████| 248/248 [00:02<00:00, 84.32it/s]"
     ]
    },
    {
     "name": "stdout",
     "output_type": "stream",
     "text": [
      "Validset: mse=0.15422, recall=1.00000, ndcg=0.93334\n",
      "======= Epoch 7 ========\n"
     ]
    },
    {
     "name": "stderr",
     "output_type": "stream",
     "text": [
      "\n",
      "2228it [01:54, 19.45it/s]\n",
      "100%|██████████| 2228/2228 [00:23<00:00, 94.23it/s] \n",
      "  0%|          | 0/248 [00:00<?, ?it/s]"
     ]
    },
    {
     "name": "stdout",
     "output_type": "stream",
     "text": [
      "Trainset: mse=0.14215, recall=1.00000, ndcg=0.93360\n"
     ]
    },
    {
     "name": "stderr",
     "output_type": "stream",
     "text": [
      "100%|██████████| 248/248 [00:02<00:00, 86.40it/s]"
     ]
    },
    {
     "name": "stdout",
     "output_type": "stream",
     "text": [
      "Validset: mse=0.15002, recall=1.00000, ndcg=0.93334\n",
      "======= Epoch 8 ========\n"
     ]
    },
    {
     "name": "stderr",
     "output_type": "stream",
     "text": [
      "\n",
      "2228it [01:56, 19.16it/s]\n",
      "100%|██████████| 2228/2228 [00:24<00:00, 92.00it/s]\n",
      "  0%|          | 0/248 [00:00<?, ?it/s]"
     ]
    },
    {
     "name": "stdout",
     "output_type": "stream",
     "text": [
      "Trainset: mse=0.14192, recall=1.00000, ndcg=0.93358\n"
     ]
    },
    {
     "name": "stderr",
     "output_type": "stream",
     "text": [
      "100%|██████████| 248/248 [00:02<00:00, 87.75it/s]"
     ]
    },
    {
     "name": "stdout",
     "output_type": "stream",
     "text": [
      "Validset: mse=0.15112, recall=1.00000, ndcg=0.93334\n",
      "======= Epoch 9 ========\n"
     ]
    },
    {
     "name": "stderr",
     "output_type": "stream",
     "text": [
      "\n",
      "2228it [01:52, 19.74it/s]\n",
      "100%|██████████| 2228/2228 [00:24<00:00, 91.36it/s]\n",
      "  0%|          | 0/248 [00:00<?, ?it/s]"
     ]
    },
    {
     "name": "stdout",
     "output_type": "stream",
     "text": [
      "Trainset: mse=0.14850, recall=1.00000, ndcg=0.93359\n"
     ]
    },
    {
     "name": "stderr",
     "output_type": "stream",
     "text": [
      "100%|██████████| 248/248 [00:02<00:00, 87.69it/s]"
     ]
    },
    {
     "name": "stdout",
     "output_type": "stream",
     "text": [
      "Validset: mse=0.15797, recall=1.00000, ndcg=0.93334\n",
      "======= Epoch 10 ========\n"
     ]
    },
    {
     "name": "stderr",
     "output_type": "stream",
     "text": [
      "\n",
      "2228it [01:55, 19.32it/s]\n",
      "100%|██████████| 2228/2228 [00:24<00:00, 92.13it/s]\n",
      "  0%|          | 0/248 [00:00<?, ?it/s]"
     ]
    },
    {
     "name": "stdout",
     "output_type": "stream",
     "text": [
      "Trainset: mse=0.14457, recall=1.00000, ndcg=0.93359\n"
     ]
    },
    {
     "name": "stderr",
     "output_type": "stream",
     "text": [
      "100%|██████████| 248/248 [00:02<00:00, 84.90it/s]\n",
      "  0%|          | 0/619 [00:00<?, ?it/s]"
     ]
    },
    {
     "name": "stdout",
     "output_type": "stream",
     "text": [
      "Validset: mse=0.15594, recall=1.00000, ndcg=0.93334\n"
     ]
    },
    {
     "name": "stderr",
     "output_type": "stream",
     "text": [
      "100%|██████████| 619/619 [00:06<00:00, 91.83it/s]\n"
     ]
    },
    {
     "name": "stdout",
     "output_type": "stream",
     "text": [
      "========= Fold: 3 ==========\n",
      "======= Epoch 1 ========\n"
     ]
    },
    {
     "name": "stderr",
     "output_type": "stream",
     "text": [
      "2228it [01:54, 19.38it/s]\n",
      "100%|██████████| 2228/2228 [00:24<00:00, 90.20it/s]\n",
      "  0%|          | 0/248 [00:00<?, ?it/s]"
     ]
    },
    {
     "name": "stdout",
     "output_type": "stream",
     "text": [
      "Trainset: mse=0.12716, recall=1.00000, ndcg=0.93356\n"
     ]
    },
    {
     "name": "stderr",
     "output_type": "stream",
     "text": [
      "100%|██████████| 248/248 [00:02<00:00, 87.37it/s]\n"
     ]
    },
    {
     "name": "stdout",
     "output_type": "stream",
     "text": [
      "Validset: mse=0.12735, recall=1.00000, ndcg=0.93407\n",
      "======= Epoch 2 ========\n"
     ]
    },
    {
     "name": "stderr",
     "output_type": "stream",
     "text": [
      "2228it [01:55, 19.32it/s]\n",
      "100%|██████████| 2228/2228 [00:24<00:00, 89.18it/s]\n",
      "  0%|          | 0/248 [00:00<?, ?it/s]"
     ]
    },
    {
     "name": "stdout",
     "output_type": "stream",
     "text": [
      "Trainset: mse=0.13365, recall=1.00000, ndcg=0.93356\n"
     ]
    },
    {
     "name": "stderr",
     "output_type": "stream",
     "text": [
      "100%|██████████| 248/248 [00:02<00:00, 86.89it/s]"
     ]
    },
    {
     "name": "stdout",
     "output_type": "stream",
     "text": [
      "Validset: mse=0.13544, recall=1.00000, ndcg=0.93407\n",
      "======= Epoch 3 ========\n"
     ]
    },
    {
     "name": "stderr",
     "output_type": "stream",
     "text": [
      "\n",
      "2228it [01:55, 19.34it/s]\n",
      "100%|██████████| 2228/2228 [00:23<00:00, 93.90it/s]\n",
      "  0%|          | 0/248 [00:00<?, ?it/s]"
     ]
    },
    {
     "name": "stdout",
     "output_type": "stream",
     "text": [
      "Trainset: mse=0.14533, recall=1.00000, ndcg=0.93355\n"
     ]
    },
    {
     "name": "stderr",
     "output_type": "stream",
     "text": [
      "100%|██████████| 248/248 [00:02<00:00, 88.20it/s]"
     ]
    },
    {
     "name": "stdout",
     "output_type": "stream",
     "text": [
      "Validset: mse=0.14725, recall=1.00000, ndcg=0.93407\n",
      "======= Epoch 4 ========\n"
     ]
    },
    {
     "name": "stderr",
     "output_type": "stream",
     "text": [
      "\n",
      "2228it [01:53, 19.68it/s]\n",
      "100%|██████████| 2228/2228 [00:24<00:00, 90.06it/s]\n",
      "  0%|          | 0/248 [00:00<?, ?it/s]"
     ]
    },
    {
     "name": "stdout",
     "output_type": "stream",
     "text": [
      "Trainset: mse=0.15043, recall=1.00000, ndcg=0.93356\n"
     ]
    },
    {
     "name": "stderr",
     "output_type": "stream",
     "text": [
      "100%|██████████| 248/248 [00:02<00:00, 86.79it/s]"
     ]
    },
    {
     "name": "stdout",
     "output_type": "stream",
     "text": [
      "Validset: mse=0.15253, recall=1.00000, ndcg=0.93407\n",
      "======= Epoch 5 ========\n"
     ]
    },
    {
     "name": "stderr",
     "output_type": "stream",
     "text": [
      "\n",
      "2228it [01:53, 19.55it/s]\n",
      "100%|██████████| 2228/2228 [00:23<00:00, 96.68it/s] \n",
      "  0%|          | 0/248 [00:00<?, ?it/s]"
     ]
    },
    {
     "name": "stdout",
     "output_type": "stream",
     "text": [
      "Trainset: mse=0.14638, recall=1.00000, ndcg=0.93355\n"
     ]
    },
    {
     "name": "stderr",
     "output_type": "stream",
     "text": [
      "100%|██████████| 248/248 [00:02<00:00, 89.34it/s]"
     ]
    },
    {
     "name": "stdout",
     "output_type": "stream",
     "text": [
      "Validset: mse=0.15176, recall=1.00000, ndcg=0.93407\n",
      "======= Epoch 6 ========\n"
     ]
    },
    {
     "name": "stderr",
     "output_type": "stream",
     "text": [
      "\n",
      "2228it [01:54, 19.52it/s]\n",
      "100%|██████████| 2228/2228 [00:24<00:00, 91.91it/s]\n",
      "  0%|          | 0/248 [00:00<?, ?it/s]"
     ]
    },
    {
     "name": "stdout",
     "output_type": "stream",
     "text": [
      "Trainset: mse=0.16555, recall=1.00000, ndcg=0.93356\n"
     ]
    },
    {
     "name": "stderr",
     "output_type": "stream",
     "text": [
      "100%|██████████| 248/248 [00:03<00:00, 82.43it/s]"
     ]
    },
    {
     "name": "stdout",
     "output_type": "stream",
     "text": [
      "Validset: mse=0.16813, recall=1.00000, ndcg=0.93407\n",
      "======= Epoch 7 ========\n"
     ]
    },
    {
     "name": "stderr",
     "output_type": "stream",
     "text": [
      "\n",
      "2228it [01:55, 19.22it/s]\n",
      "100%|██████████| 2228/2228 [00:23<00:00, 94.60it/s] \n",
      "  0%|          | 0/248 [00:00<?, ?it/s]"
     ]
    },
    {
     "name": "stdout",
     "output_type": "stream",
     "text": [
      "Trainset: mse=0.14018, recall=1.00000, ndcg=0.93356\n"
     ]
    },
    {
     "name": "stderr",
     "output_type": "stream",
     "text": [
      "100%|██████████| 248/248 [00:02<00:00, 83.52it/s]"
     ]
    },
    {
     "name": "stdout",
     "output_type": "stream",
     "text": [
      "Validset: mse=0.14764, recall=1.00000, ndcg=0.93407\n",
      "======= Epoch 8 ========\n"
     ]
    },
    {
     "name": "stderr",
     "output_type": "stream",
     "text": [
      "\n",
      "2228it [01:55, 19.34it/s]\n",
      "100%|██████████| 2228/2228 [00:24<00:00, 91.45it/s]\n",
      "  0%|          | 0/248 [00:00<?, ?it/s]"
     ]
    },
    {
     "name": "stdout",
     "output_type": "stream",
     "text": [
      "Trainset: mse=0.15236, recall=1.00000, ndcg=0.93356\n"
     ]
    },
    {
     "name": "stderr",
     "output_type": "stream",
     "text": [
      "100%|██████████| 248/248 [00:02<00:00, 86.64it/s]"
     ]
    },
    {
     "name": "stdout",
     "output_type": "stream",
     "text": [
      "Validset: mse=0.15834, recall=1.00000, ndcg=0.93407\n",
      "======= Epoch 9 ========\n"
     ]
    },
    {
     "name": "stderr",
     "output_type": "stream",
     "text": [
      "\n",
      "2228it [01:53, 19.66it/s]\n",
      "100%|██████████| 2228/2228 [00:24<00:00, 91.09it/s]\n",
      "  0%|          | 0/248 [00:00<?, ?it/s]"
     ]
    },
    {
     "name": "stdout",
     "output_type": "stream",
     "text": [
      "Trainset: mse=0.14754, recall=1.00000, ndcg=0.93356\n"
     ]
    },
    {
     "name": "stderr",
     "output_type": "stream",
     "text": [
      "100%|██████████| 248/248 [00:02<00:00, 85.13it/s]"
     ]
    },
    {
     "name": "stdout",
     "output_type": "stream",
     "text": [
      "Validset: mse=0.15634, recall=1.00000, ndcg=0.93407\n",
      "======= Epoch 10 ========\n"
     ]
    },
    {
     "name": "stderr",
     "output_type": "stream",
     "text": [
      "\n",
      "2228it [01:50, 20.22it/s]\n",
      "100%|██████████| 2228/2228 [00:24<00:00, 91.41it/s]\n",
      "  0%|          | 0/248 [00:00<?, ?it/s]"
     ]
    },
    {
     "name": "stdout",
     "output_type": "stream",
     "text": [
      "Trainset: mse=0.14808, recall=1.00000, ndcg=0.93356\n"
     ]
    },
    {
     "name": "stderr",
     "output_type": "stream",
     "text": [
      "100%|██████████| 248/248 [00:02<00:00, 83.74it/s]\n",
      "  0%|          | 0/619 [00:00<?, ?it/s]"
     ]
    },
    {
     "name": "stdout",
     "output_type": "stream",
     "text": [
      "Validset: mse=0.15749, recall=1.00000, ndcg=0.93407\n"
     ]
    },
    {
     "name": "stderr",
     "output_type": "stream",
     "text": [
      "100%|██████████| 619/619 [00:06<00:00, 90.27it/s]\n"
     ]
    },
    {
     "name": "stdout",
     "output_type": "stream",
     "text": [
      "========= Fold: 4 ==========\n",
      "======= Epoch 1 ========\n"
     ]
    },
    {
     "name": "stderr",
     "output_type": "stream",
     "text": [
      "2228it [01:55, 19.37it/s]\n",
      "100%|██████████| 2228/2228 [00:24<00:00, 91.84it/s]\n",
      "  0%|          | 0/248 [00:00<?, ?it/s]"
     ]
    },
    {
     "name": "stdout",
     "output_type": "stream",
     "text": [
      "Trainset: mse=0.14152, recall=1.00000, ndcg=0.93356\n"
     ]
    },
    {
     "name": "stderr",
     "output_type": "stream",
     "text": [
      "100%|██████████| 248/248 [00:02<00:00, 87.87it/s]"
     ]
    },
    {
     "name": "stdout",
     "output_type": "stream",
     "text": [
      "Validset: mse=0.14242, recall=1.00000, ndcg=0.93364\n",
      "======= Epoch 2 ========\n"
     ]
    },
    {
     "name": "stderr",
     "output_type": "stream",
     "text": [
      "\n",
      "2228it [01:53, 19.66it/s]\n",
      "100%|██████████| 2228/2228 [00:24<00:00, 91.60it/s]\n",
      "  0%|          | 0/248 [00:00<?, ?it/s]"
     ]
    },
    {
     "name": "stdout",
     "output_type": "stream",
     "text": [
      "Trainset: mse=0.13835, recall=1.00000, ndcg=0.93357\n"
     ]
    },
    {
     "name": "stderr",
     "output_type": "stream",
     "text": [
      "100%|██████████| 248/248 [00:03<00:00, 82.51it/s]"
     ]
    },
    {
     "name": "stdout",
     "output_type": "stream",
     "text": [
      "Validset: mse=0.14057, recall=1.00000, ndcg=0.93364\n",
      "======= Epoch 3 ========\n"
     ]
    },
    {
     "name": "stderr",
     "output_type": "stream",
     "text": [
      "\n",
      "2228it [01:53, 19.68it/s]\n",
      "100%|██████████| 2228/2228 [00:23<00:00, 93.20it/s]\n",
      "  0%|          | 0/248 [00:00<?, ?it/s]"
     ]
    },
    {
     "name": "stdout",
     "output_type": "stream",
     "text": [
      "Trainset: mse=0.13922, recall=1.00000, ndcg=0.93356\n"
     ]
    },
    {
     "name": "stderr",
     "output_type": "stream",
     "text": [
      "100%|██████████| 248/248 [00:02<00:00, 86.93it/s]"
     ]
    },
    {
     "name": "stdout",
     "output_type": "stream",
     "text": [
      "Validset: mse=0.14217, recall=1.00000, ndcg=0.93364\n",
      "======= Epoch 4 ========\n"
     ]
    },
    {
     "name": "stderr",
     "output_type": "stream",
     "text": [
      "\n",
      "2228it [01:55, 19.37it/s]\n",
      "100%|██████████| 2228/2228 [00:24<00:00, 89.68it/s]\n",
      "  0%|          | 0/248 [00:00<?, ?it/s]"
     ]
    },
    {
     "name": "stdout",
     "output_type": "stream",
     "text": [
      "Trainset: mse=0.15410, recall=1.00000, ndcg=0.93357\n"
     ]
    },
    {
     "name": "stderr",
     "output_type": "stream",
     "text": [
      "100%|██████████| 248/248 [00:03<00:00, 82.58it/s]"
     ]
    },
    {
     "name": "stdout",
     "output_type": "stream",
     "text": [
      "Validset: mse=0.15702, recall=1.00000, ndcg=0.93364\n",
      "======= Epoch 5 ========\n"
     ]
    },
    {
     "name": "stderr",
     "output_type": "stream",
     "text": [
      "\n",
      "2228it [01:54, 19.49it/s]\n",
      "100%|██████████| 2228/2228 [00:24<00:00, 91.38it/s]\n",
      "  0%|          | 0/248 [00:00<?, ?it/s]"
     ]
    },
    {
     "name": "stdout",
     "output_type": "stream",
     "text": [
      "Trainset: mse=0.14793, recall=1.00000, ndcg=0.93357\n"
     ]
    },
    {
     "name": "stderr",
     "output_type": "stream",
     "text": [
      "100%|██████████| 248/248 [00:03<00:00, 82.37it/s]"
     ]
    },
    {
     "name": "stdout",
     "output_type": "stream",
     "text": [
      "Validset: mse=0.15209, recall=1.00000, ndcg=0.93364\n",
      "======= Epoch 6 ========\n"
     ]
    },
    {
     "name": "stderr",
     "output_type": "stream",
     "text": [
      "\n",
      "2228it [01:55, 19.26it/s]\n",
      "100%|██████████| 2228/2228 [00:24<00:00, 91.97it/s]\n",
      "  0%|          | 0/248 [00:00<?, ?it/s]"
     ]
    },
    {
     "name": "stdout",
     "output_type": "stream",
     "text": [
      "Trainset: mse=0.15185, recall=1.00000, ndcg=0.93357\n"
     ]
    },
    {
     "name": "stderr",
     "output_type": "stream",
     "text": [
      "100%|██████████| 248/248 [00:02<00:00, 83.07it/s]"
     ]
    },
    {
     "name": "stdout",
     "output_type": "stream",
     "text": [
      "Validset: mse=0.15655, recall=1.00000, ndcg=0.93364\n",
      "======= Epoch 7 ========\n"
     ]
    },
    {
     "name": "stderr",
     "output_type": "stream",
     "text": [
      "\n",
      "2228it [01:55, 19.29it/s]\n",
      "100%|██████████| 2228/2228 [00:24<00:00, 91.77it/s]\n",
      "  0%|          | 0/248 [00:00<?, ?it/s]"
     ]
    },
    {
     "name": "stdout",
     "output_type": "stream",
     "text": [
      "Trainset: mse=0.14366, recall=1.00000, ndcg=0.93357\n"
     ]
    },
    {
     "name": "stderr",
     "output_type": "stream",
     "text": [
      "100%|██████████| 248/248 [00:02<00:00, 84.14it/s]\n"
     ]
    },
    {
     "name": "stdout",
     "output_type": "stream",
     "text": [
      "Validset: mse=0.15017, recall=1.00000, ndcg=0.93364\n",
      "======= Epoch 8 ========\n"
     ]
    },
    {
     "name": "stderr",
     "output_type": "stream",
     "text": [
      "2228it [01:56, 19.12it/s]\n",
      "100%|██████████| 2228/2228 [00:24<00:00, 92.57it/s]\n",
      "  0%|          | 0/248 [00:00<?, ?it/s]"
     ]
    },
    {
     "name": "stdout",
     "output_type": "stream",
     "text": [
      "Trainset: mse=0.14259, recall=1.00000, ndcg=0.93357\n"
     ]
    },
    {
     "name": "stderr",
     "output_type": "stream",
     "text": [
      "100%|██████████| 248/248 [00:02<00:00, 83.85it/s]"
     ]
    },
    {
     "name": "stdout",
     "output_type": "stream",
     "text": [
      "Validset: mse=0.15060, recall=1.00000, ndcg=0.93364\n",
      "======= Epoch 9 ========\n"
     ]
    },
    {
     "name": "stderr",
     "output_type": "stream",
     "text": [
      "\n",
      "2228it [01:55, 19.31it/s]\n",
      "100%|██████████| 2228/2228 [00:24<00:00, 92.62it/s] \n",
      "  0%|          | 0/248 [00:00<?, ?it/s]"
     ]
    },
    {
     "name": "stdout",
     "output_type": "stream",
     "text": [
      "Trainset: mse=0.14656, recall=1.00000, ndcg=0.93357\n"
     ]
    },
    {
     "name": "stderr",
     "output_type": "stream",
     "text": [
      "100%|██████████| 248/248 [00:02<00:00, 85.13it/s]\n"
     ]
    },
    {
     "name": "stdout",
     "output_type": "stream",
     "text": [
      "Validset: mse=0.15483, recall=1.00000, ndcg=0.93364\n",
      "======= Epoch 10 ========\n"
     ]
    },
    {
     "name": "stderr",
     "output_type": "stream",
     "text": [
      "2228it [01:55, 19.21it/s]\n",
      "100%|██████████| 2228/2228 [00:24<00:00, 91.92it/s] \n",
      "  0%|          | 0/248 [00:00<?, ?it/s]"
     ]
    },
    {
     "name": "stdout",
     "output_type": "stream",
     "text": [
      "Trainset: mse=0.15254, recall=1.00000, ndcg=0.93357\n"
     ]
    },
    {
     "name": "stderr",
     "output_type": "stream",
     "text": [
      "100%|██████████| 248/248 [00:02<00:00, 93.03it/s] \n",
      "  0%|          | 0/619 [00:00<?, ?it/s]"
     ]
    },
    {
     "name": "stdout",
     "output_type": "stream",
     "text": [
      "Validset: mse=0.16184, recall=1.00000, ndcg=0.93364\n"
     ]
    },
    {
     "name": "stderr",
     "output_type": "stream",
     "text": [
      "100%|██████████| 619/619 [00:06<00:00, 98.04it/s] \n"
     ]
    },
    {
     "name": "stdout",
     "output_type": "stream",
     "text": [
      "========= Fold: 5 ==========\n",
      "======= Epoch 1 ========\n"
     ]
    },
    {
     "name": "stderr",
     "output_type": "stream",
     "text": [
      "2228it [01:55, 19.37it/s]\n",
      "100%|██████████| 2228/2228 [00:24<00:00, 91.40it/s]\n",
      "  0%|          | 0/248 [00:00<?, ?it/s]"
     ]
    },
    {
     "name": "stdout",
     "output_type": "stream",
     "text": [
      "Trainset: mse=0.13432, recall=1.00000, ndcg=0.93364\n"
     ]
    },
    {
     "name": "stderr",
     "output_type": "stream",
     "text": [
      "100%|██████████| 248/248 [00:02<00:00, 85.41it/s]"
     ]
    },
    {
     "name": "stdout",
     "output_type": "stream",
     "text": [
      "Validset: mse=0.13592, recall=1.00000, ndcg=0.93263\n",
      "======= Epoch 2 ========\n"
     ]
    },
    {
     "name": "stderr",
     "output_type": "stream",
     "text": [
      "\n",
      "2228it [01:55, 19.30it/s]\n",
      "100%|██████████| 2228/2228 [00:24<00:00, 89.13it/s]\n",
      "  0%|          | 0/248 [00:00<?, ?it/s]"
     ]
    },
    {
     "name": "stdout",
     "output_type": "stream",
     "text": [
      "Trainset: mse=0.13576, recall=1.00000, ndcg=0.93364\n"
     ]
    },
    {
     "name": "stderr",
     "output_type": "stream",
     "text": [
      "100%|██████████| 248/248 [00:02<00:00, 84.92it/s]"
     ]
    },
    {
     "name": "stdout",
     "output_type": "stream",
     "text": [
      "Validset: mse=0.13843, recall=1.00000, ndcg=0.93263\n",
      "======= Epoch 3 ========\n"
     ]
    },
    {
     "name": "stderr",
     "output_type": "stream",
     "text": [
      "\n",
      "2228it [01:54, 19.47it/s]\n",
      "100%|██████████| 2228/2228 [00:25<00:00, 88.20it/s]\n",
      "  0%|          | 0/248 [00:00<?, ?it/s]"
     ]
    },
    {
     "name": "stdout",
     "output_type": "stream",
     "text": [
      "Trainset: mse=0.12990, recall=1.00000, ndcg=0.93364\n"
     ]
    },
    {
     "name": "stderr",
     "output_type": "stream",
     "text": [
      "100%|██████████| 248/248 [00:02<00:00, 85.67it/s]"
     ]
    },
    {
     "name": "stdout",
     "output_type": "stream",
     "text": [
      "Validset: mse=0.13317, recall=1.00000, ndcg=0.93263\n",
      "======= Epoch 4 ========\n"
     ]
    },
    {
     "name": "stderr",
     "output_type": "stream",
     "text": [
      "\n",
      "2228it [01:54, 19.38it/s]\n",
      "100%|██████████| 2228/2228 [00:25<00:00, 88.78it/s]\n",
      "  0%|          | 0/248 [00:00<?, ?it/s]"
     ]
    },
    {
     "name": "stdout",
     "output_type": "stream",
     "text": [
      "Trainset: mse=0.14130, recall=1.00000, ndcg=0.93363\n"
     ]
    },
    {
     "name": "stderr",
     "output_type": "stream",
     "text": [
      "100%|██████████| 248/248 [00:02<00:00, 83.61it/s]"
     ]
    },
    {
     "name": "stdout",
     "output_type": "stream",
     "text": [
      "Validset: mse=0.14656, recall=1.00000, ndcg=0.93263\n",
      "======= Epoch 5 ========\n"
     ]
    },
    {
     "name": "stderr",
     "output_type": "stream",
     "text": [
      "\n",
      "2228it [01:54, 19.45it/s]\n",
      "100%|██████████| 2228/2228 [00:25<00:00, 88.68it/s]\n",
      "  0%|          | 0/248 [00:00<?, ?it/s]"
     ]
    },
    {
     "name": "stdout",
     "output_type": "stream",
     "text": [
      "Trainset: mse=0.14030, recall=1.00000, ndcg=0.93363\n"
     ]
    },
    {
     "name": "stderr",
     "output_type": "stream",
     "text": [
      "100%|██████████| 248/248 [00:02<00:00, 83.29it/s]"
     ]
    },
    {
     "name": "stdout",
     "output_type": "stream",
     "text": [
      "Validset: mse=0.14640, recall=1.00000, ndcg=0.93263\n",
      "======= Epoch 6 ========\n"
     ]
    },
    {
     "name": "stderr",
     "output_type": "stream",
     "text": [
      "\n",
      "2228it [01:53, 19.62it/s]\n",
      "100%|██████████| 2228/2228 [00:24<00:00, 91.02it/s]\n",
      "  0%|          | 0/248 [00:00<?, ?it/s]"
     ]
    },
    {
     "name": "stdout",
     "output_type": "stream",
     "text": [
      "Trainset: mse=0.14415, recall=1.00000, ndcg=0.93364\n"
     ]
    },
    {
     "name": "stderr",
     "output_type": "stream",
     "text": [
      "100%|██████████| 248/248 [00:02<00:00, 85.10it/s]"
     ]
    },
    {
     "name": "stdout",
     "output_type": "stream",
     "text": [
      "Validset: mse=0.15235, recall=1.00000, ndcg=0.93263\n",
      "======= Epoch 7 ========\n"
     ]
    },
    {
     "name": "stderr",
     "output_type": "stream",
     "text": [
      "\n",
      "2228it [01:54, 19.42it/s]\n",
      "100%|██████████| 2228/2228 [00:24<00:00, 91.89it/s]\n",
      "  0%|          | 0/248 [00:00<?, ?it/s]"
     ]
    },
    {
     "name": "stdout",
     "output_type": "stream",
     "text": [
      "Trainset: mse=0.14110, recall=1.00000, ndcg=0.93363\n"
     ]
    },
    {
     "name": "stderr",
     "output_type": "stream",
     "text": [
      "100%|██████████| 248/248 [00:02<00:00, 86.23it/s]"
     ]
    },
    {
     "name": "stdout",
     "output_type": "stream",
     "text": [
      "Validset: mse=0.15014, recall=1.00000, ndcg=0.93263\n",
      "======= Epoch 8 ========\n"
     ]
    },
    {
     "name": "stderr",
     "output_type": "stream",
     "text": [
      "\n",
      "2228it [01:54, 19.48it/s]\n",
      "100%|██████████| 2228/2228 [00:24<00:00, 91.15it/s]\n",
      "  0%|          | 0/248 [00:00<?, ?it/s]"
     ]
    },
    {
     "name": "stdout",
     "output_type": "stream",
     "text": [
      "Trainset: mse=0.14916, recall=1.00000, ndcg=0.93364\n"
     ]
    },
    {
     "name": "stderr",
     "output_type": "stream",
     "text": [
      "100%|██████████| 248/248 [00:02<00:00, 86.02it/s]"
     ]
    },
    {
     "name": "stdout",
     "output_type": "stream",
     "text": [
      "Validset: mse=0.15891, recall=1.00000, ndcg=0.93263\n",
      "======= Epoch 9 ========\n"
     ]
    },
    {
     "name": "stderr",
     "output_type": "stream",
     "text": [
      "\n",
      "2228it [01:56, 19.20it/s]\n",
      "100%|██████████| 2228/2228 [00:24<00:00, 90.15it/s]\n",
      "  0%|          | 0/248 [00:00<?, ?it/s]"
     ]
    },
    {
     "name": "stdout",
     "output_type": "stream",
     "text": [
      "Trainset: mse=0.14836, recall=1.00000, ndcg=0.93363\n"
     ]
    },
    {
     "name": "stderr",
     "output_type": "stream",
     "text": [
      "100%|██████████| 248/248 [00:02<00:00, 84.19it/s]"
     ]
    },
    {
     "name": "stdout",
     "output_type": "stream",
     "text": [
      "Validset: mse=0.15920, recall=1.00000, ndcg=0.93263\n",
      "======= Epoch 10 ========\n"
     ]
    },
    {
     "name": "stderr",
     "output_type": "stream",
     "text": [
      "\n",
      "2228it [01:52, 19.77it/s]\n",
      "100%|██████████| 2228/2228 [00:23<00:00, 93.08it/s]\n",
      "  0%|          | 0/248 [00:00<?, ?it/s]"
     ]
    },
    {
     "name": "stdout",
     "output_type": "stream",
     "text": [
      "Trainset: mse=0.14967, recall=1.00000, ndcg=0.93363\n"
     ]
    },
    {
     "name": "stderr",
     "output_type": "stream",
     "text": [
      "100%|██████████| 248/248 [00:02<00:00, 87.43it/s]\n",
      "  0%|          | 0/619 [00:00<?, ?it/s]"
     ]
    },
    {
     "name": "stdout",
     "output_type": "stream",
     "text": [
      "Validset: mse=0.16065, recall=1.00000, ndcg=0.93263\n"
     ]
    },
    {
     "name": "stderr",
     "output_type": "stream",
     "text": [
      "100%|██████████| 619/619 [00:06<00:00, 91.74it/s]\n"
     ]
    }
   ],
   "source": [
    "fold_cnt = 0\n",
    "\n",
    "mse_list = []\n",
    "recall_list = []\n",
    "ndcg_list = []\n",
    "\n",
    "for train_index, test_index in kf.split(rel):\n",
    "    \n",
    "    fold_cnt += 1\n",
    "    print(\"========= Fold: {} ==========\".format(fold_cnt))\n",
    "    \n",
    "    test_df = rel.iloc[test_index]\n",
    "    \n",
    "    train_index, valid_index = train_test_split(train_index, test_size=0.1)\n",
    "    train_df = rel.iloc[train_index]\n",
    "    valid_df = rel.iloc[valid_index]\n",
    "    \n",
    "    trainset = Dataset(train_df)\n",
    "    validset = Dataset(valid_df)\n",
    "    testset = Dataset(test_df)\n",
    "    \n",
    "    trainloader = DataLoader(trainset, batch_size=256, shuffle=True, num_workers=2) \n",
    "    testloader = DataLoader(testset, batch_size=256, shuffle=False, num_workers=2) \n",
    "    validloader = DataLoader(validset, batch_size=256, shuffle=False, num_workers=2) \n",
    "    \n",
    "    model = InteractE(args, chequer).to(device)\n",
    "    optimizer = optim.SGD(model.parameters(), lr=0.01, momentum=0.9)\n",
    "    \n",
    "    for epoch in range(10):\n",
    "        print(\"======= Epoch {} ========\".format(epoch+1))\n",
    "        loss = train(model, optimizer, trainloader, device)\n",
    "        mse, recall, ndcg = test(model, trainloader, device)\n",
    "        print(\"Trainset: mse={:.5f}, recall={:.5f}, ndcg={:.5f}\".format(mse, recall, ndcg))\n",
    "        mse, recall, ndcg = test(model, validloader, device)\n",
    "        print(\"Validset: mse={:.5f}, recall={:.5f}, ndcg={:.5f}\".format(mse, recall, ndcg))\n",
    "        \n",
    "    \n",
    "    mse, recall, ndcg = test(model, testloader, device)\n",
    "    mse_list.append(mse)\n",
    "    recall_list.append(recall)\n",
    "    ndcg_list.append(ndcg)"
   ]
  },
  {
   "cell_type": "code",
   "execution_count": null,
   "id": "instructional-rings",
   "metadata": {},
   "outputs": [],
   "source": []
  },
  {
   "cell_type": "markdown",
   "id": "bottom-syracuse",
   "metadata": {},
   "source": [
    "### douban without filter"
   ]
  },
  {
   "cell_type": "code",
   "execution_count": 22,
   "id": "breathing-velvet",
   "metadata": {},
   "outputs": [
    {
     "data": {
      "text/plain": [
       "0.15536124332294682"
      ]
     },
     "execution_count": 22,
     "metadata": {},
     "output_type": "execute_result"
    }
   ],
   "source": [
    "sum(mse_list)/len(mse_list)"
   ]
  },
  {
   "cell_type": "code",
   "execution_count": 23,
   "id": "prompt-nightmare",
   "metadata": {},
   "outputs": [
    {
     "data": {
      "text/plain": [
       "1.0"
      ]
     },
     "execution_count": 23,
     "metadata": {},
     "output_type": "execute_result"
    }
   ],
   "source": [
    "sum(recall_list)/len(recall_list)"
   ]
  },
  {
   "cell_type": "code",
   "execution_count": 24,
   "id": "contrary-print",
   "metadata": {},
   "outputs": [
    {
     "data": {
      "text/plain": [
       "0.9335744432272624"
      ]
     },
     "execution_count": 24,
     "metadata": {},
     "output_type": "execute_result"
    }
   ],
   "source": [
    "sum(ndcg_list)/len(ndcg_list)"
   ]
  },
  {
   "cell_type": "markdown",
   "id": "printable-rhythm",
   "metadata": {},
   "source": [
    "### douban with filter"
   ]
  },
  {
   "cell_type": "code",
   "execution_count": 36,
   "id": "cordless-sally",
   "metadata": {},
   "outputs": [
    {
     "data": {
      "text/plain": [
       "0.1586426511035266"
      ]
     },
     "execution_count": 36,
     "metadata": {},
     "output_type": "execute_result"
    }
   ],
   "source": [
    "sum(mse_list)/len(mse_list)"
   ]
  },
  {
   "cell_type": "code",
   "execution_count": 37,
   "id": "stable-hurricane",
   "metadata": {},
   "outputs": [
    {
     "data": {
      "text/plain": [
       "1.0"
      ]
     },
     "execution_count": 37,
     "metadata": {},
     "output_type": "execute_result"
    }
   ],
   "source": [
    "sum(recall_list)/len(recall_list)"
   ]
  },
  {
   "cell_type": "code",
   "execution_count": 38,
   "id": "complete-constant",
   "metadata": {},
   "outputs": [
    {
     "data": {
      "text/plain": [
       "0.9335744432272624"
      ]
     },
     "execution_count": 38,
     "metadata": {},
     "output_type": "execute_result"
    }
   ],
   "source": [
    "sum(ndcg_list)/len(ndcg_list)"
   ]
  },
  {
   "cell_type": "code",
   "execution_count": null,
   "id": "sticky-mining",
   "metadata": {},
   "outputs": [],
   "source": []
  },
  {
   "cell_type": "code",
   "execution_count": null,
   "id": "anticipated-police",
   "metadata": {},
   "outputs": [],
   "source": []
  },
  {
   "cell_type": "code",
   "execution_count": null,
   "id": "skilled-inquiry",
   "metadata": {},
   "outputs": [],
   "source": []
  },
  {
   "cell_type": "code",
   "execution_count": null,
   "id": "intelligent-whole",
   "metadata": {
    "scrolled": false
   },
   "outputs": [],
   "source": [
    "valid_auc = 0\n",
    "for epoch in range(100):\n",
    "\n",
    "    loss = train(model, optimizer, trainloader, device)\n",
    "    train_auc = test(model, trainloader, device)\n",
    "    auc = test(model, validloader, device)\n",
    "   \n",
    "    if auc > valid_auc:\n",
    "        valid_auc = auc\n",
    "        \n",
    "        checkpoint = {\n",
    "            'model_stat': model.state_dict(),\n",
    "            'optimizer_stat': optimizer.state_dict(),\n",
    "        }\n",
    "        \n",
    "        torch.save(checkpoint, os.path.join(root, \"results\", dataset, \"interactE\", \n",
    "                                                \"{}_{}.pth\".format(date_time, dataset)))\n",
    "        print(\"\\nSave Model\")\n",
    "    \n",
    "    print(\"Epoch: {}, loss={:.5f}, valid_auc={:.5f}, train_auc={:.5f}\".format(epoch+1, loss, auc, train_auc))\n",
    "    "
   ]
  },
  {
   "cell_type": "code",
   "execution_count": 89,
   "id": "efficient-motor",
   "metadata": {},
   "outputs": [
    {
     "name": "stdout",
     "output_type": "stream",
     "text": [
      "Embedding(877, 97)\n",
      "pretrained finded\n"
     ]
    }
   ],
   "source": [
    "model, optimizer = load_checkpoint(os.path.join(root, \"results\", dataset, \"interactE\", \"weight.pth\"), device=device)"
   ]
  },
  {
   "cell_type": "code",
   "execution_count": 90,
   "id": "hollow-continuity",
   "metadata": {},
   "outputs": [
    {
     "name": "stderr",
     "output_type": "stream",
     "text": [
      "100%|██████████| 21/21 [00:00<00:00, 61.72it/s]\n"
     ]
    }
   ],
   "source": [
    "pred = predict(model, testloader, device)"
   ]
  },
  {
   "cell_type": "code",
   "execution_count": 91,
   "id": "durable-arnold",
   "metadata": {},
   "outputs": [
    {
     "data": {
      "text/plain": [
       "array([9.99296665e-01, 9.99974608e-01, 9.99904752e-01, 9.81246769e-01,\n",
       "       9.41093604e-05, 3.11104268e-05, 9.99999166e-01, 2.24112961e-02,\n",
       "       9.99894381e-01, 9.99646306e-01, 4.32964180e-06, 9.97670829e-01,\n",
       "       2.91336537e-03, 9.98132527e-01, 4.62299140e-05, 9.99988914e-01,\n",
       "       1.76502326e-07, 9.99999762e-01, 1.65335496e-03, 9.99194682e-01,\n",
       "       1.00000000e+00, 9.99995828e-01, 9.99987245e-01, 3.67666507e-04,\n",
       "       2.47902626e-05, 9.99567568e-01, 9.99998808e-01, 2.89711033e-06,\n",
       "       9.99994516e-01, 9.99999881e-01, 9.98152077e-01, 9.99993324e-01,\n",
       "       4.22160685e-01, 9.99997497e-01, 9.99997377e-01, 9.99977469e-01,\n",
       "       1.86935576e-05, 9.99999762e-01, 9.99999881e-01, 9.99915004e-01,\n",
       "       9.99989629e-01, 9.99951839e-01, 9.97748911e-01, 8.24332631e-07,\n",
       "       7.14886427e-01, 5.42289818e-05, 9.99966025e-01, 3.76991329e-06,\n",
       "       9.99999642e-01, 2.09501650e-05, 9.99803841e-01, 5.23268938e-01,\n",
       "       3.84405375e-01, 3.82165535e-06, 9.99978065e-01, 8.77665798e-07,\n",
       "       9.99996185e-01, 1.70437329e-06, 9.99991298e-01, 9.99945879e-01,\n",
       "       9.98872101e-01, 6.03945082e-05, 1.23462769e-08, 2.34006831e-04,\n",
       "       1.50878564e-04, 9.66987967e-01, 7.11301254e-06, 9.99107540e-01,\n",
       "       9.76037979e-01, 4.49779800e-05, 1.11407480e-05, 9.97599304e-01,\n",
       "       2.10085473e-05, 6.68419816e-05, 9.99964833e-01, 1.98760448e-04,\n",
       "       9.99999762e-01, 9.99994278e-01, 9.99992013e-01, 9.99710023e-01,\n",
       "       9.62503612e-01, 2.05294464e-06, 1.59370156e-05, 9.99999404e-01,\n",
       "       9.99998331e-01, 3.79211342e-05, 9.99935389e-01, 4.52827699e-05,\n",
       "       9.99823034e-01, 1.70217114e-04, 9.99999523e-01, 7.85238808e-05,\n",
       "       9.34251249e-02, 1.77546626e-05, 4.01678744e-06, 1.25880842e-05,\n",
       "       9.99985814e-01, 3.78178214e-07, 7.71260560e-01, 2.14597192e-02,\n",
       "       9.99988317e-01, 8.14461382e-04, 3.74224871e-01, 9.99973178e-01,\n",
       "       9.99997616e-01, 9.99885798e-01, 6.65353060e-01, 3.69863629e-01,\n",
       "       9.99997139e-01, 9.99995828e-01, 9.99753773e-01, 3.27037206e-08,\n",
       "       4.65646772e-05, 9.99991179e-01, 7.59336710e-01, 9.68382418e-01,\n",
       "       9.99998569e-01, 4.52192126e-06, 9.99999285e-01, 9.99999523e-01,\n",
       "       5.41546615e-04, 3.00759962e-03, 4.50713669e-05, 9.99997735e-01,\n",
       "       4.48280945e-04, 1.26859422e-05, 2.29334764e-05, 9.99980569e-01,\n",
       "       5.96809768e-05, 9.99935508e-01, 9.99358952e-01, 1.45089507e-04,\n",
       "       9.98422384e-01, 1.39171602e-02, 9.99999046e-01, 9.99950767e-01,\n",
       "       3.78214376e-04, 9.99369800e-01, 3.66261080e-02, 9.99991417e-01,\n",
       "       1.21906760e-06, 1.36705626e-06, 9.99993920e-01, 9.99994040e-01,\n",
       "       1.23869595e-05, 5.40294801e-04, 9.99757230e-01, 1.44092262e-01,\n",
       "       1.00000000e+00, 9.99993443e-01, 9.99999523e-01, 9.99997377e-01,\n",
       "       9.72147703e-01, 6.39966129e-06, 1.30205527e-01, 9.99999762e-01,\n",
       "       9.99996781e-01, 9.99999762e-01, 5.19717275e-07, 3.31097079e-04,\n",
       "       1.94565218e-03, 9.99887586e-01, 1.96013250e-04, 1.99467323e-07,\n",
       "       9.99166727e-01, 9.99860048e-01, 5.36126947e-07, 3.32908094e-05,\n",
       "       9.99953151e-01, 2.23459047e-05, 9.99998808e-01, 1.72914192e-01,\n",
       "       9.99999881e-01, 2.29557754e-05, 2.61074310e-04, 9.97944176e-01,\n",
       "       9.99923229e-01, 9.99989390e-01, 9.93316770e-01, 9.99999404e-01,\n",
       "       6.19411410e-04, 9.99988794e-01, 9.99996662e-01, 9.32484269e-01,\n",
       "       4.05305415e-01, 9.77427900e-01, 9.99999404e-01, 9.99999404e-01,\n",
       "       9.99964237e-01, 9.18853446e-04, 2.46839985e-01, 9.97364581e-01,\n",
       "       9.99658108e-01, 9.58773959e-03, 1.19730862e-06, 1.18432592e-06,\n",
       "       9.97464657e-01, 3.67915720e-01, 1.00000000e+00, 2.23068446e-06,\n",
       "       9.99977946e-01, 9.99996781e-01, 3.92756147e-06, 3.86776228e-05,\n",
       "       9.99971986e-01, 9.99999762e-01, 5.88909534e-05, 9.99951839e-01,\n",
       "       8.69364291e-03, 9.99974847e-01, 9.99995351e-01, 1.15061455e-04,\n",
       "       9.99989867e-01, 5.51893318e-05, 8.92189855e-05, 9.99812186e-01,\n",
       "       3.51326744e-05, 9.99904513e-01, 3.63358777e-05, 5.69678093e-07,\n",
       "       2.72522029e-02, 5.72893332e-05, 9.99944687e-01, 9.99992728e-01,\n",
       "       9.96047318e-01, 2.57520378e-03, 2.03571409e-01, 7.42397130e-01,\n",
       "       9.98897910e-01, 5.94292487e-07, 9.99998808e-01, 2.61913186e-07,\n",
       "       1.00000000e+00, 1.08908571e-05, 9.99999523e-01, 2.84940720e-01,\n",
       "       2.23676625e-06, 2.05366359e-05, 9.99998689e-01, 9.99593675e-01,\n",
       "       9.99145269e-01, 9.76512074e-01, 9.66362715e-01, 3.43433901e-04,\n",
       "       9.09848571e-01, 3.68001405e-03, 3.53011251e-06, 9.99999404e-01,\n",
       "       3.94826174e-01, 1.59806419e-07, 9.99783337e-01, 1.37208544e-05,\n",
       "       2.74416467e-04, 9.99996305e-01, 1.66382324e-06, 9.99958158e-01,\n",
       "       5.52460961e-02, 3.24154535e-04, 7.92754889e-01, 1.92520076e-07,\n",
       "       9.99999166e-01, 9.99930501e-01, 9.97576654e-01, 2.20474714e-04,\n",
       "       9.99867082e-01, 8.78249228e-01, 7.74293393e-02, 9.98965979e-01,\n",
       "       9.99823511e-01, 3.73888016e-02, 9.99968290e-01, 1.17949792e-04,\n",
       "       9.99999762e-01, 3.36839520e-07, 6.47336762e-08, 9.98294175e-01,\n",
       "       6.18945342e-05, 1.61213520e-05, 9.99293566e-01, 1.60285766e-04,\n",
       "       1.57654324e-06, 9.81991827e-01, 9.99918938e-01, 1.00000000e+00,\n",
       "       9.99997497e-01, 9.99262989e-01, 9.80444789e-01, 9.99440968e-01,\n",
       "       1.75229536e-04, 9.99994874e-01, 9.99992847e-01, 9.99999642e-01,\n",
       "       9.99829412e-01, 2.59187909e-05, 2.31899844e-06, 9.00978921e-05,\n",
       "       8.88279101e-06, 2.03087006e-06, 9.99945521e-01, 1.00000000e+00,\n",
       "       9.95299041e-01, 9.99907017e-01, 4.27947185e-07, 1.74813683e-03,\n",
       "       6.17320839e-05, 3.30923917e-03, 9.99973774e-01, 1.30816697e-04,\n",
       "       9.99891758e-01, 5.62569994e-06, 1.62500029e-07, 9.99935746e-01,\n",
       "       9.99943256e-01, 1.78121170e-03, 2.73654905e-07, 9.99998689e-01,\n",
       "       1.00000000e+00, 1.54390465e-04, 9.99893546e-01, 1.70727617e-05,\n",
       "       1.51281059e-02, 3.22534675e-07, 9.99713957e-01, 5.04363769e-08,\n",
       "       4.18001378e-04, 6.86696410e-01, 1.59505963e-01, 9.99901772e-01,\n",
       "       9.99410152e-01, 6.25183642e-01, 9.99981165e-01, 1.36692226e-01,\n",
       "       9.97393847e-01, 9.99907613e-01, 8.52322728e-07, 3.56709788e-05,\n",
       "       9.99944568e-01, 9.99993443e-01, 9.84051585e-01, 3.72807868e-02,\n",
       "       5.49470494e-03, 9.99878407e-01, 9.99874711e-01, 9.99968529e-01,\n",
       "       1.51929734e-02, 9.99982476e-01, 4.58203685e-05, 9.99986053e-01,\n",
       "       9.99995708e-01, 9.99998212e-01, 3.42965620e-07, 3.13287927e-07,\n",
       "       9.99991775e-01, 9.99968171e-01, 9.89705026e-01, 9.27498102e-01,\n",
       "       9.99995828e-01, 8.59150350e-06, 9.99992251e-01, 2.67488480e-01,\n",
       "       9.99173820e-01, 9.65557396e-01, 9.52176988e-01, 4.19992796e-09,\n",
       "       4.55782720e-04, 6.27482831e-01, 9.99998331e-01, 5.01081523e-08,\n",
       "       2.49819685e-04, 9.99997258e-01, 1.83588068e-04, 8.69294349e-03,\n",
       "       2.39415863e-06, 9.99980450e-01, 9.99983311e-01, 9.97406185e-01,\n",
       "       9.99977469e-01, 9.99999166e-01, 1.73822716e-08, 2.81989912e-07,\n",
       "       1.39622221e-04, 3.67329596e-03, 9.99996185e-01, 9.99937296e-01,\n",
       "       9.99833584e-01, 3.13865312e-04, 1.42540459e-08, 7.40021514e-03,\n",
       "       1.71383334e-04, 4.39242976e-05, 9.98506486e-01, 1.32236665e-03,\n",
       "       5.99554078e-05, 2.38354914e-05, 1.82477470e-06, 8.01600618e-06,\n",
       "       9.99993443e-01, 9.94471312e-01, 9.99590933e-01, 9.99981999e-01,\n",
       "       4.90798338e-05, 9.63738799e-01, 9.99928117e-01, 2.74977060e-06,\n",
       "       2.48911092e-05, 9.99999523e-01, 9.99999285e-01, 9.99987483e-01,\n",
       "       9.99999523e-01, 9.99132216e-01, 2.37891125e-03, 9.99999285e-01,\n",
       "       9.99998808e-01, 8.34848166e-01, 6.57727696e-07, 9.99977946e-01,\n",
       "       9.99902010e-01, 9.99994516e-01, 9.96429503e-01, 9.99152303e-01,\n",
       "       9.99994278e-01, 9.97436583e-01, 9.99956727e-01, 6.10085030e-04,\n",
       "       9.99999046e-01, 6.05551293e-03, 6.20825100e-04, 1.82518534e-06,\n",
       "       1.41760920e-05, 9.99939680e-01, 9.94827092e-01, 4.24502464e-03,\n",
       "       4.14536629e-07, 2.72377074e-04, 9.99987245e-01, 9.99997020e-01,\n",
       "       2.29682072e-07, 3.83968427e-06, 8.92472883e-07, 9.99998808e-01,\n",
       "       3.22009884e-02, 9.99997854e-01, 1.24101061e-04, 1.34892727e-03,\n",
       "       4.96027451e-06, 1.00000000e+00, 1.31344586e-05, 9.96665180e-01,\n",
       "       2.96501828e-08, 9.99949694e-01, 6.97485805e-02, 9.92695451e-01,\n",
       "       9.99988079e-01, 9.99999285e-01, 9.99999285e-01, 9.68689263e-01,\n",
       "       9.99935150e-01, 1.12408385e-01, 1.01987860e-06, 9.99998569e-01,\n",
       "       1.15527399e-03, 9.99999404e-01, 8.07249380e-05, 6.72066817e-05,\n",
       "       3.92322108e-05, 6.58195794e-01, 4.46145204e-05, 1.28077678e-04,\n",
       "       9.99868035e-01, 9.99999523e-01, 3.56086937e-04, 9.99645591e-01,\n",
       "       9.99997616e-01, 9.76428092e-01, 7.39909941e-04, 9.99992609e-01,\n",
       "       9.99676347e-01, 9.99997735e-01, 5.84243071e-06, 9.99996185e-01,\n",
       "       9.99995112e-01, 9.99995828e-01, 9.99931216e-01, 1.00000000e+00,\n",
       "       9.99995947e-01, 3.35181539e-07, 9.98066247e-01, 1.00000000e+00,\n",
       "       9.99681473e-01, 1.00000000e+00, 1.95043111e-08, 5.15765169e-06,\n",
       "       6.92670408e-04, 9.99998927e-01, 2.54326678e-05, 9.99999762e-01,\n",
       "       9.99393225e-01, 9.99999285e-01, 5.77096671e-07, 9.98560607e-01,\n",
       "       7.75785168e-07, 9.99966979e-01, 3.91957536e-03, 4.86153795e-06,\n",
       "       7.84925938e-01, 9.99999404e-01, 9.66973722e-01, 2.90383381e-04,\n",
       "       6.25264656e-05, 5.10395225e-03, 6.59208235e-05, 9.80073273e-01,\n",
       "       9.99802291e-01, 9.99652505e-01, 8.44780573e-07, 2.40848721e-07,\n",
       "       2.60328434e-05, 2.47676962e-05, 1.92982952e-05, 4.34744798e-05,\n",
       "       2.76617497e-01, 9.99993443e-01, 1.31264812e-06, 1.44226096e-05,\n",
       "       9.99800861e-01, 7.86987414e-07, 8.37256493e-07, 9.28409211e-03,\n",
       "       9.99673247e-01, 9.99982953e-01, 7.76620000e-04, 6.62842691e-01,\n",
       "       1.73799857e-01, 5.55433750e-01, 9.99773204e-01, 2.46906038e-05,\n",
       "       7.12684868e-03, 9.99976158e-01, 9.99999166e-01, 9.47617531e-01,\n",
       "       9.79122639e-01, 9.99989033e-01, 1.44406170e-01, 9.94278073e-01,\n",
       "       1.00000000e+00, 9.99999642e-01, 8.30181420e-01, 9.99999046e-01,\n",
       "       3.15714180e-01, 9.97205913e-01, 9.99961376e-01, 4.99905902e-04,\n",
       "       2.77294638e-03, 9.99999285e-01, 3.04774335e-06, 1.00000000e+00,\n",
       "       1.78984963e-04, 9.98030245e-01, 1.00000000e+00, 3.52387869e-04,\n",
       "       1.14677539e-06, 1.67140213e-04, 9.98314023e-01, 3.29378878e-07,\n",
       "       7.16919089e-07, 9.99924064e-01, 2.58194941e-05, 1.95019832e-03,\n",
       "       4.38372354e-07, 1.25035673e-01, 9.99995828e-01, 9.99954820e-01,\n",
       "       2.37977438e-04, 9.99999881e-01, 2.25688498e-02, 9.59107339e-01,\n",
       "       9.98414755e-01, 2.43515206e-06, 3.44020846e-05, 9.75305557e-01,\n",
       "       9.99998927e-01, 9.80066299e-01, 9.99999523e-01, 9.99972582e-01,\n",
       "       1.62488595e-03, 7.63338089e-01, 9.99999881e-01, 5.01602608e-06,\n",
       "       9.99993801e-01, 5.63244294e-06, 9.99940395e-01, 3.12515027e-07,\n",
       "       2.55501382e-02, 9.61261630e-01, 9.99999404e-01, 9.99984860e-01,\n",
       "       9.99980450e-01, 1.09997217e-03, 4.97009787e-05, 9.99789655e-01,\n",
       "       1.00000000e+00, 9.96677876e-01, 9.25357699e-01, 2.76408885e-02,\n",
       "       1.05448062e-05, 9.99999523e-01, 9.99978781e-01, 3.76867283e-05,\n",
       "       9.56332588e-05, 9.94097710e-01, 1.51100132e-04, 8.33709294e-07,\n",
       "       3.76225123e-03, 9.97793198e-01, 3.91717441e-03, 9.99911427e-01,\n",
       "       5.93706727e-01, 9.99983549e-01, 9.99901175e-01, 1.55867679e-06,\n",
       "       2.93387752e-03, 8.28360856e-01, 1.13255759e-04, 9.71033394e-01,\n",
       "       9.99988317e-01, 3.38399346e-04, 9.62191494e-04, 9.99999762e-01,\n",
       "       9.99996424e-01, 9.99979377e-01, 1.85498653e-03, 9.99978900e-01,\n",
       "       2.03833726e-04, 9.99965429e-01, 5.17661683e-05, 1.17766956e-06,\n",
       "       1.96559381e-06, 6.51501656e-01, 9.99994636e-01, 1.26839882e-06,\n",
       "       9.99476135e-01, 1.47616316e-04, 4.06132841e-07, 9.99994993e-01],\n",
       "      dtype=float32)"
      ]
     },
     "execution_count": 91,
     "metadata": {},
     "output_type": "execute_result"
    }
   ],
   "source": [
    "pred = pred.detach().cpu().numpy()\n",
    "# pred = np.round(pred, 3)\n",
    "pred"
   ]
  },
  {
   "cell_type": "code",
   "execution_count": 92,
   "id": "opened-recognition",
   "metadata": {},
   "outputs": [],
   "source": [
    "test_df[\"prob\"] = pred\n",
    "test_df.to_csv(\"conv_all.csv\", index=False)"
   ]
  },
  {
   "cell_type": "code",
   "execution_count": 93,
   "id": "thirty-botswana",
   "metadata": {},
   "outputs": [],
   "source": [
    "upload = test_df[[\"id\", \"prob\"]]\n",
    "upload.to_csv(\"upload.csv\", index=False)"
   ]
  },
  {
   "cell_type": "code",
   "execution_count": null,
   "id": "alone-parade",
   "metadata": {},
   "outputs": [],
   "source": []
  }
 ],
 "metadata": {
  "kernelspec": {
   "display_name": "Python 3",
   "language": "python",
   "name": "python3"
  },
  "language_info": {
   "codemirror_mode": {
    "name": "ipython",
    "version": 3
   },
   "file_extension": ".py",
   "mimetype": "text/x-python",
   "name": "python",
   "nbconvert_exporter": "python",
   "pygments_lexer": "ipython3",
   "version": "3.7.9"
  }
 },
 "nbformat": 4,
 "nbformat_minor": 5
}
