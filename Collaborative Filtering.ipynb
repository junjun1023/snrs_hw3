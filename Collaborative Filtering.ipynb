{
 "cells": [
  {
   "cell_type": "code",
   "execution_count": 1,
   "id": "another-truck",
   "metadata": {},
   "outputs": [],
   "source": [
    "import os\n",
    "import numpy as np\n",
    "import pandas as pd\n",
    "\n",
    "from scipy.sparse import csr_matrix\n",
    "\n",
    "from sklearn.preprocessing import LabelEncoder, MinMaxScaler\n",
    "from sklearn.model_selection import KFold, train_test_split\n",
    "from sklearn.metrics import mean_squared_error, ndcg_score, recall_score\n",
    "from tensorflow.python.keras.preprocessing.sequence import pad_sequences"
   ]
  },
  {
   "cell_type": "code",
   "execution_count": 2,
   "id": "endless-lightweight",
   "metadata": {},
   "outputs": [],
   "source": [
    "from typical import CF\n",
    "import utils"
   ]
  },
  {
   "cell_type": "markdown",
   "id": "encouraging-stockholm",
   "metadata": {},
   "source": [
    "# Douban"
   ]
  },
  {
   "cell_type": "code",
   "execution_count": 3,
   "id": "characteristic-metallic",
   "metadata": {},
   "outputs": [],
   "source": [
    "root = os.path.join(os.getcwd(), \"DoubanBook\")\n",
    "rel_p = os.path.join(root, \"user_book.dat\")\n",
    "\n",
    "user_cnt = 13024\n",
    "item_cnt = 22347"
   ]
  },
  {
   "cell_type": "code",
   "execution_count": 4,
   "id": "eastern-invention",
   "metadata": {},
   "outputs": [
    {
     "data": {
      "text/html": [
       "<div>\n",
       "<style scoped>\n",
       "    .dataframe tbody tr th:only-of-type {\n",
       "        vertical-align: middle;\n",
       "    }\n",
       "\n",
       "    .dataframe tbody tr th {\n",
       "        vertical-align: top;\n",
       "    }\n",
       "\n",
       "    .dataframe thead th {\n",
       "        text-align: right;\n",
       "    }\n",
       "</style>\n",
       "<table border=\"1\" class=\"dataframe\">\n",
       "  <thead>\n",
       "    <tr style=\"text-align: right;\">\n",
       "      <th></th>\n",
       "      <th>cols_0</th>\n",
       "      <th>cols_1</th>\n",
       "      <th>cols_2</th>\n",
       "    </tr>\n",
       "  </thead>\n",
       "  <tbody>\n",
       "    <tr>\n",
       "      <th>0</th>\n",
       "      <td>10855</td>\n",
       "      <td>938</td>\n",
       "      <td>4</td>\n",
       "    </tr>\n",
       "    <tr>\n",
       "      <th>1</th>\n",
       "      <td>10027</td>\n",
       "      <td>3</td>\n",
       "      <td>3</td>\n",
       "    </tr>\n",
       "    <tr>\n",
       "      <th>2</th>\n",
       "      <td>741</td>\n",
       "      <td>2426</td>\n",
       "      <td>5</td>\n",
       "    </tr>\n",
       "    <tr>\n",
       "      <th>3</th>\n",
       "      <td>453</td>\n",
       "      <td>1263</td>\n",
       "      <td>4</td>\n",
       "    </tr>\n",
       "    <tr>\n",
       "      <th>4</th>\n",
       "      <td>11665</td>\n",
       "      <td>7717</td>\n",
       "      <td>5</td>\n",
       "    </tr>\n",
       "  </tbody>\n",
       "</table>\n",
       "</div>"
      ],
      "text/plain": [
       "   cols_0  cols_1  cols_2\n",
       "0   10855     938       4\n",
       "1   10027       3       3\n",
       "2     741    2426       5\n",
       "3     453    1263       4\n",
       "4   11665    7717       5"
      ]
     },
     "execution_count": 4,
     "metadata": {},
     "output_type": "execute_result"
    }
   ],
   "source": [
    "rel = utils.read_file(rel_p)\n",
    "rel.head()"
   ]
  },
  {
   "cell_type": "code",
   "execution_count": 5,
   "id": "chemical-kruger",
   "metadata": {},
   "outputs": [],
   "source": [
    "k = 5\n",
    "kf = KFold(n_splits=5)"
   ]
  },
  {
   "cell_type": "markdown",
   "id": "boolean-yukon",
   "metadata": {},
   "source": [
    "## Douban without filter"
   ]
  },
  {
   "cell_type": "code",
   "execution_count": null,
   "id": "egyptian-kansas",
   "metadata": {},
   "outputs": [
    {
     "name": "stdout",
     "output_type": "stream",
     "text": [
      "========= Fold: 1 ==========\n"
     ]
    }
   ],
   "source": [
    "fold_cnt = 0\n",
    "\n",
    "mse_list = []\n",
    "recall_list = []\n",
    "ndcg_list = []\n",
    "\n",
    "for train_index, test_index in kf.split(rel):\n",
    "    \n",
    "    fold_cnt += 1\n",
    "    print(\"========= Fold: {} ==========\".format(fold_cnt))\n",
    "    \n",
    "    test_df = rel.iloc[test_index]\n",
    "    \n",
    "    train_index, valid_index = train_test_split(train_index, test_size=0.1)\n",
    "    train_df = rel.iloc[train_index]\n",
    "    valid_df = rel.iloc[valid_index]\n",
    "    \n",
    "    train_m = csr_matrix((train_df.cols_2, (train_df.cols_0, train_df.cols_1)), shape=(user_cnt+1, item_cnt+1))\n",
    "    train_m = utils.get_rep(train_m)\n",
    "    cf = CF(R=train_m)\n",
    "    cf.train()\n",
    "    \n",
    "    preds = []\n",
    "    gts = []\n",
    "    for index, row in valid_df.iterrows():\n",
    "        u, i, r = row['cols_0'], row['cols_1'], row['cols_2']\n",
    "        pred = cf.get_rating(u, i)\n",
    "        preds.append(pred)\n",
    "        gts.append(r)\n",
    "        \n",
    "    preds = np.array(preds).reshape(-1, 1)\n",
    "    gts = np.array(gts).reshape(-1, 1)\n",
    "    \n",
    "    mse = mean_squared_error(gts, preds)\n",
    "    preds = np.where(preds >= 3, 1, 0)\n",
    "    gts = np.where(preds >=3, 1, 0)\n",
    "    recall = recall_score(gts, preds)\n",
    "    ndcg = ndcg_score(gts.reshape(1, -1), preds.reshape(1, -1))\n",
    "    \n",
    "    mse_list.append(mse)\n",
    "    recall_list.append(recall)\n",
    "    ndcg_list.append(ndcg)"
   ]
  },
  {
   "cell_type": "code",
   "execution_count": null,
   "id": "pleased-incentive",
   "metadata": {},
   "outputs": [],
   "source": [
    "sum(mse_list)/len(mse_list)"
   ]
  },
  {
   "cell_type": "code",
   "execution_count": null,
   "id": "valued-sweden",
   "metadata": {},
   "outputs": [],
   "source": [
    "sum(recall_list)/len(recall_list)"
   ]
  },
  {
   "cell_type": "code",
   "execution_count": null,
   "id": "underlying-jacket",
   "metadata": {},
   "outputs": [],
   "source": [
    "sum(ndcg_list)/len(ndcg_list)"
   ]
  },
  {
   "cell_type": "markdown",
   "id": "emerging-delay",
   "metadata": {},
   "source": [
    "## Douban with filter"
   ]
  },
  {
   "cell_type": "code",
   "execution_count": null,
   "id": "graduate-willow",
   "metadata": {},
   "outputs": [],
   "source": [
    "fold_cnt = 0\n",
    "\n",
    "mse_list = []\n",
    "recall_list = []\n",
    "ndcg_list = []\n",
    "\n",
    "rel.loc[rel['cols_2'] < 3] = 0\n",
    "\n",
    "for train_index, test_index in kf.split(rel):\n",
    "    \n",
    "    fold_cnt += 1\n",
    "    print(\"========= Fold: {} ==========\".format(fold_cnt))\n",
    "    \n",
    "    test_df = rel.iloc[test_index]\n",
    "    \n",
    "    train_index, valid_index = train_test_split(train_index, test_size=0.1)\n",
    "    train_df = rel.iloc[train_index]\n",
    "    valid_df = rel.iloc[valid_index]\n",
    "    \n",
    "    train_m = csr_matrix((train_df.cols_2, (train_df.cols_0, train_df.cols_1)), shape=(user_cnt+1, item_cnt+1))\n",
    "    train_m = utils.get_rep(train_m)\n",
    "    cf = CF(R=train_m)\n",
    "    cf.train()\n",
    "    \n",
    "    preds = []\n",
    "    gts = []\n",
    "    for index, row in valid_df.iterrows():\n",
    "        u, i, r = row['cols_0'], row['cols_1'], row['cols_2']\n",
    "        pred = cf.get_rating(u, i)\n",
    "        preds.append(pred)\n",
    "        gts.append(r)\n",
    "    preds = np.array(preds).reshape(-1, 1)\n",
    "    gts = np.array(gts).reshape(-1, 1)\n",
    "    \n",
    "    mse = mean_squared_error(gts, preds)\n",
    "    preds = np.where(preds >= 3, 1, 0)\n",
    "    gts = np.where(preds >=3, 1, 0)\n",
    "    recall = recall_score(gts, preds)\n",
    "    ndcg = ndcg_score(gts.reshape(1, -1), preds.reshape(1, -1))\n",
    "    \n",
    "    mse_list.append(mse)\n",
    "    recall_list.append(recall)\n",
    "    ndcg_list.append(ndcg)"
   ]
  },
  {
   "cell_type": "code",
   "execution_count": null,
   "id": "judicial-magnitude",
   "metadata": {},
   "outputs": [],
   "source": [
    "sum(mse_list)/len(mse_list)"
   ]
  },
  {
   "cell_type": "code",
   "execution_count": null,
   "id": "noble-excitement",
   "metadata": {},
   "outputs": [],
   "source": [
    "sum(recall_list)/len(recall_list)"
   ]
  },
  {
   "cell_type": "code",
   "execution_count": null,
   "id": "sticky-scheduling",
   "metadata": {},
   "outputs": [],
   "source": [
    "sum(ndcg_list)/len(ndcg_list)"
   ]
  },
  {
   "cell_type": "markdown",
   "id": "hungarian-pleasure",
   "metadata": {},
   "source": [
    "# Yelp"
   ]
  },
  {
   "cell_type": "code",
   "execution_count": null,
   "id": "nuclear-isolation",
   "metadata": {},
   "outputs": [],
   "source": [
    "root = os.path.join(os.getcwd(), \"Yelp\")\n",
    "rel_p = os.path.join(root, \"user_business.dat\")\n",
    "\n",
    "user_cnt = 16239\n",
    "item_cnt = 14284"
   ]
  },
  {
   "cell_type": "code",
   "execution_count": null,
   "id": "eight-violence",
   "metadata": {},
   "outputs": [],
   "source": [
    "rel = utils.read_file(rel_p)\n",
    "rel.head()"
   ]
  },
  {
   "cell_type": "code",
   "execution_count": null,
   "id": "historic-accident",
   "metadata": {},
   "outputs": [],
   "source": [
    "k = 5\n",
    "kf = KFold(n_splits=5)"
   ]
  },
  {
   "cell_type": "markdown",
   "id": "timely-roman",
   "metadata": {},
   "source": [
    "## yelp without filter"
   ]
  },
  {
   "cell_type": "code",
   "execution_count": null,
   "id": "yellow-packet",
   "metadata": {},
   "outputs": [],
   "source": [
    "fold_cnt = 0\n",
    "\n",
    "mse_list = []\n",
    "recall_list = []\n",
    "ndcg_list = []\n",
    "\n",
    "for train_index, test_index in kf.split(rel):\n",
    "    \n",
    "    fold_cnt += 1\n",
    "    print(\"========= Fold: {} ==========\".format(fold_cnt))\n",
    "    \n",
    "    test_df = rel.iloc[test_index]\n",
    "    \n",
    "    train_index, valid_index = train_test_split(train_index, test_size=0.1)\n",
    "    train_df = rel.iloc[train_index]\n",
    "    valid_df = rel.iloc[valid_index]\n",
    "    \n",
    "    train_m = csr_matrix((train_df.cols_2, (train_df.cols_0, train_df.cols_1)), shape=(user_cnt+1, item_cnt+1))\n",
    "    train_m = utils.get_rep(train_m)\n",
    "    cf = CF(R=train_m)\n",
    "    cf.train()\n",
    "    \n",
    "    preds = []\n",
    "    gts = []\n",
    "    for index, row in valid_df.iterrows():\n",
    "        u, i, r = row['cols_0'], row['cols_1'], row['cols_2']\n",
    "        pred = cf.get_rating(u, i)\n",
    "        preds.append(pred)\n",
    "        gts.append(r)\n",
    "    preds = np.array(preds).reshape(-1, 1)\n",
    "    gts = np.array(gts).reshape(-1, 1)\n",
    "    \n",
    "    mse = mean_squared_error(gts, preds)\n",
    "    preds = np.where(preds >= 3, 1, 0)\n",
    "    gts = np.where(preds >=3, 1, 0)\n",
    "    recall = recall_score(gts, preds)\n",
    "    ndcg = ndcg_score(gts.reshape(1, -1), preds.reshape(1, -1))\n",
    "    \n",
    "    mse_list.append(mse)\n",
    "    recall_list.append(recall)\n",
    "    ndcg_list.append(ndcg)"
   ]
  },
  {
   "cell_type": "code",
   "execution_count": null,
   "id": "american-helicopter",
   "metadata": {},
   "outputs": [],
   "source": [
    "sum(mse_list)/len(mse_list)"
   ]
  },
  {
   "cell_type": "code",
   "execution_count": null,
   "id": "weekly-buffalo",
   "metadata": {},
   "outputs": [],
   "source": [
    "sum(recall_list)/len(recall_list)"
   ]
  },
  {
   "cell_type": "code",
   "execution_count": null,
   "id": "stuffed-modification",
   "metadata": {},
   "outputs": [],
   "source": [
    "sum(ndcg_list)/len(ndcg_list)"
   ]
  },
  {
   "cell_type": "markdown",
   "id": "continuing-basin",
   "metadata": {},
   "source": [
    "## yelp with filter"
   ]
  },
  {
   "cell_type": "code",
   "execution_count": null,
   "id": "employed-india",
   "metadata": {},
   "outputs": [],
   "source": [
    "fold_cnt = 0\n",
    "\n",
    "mse_list = []\n",
    "recall_list = []\n",
    "ndcg_list = []\n",
    "\n",
    "rel.loc[rel['cols_2'] < 3] = 0\n",
    "\n",
    "for train_index, test_index in kf.split(rel):\n",
    "    \n",
    "    fold_cnt += 1\n",
    "    print(\"========= Fold: {} ==========\".format(fold_cnt))\n",
    "    \n",
    "    test_df = rel.iloc[test_index]\n",
    "    \n",
    "    train_index, valid_index = train_test_split(train_index, test_size=0.1)\n",
    "    train_df = rel.iloc[train_index]\n",
    "    valid_df = rel.iloc[valid_index]\n",
    "    \n",
    "    train_m = csr_matrix((train_df.cols_2, (train_df.cols_0, train_df.cols_1)), shape=(user_cnt+1, item_cnt+1))\n",
    "    train_m = utils.get_rep(train_m)\n",
    "    cf = CF(R=train_m)\n",
    "    cf.train()\n",
    "    \n",
    "    preds = []\n",
    "    gts = []\n",
    "    for index, row in valid_df.iterrows():\n",
    "        u, i, r = row['cols_0'], row['cols_1'], row['cols_2']\n",
    "        pred = cf.get_rating(u, i)\n",
    "        preds.append(pred)\n",
    "        gts.append(r)\n",
    "    preds = np.array(preds).reshape(-1, 1)\n",
    "    gts = np.array(gts).reshape(-1, 1)\n",
    "    \n",
    "    mse = mean_squared_error(gts, preds)\n",
    "    preds = np.where(preds >= 3, 1, 0)\n",
    "    gts = np.where(preds >=3, 1, 0)\n",
    "    recall = recall_score(gts, preds)\n",
    "    ndcg = ndcg_score(gts.reshape(1, -1), preds.reshape(1, -1))\n",
    "    \n",
    "    mse_list.append(mse)\n",
    "    recall_list.append(recall)\n",
    "    ndcg_list.append(ndcg)"
   ]
  },
  {
   "cell_type": "code",
   "execution_count": null,
   "id": "proof-device",
   "metadata": {},
   "outputs": [],
   "source": [
    "sum(mse_list)/len(mse_list)"
   ]
  },
  {
   "cell_type": "code",
   "execution_count": null,
   "id": "reverse-special",
   "metadata": {},
   "outputs": [],
   "source": [
    "sum(recall_list)/len(recall_list)"
   ]
  },
  {
   "cell_type": "code",
   "execution_count": null,
   "id": "developmental-occasions",
   "metadata": {},
   "outputs": [],
   "source": [
    "sum(ndcg_list)/len(ndcg_list)"
   ]
  },
  {
   "cell_type": "markdown",
   "id": "industrial-blogger",
   "metadata": {},
   "source": [
    "# Movielens"
   ]
  },
  {
   "cell_type": "code",
   "execution_count": null,
   "id": "metropolitan-startup",
   "metadata": {},
   "outputs": [],
   "source": [
    "root = os.path.join(os.getcwd(), \"Movielens\")\n",
    "rel_p = os.path.join(root, \"user_movie.dat\")\n",
    "\n",
    "user_cnt = 943\n",
    "item_cnt = 1682"
   ]
  },
  {
   "cell_type": "code",
   "execution_count": null,
   "id": "macro-touch",
   "metadata": {},
   "outputs": [],
   "source": [
    "rel = utils.read_file(rel_p)\n",
    "rel.head()"
   ]
  },
  {
   "cell_type": "code",
   "execution_count": null,
   "id": "cellular-wales",
   "metadata": {},
   "outputs": [],
   "source": [
    "k = 5\n",
    "kf = KFold(n_splits=5)"
   ]
  },
  {
   "cell_type": "markdown",
   "id": "distinguished-jacket",
   "metadata": {},
   "source": [
    "## movielens without filter"
   ]
  },
  {
   "cell_type": "code",
   "execution_count": null,
   "id": "friendly-internet",
   "metadata": {},
   "outputs": [],
   "source": [
    "fold_cnt = 0\n",
    "\n",
    "mse_list = []\n",
    "recall_list = []\n",
    "ndcg_list = []\n",
    "\n",
    "for train_index, test_index in kf.split(rel):\n",
    "    \n",
    "    fold_cnt += 1\n",
    "    print(\"========= Fold: {} ==========\".format(fold_cnt))\n",
    "    \n",
    "    test_df = rel.iloc[test_index]\n",
    "    \n",
    "    train_index, valid_index = train_test_split(train_index, test_size=0.1)\n",
    "    train_df = rel.iloc[train_index]\n",
    "    valid_df = rel.iloc[valid_index]\n",
    "    \n",
    "    train_m = csr_matrix((train_df.cols_2, (train_df.cols_0, train_df.cols_1)), shape=(user_cnt+1, item_cnt+1))\n",
    "    train_m = utils.get_rep(train_m)\n",
    "    cf = CF(R=train_m)\n",
    "    cf.train()\n",
    "    \n",
    "    preds = []\n",
    "    gts = []\n",
    "    for index, row in valid_df.iterrows():\n",
    "        u, i, r = row['cols_0'], row['cols_1'], row['cols_2']\n",
    "        pred = cf.get_rating(u, i)\n",
    "        preds.append(pred)\n",
    "        gts.append(r)\n",
    "    preds = np.array(preds).reshape(-1, 1)\n",
    "    gts = np.array(gts).reshape(-1, 1)\n",
    "    \n",
    "    mse = mean_squared_error(gts, preds)\n",
    "    preds = np.where(preds >= 3, 1, 0)\n",
    "    gts = np.where(preds >=3, 1, 0)\n",
    "    recall = recall_score(gts, preds)\n",
    "    ndcg = ndcg_score(gts.reshape(1, -1), preds.reshape(1, -1))\n",
    "    \n",
    "    mse_list.append(mse)\n",
    "    recall_list.append(recall)\n",
    "    ndcg_list.append(ndcg)"
   ]
  },
  {
   "cell_type": "code",
   "execution_count": null,
   "id": "previous-alpha",
   "metadata": {},
   "outputs": [],
   "source": [
    "sum(mse_list)/len(mse_list)"
   ]
  },
  {
   "cell_type": "code",
   "execution_count": null,
   "id": "disturbed-china",
   "metadata": {},
   "outputs": [],
   "source": [
    "sum(recall_list)/len(recall_list)"
   ]
  },
  {
   "cell_type": "code",
   "execution_count": null,
   "id": "gothic-millennium",
   "metadata": {},
   "outputs": [],
   "source": [
    "sum(ndcg_list)/len(ndcg_list)"
   ]
  },
  {
   "cell_type": "markdown",
   "id": "manufactured-blues",
   "metadata": {},
   "source": [
    "## movielens with filter"
   ]
  },
  {
   "cell_type": "code",
   "execution_count": null,
   "id": "acknowledged-chart",
   "metadata": {},
   "outputs": [],
   "source": [
    "fold_cnt = 0\n",
    "\n",
    "mse_list = []\n",
    "recall_list = []\n",
    "ndcg_list = []\n",
    "\n",
    "rel.loc[rel['cols_2'] < 3] = 0\n",
    "\n",
    "for train_index, test_index in kf.split(rel):\n",
    "    \n",
    "    fold_cnt += 1\n",
    "    print(\"========= Fold: {} ==========\".format(fold_cnt))\n",
    "    \n",
    "    test_df = rel.iloc[test_index]\n",
    "    \n",
    "    train_index, valid_index = train_test_split(train_index, test_size=0.1)\n",
    "    train_df = rel.iloc[train_index]\n",
    "    valid_df = rel.iloc[valid_index]\n",
    "    \n",
    "    train_m = csr_matrix((train_df.cols_2, (train_df.cols_0, train_df.cols_1)), shape=(user_cnt+1, item_cnt+1))\n",
    "    train_m = utils.get_rep(train_m)\n",
    "    cf = CF(R=train_m)\n",
    "    cf.train()\n",
    "    \n",
    "    preds = []\n",
    "    gts = []\n",
    "    for index, row in valid_df.iterrows():\n",
    "        u, i, r = row['cols_0'], row['cols_1'], row['cols_2']\n",
    "        pred = cf.get_rating(u, i)\n",
    "        preds.append(pred)\n",
    "        gts.append(r)\n",
    "    preds = np.array(preds).reshape(-1, 1)\n",
    "    gts = np.array(gts).reshape(-1, 1)\n",
    "    \n",
    "    mse = mean_squared_error(gts, preds)\n",
    "    preds = np.where(preds >= 3, 1, 0)\n",
    "    gts = np.where(preds >=3, 1, 0)\n",
    "    recall = recall_score(gts, preds)\n",
    "    ndcg = ndcg_score(gts.reshape(1, -1), preds.reshape(1, -1))\n",
    "    \n",
    "    mse_list.append(mse)\n",
    "    recall_list.append(recall)\n",
    "    ndcg_list.append(ndcg)"
   ]
  },
  {
   "cell_type": "code",
   "execution_count": null,
   "id": "realistic-lucas",
   "metadata": {},
   "outputs": [],
   "source": [
    "sum(mse_list)/len(mse_list)"
   ]
  },
  {
   "cell_type": "code",
   "execution_count": null,
   "id": "reliable-gilbert",
   "metadata": {},
   "outputs": [],
   "source": [
    "sum(recall_list)/len(recall_list)"
   ]
  },
  {
   "cell_type": "code",
   "execution_count": null,
   "id": "worth-reset",
   "metadata": {},
   "outputs": [],
   "source": [
    "sum(ndcg_list)/len(ndcg_list)"
   ]
  },
  {
   "cell_type": "code",
   "execution_count": null,
   "id": "grave-recruitment",
   "metadata": {},
   "outputs": [],
   "source": []
  }
 ],
 "metadata": {
  "kernelspec": {
   "display_name": "Python 3",
   "language": "python",
   "name": "python3"
  },
  "language_info": {
   "codemirror_mode": {
    "name": "ipython",
    "version": 3
   },
   "file_extension": ".py",
   "mimetype": "text/x-python",
   "name": "python",
   "nbconvert_exporter": "python",
   "pygments_lexer": "ipython3",
   "version": "3.7.9"
  }
 },
 "nbformat": 4,
 "nbformat_minor": 5
}
